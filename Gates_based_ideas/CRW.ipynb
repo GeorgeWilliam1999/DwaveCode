{
 "cells": [
  {
   "cell_type": "code",
   "execution_count": 1,
   "metadata": {},
   "outputs": [
    {
     "ename": "",
     "evalue": "",
     "output_type": "error",
     "traceback": [
      "\u001b[1;31mThe Kernel crashed while executing code in the the current cell or a previous cell. Please review the code in the cell(s) to identify a possible cause of the failure. Click <a href='https://aka.ms/vscodeJupyterKernelCrash'>here</a> for more info. View Jupyter <a href='command:jupyter.viewOutput'>log</a> for further details."
     ]
    }
   ],
   "source": [
    "import torch"
   ]
  },
  {
   "cell_type": "code",
   "execution_count": 1,
   "metadata": {},
   "outputs": [],
   "source": [
    "import pennylane as qml\n",
    "from pennylane import numpy as np\n",
    "from pennylane.optimize import AdamOptimizer"
   ]
  },
  {
   "cell_type": "code",
   "execution_count": 1,
   "metadata": {},
   "outputs": [
    {
     "ename": "NameError",
     "evalue": "name 'qml' is not defined",
     "output_type": "error",
     "traceback": [
      "\u001b[0;31m---------------------------------------------------------------------------\u001b[0m",
      "\u001b[0;31mNameError\u001b[0m                                 Traceback (most recent call last)",
      "Cell \u001b[0;32mIn[1], line 10\u001b[0m\n\u001b[1;32m      7\u001b[0m num_qubits \u001b[38;5;241m=\u001b[39m \u001b[38;5;241m5\u001b[39m\n\u001b[1;32m      9\u001b[0m \u001b[38;5;66;03m# Define the quantum device\u001b[39;00m\n\u001b[0;32m---> 10\u001b[0m dev \u001b[38;5;241m=\u001b[39m \u001b[43mqml\u001b[49m\u001b[38;5;241m.\u001b[39mdevice(\u001b[38;5;124m\"\u001b[39m\u001b[38;5;124mqiskit.aer\u001b[39m\u001b[38;5;124m\"\u001b[39m, wires\u001b[38;5;241m=\u001b[39mnum_qubits)\n\u001b[1;32m     12\u001b[0m \u001b[38;5;66;03m# Define the ansatz circuit\u001b[39;00m\n\u001b[1;32m     13\u001b[0m \u001b[38;5;28;01mdef\u001b[39;00m \u001b[38;5;21mansatz\u001b[39m(params, wires):\n",
      "\u001b[0;31mNameError\u001b[0m: name 'qml' is not defined"
     ]
    }
   ],
   "source": [
    "\n",
    "def ising_hamiltonian(num_qubits):\n",
    "    coeffs = [1.0] * (num_qubits - 1)\n",
    "    obs_list = [qml.PauliZ(i) @ qml.PauliZ(i + 1) for i in range(num_qubits - 1)]\n",
    "    return qml.Hamiltonian(coeffs, obs_list)\n",
    "\n",
    "# Define the number of qubits\n",
    "num_qubits = 5\n",
    "\n",
    "# Define the quantum device\n",
    "dev = qml.device(\"qiskit.aer\", wires=num_qubits)\n",
    "\n",
    "# Define the ansatz circuit\n",
    "def ansatz(params, wires):\n",
    "    for i in range(0, len(wires), 2):\n",
    "        qml.RY(params[i], wires=wires[i])\n",
    "        if i + 1 < len(wires):\n",
    "            qml.RY(params[i + 1], wires=wires[i + 1])\n",
    "            qml.CNOT(wires=[wires[i], wires[i + 1]])\n",
    "\n",
    "# Define the quantum node\n",
    "@qml.qnode(dev)\n",
    "def circuit(params):\n",
    "    ansatz(params, wires=range(num_qubits))\n",
    "    return qml.expval(ising_hamiltonian(num_qubits))\n",
    "\n",
    "# Define the cost function\n",
    "def cost(params):\n",
    "    return circuit(params)\n",
    "\n",
    "# Set up the optimizer\n",
    "opt = AdamOptimizer(0.1)\n",
    "\n",
    "# Initialize random parameters\n",
    "params = np.random.rand(2 * num_qubits - 1)\n",
    "\n",
    "# Optimize the parameters to find the ground state\n",
    "iterations = 10000\n",
    "for i in range(iterations):\n",
    "    params = opt.step(cost, params)\n",
    "    if i % 10 == 0:\n",
    "        energy = circuit(params)\n",
    "        print(f\"Iteration {i+1}/{iterations} - Current energy: {energy}\")\n",
    "\n",
    "# Print the final result\n",
    "final_energy = circuit(params)\n",
    "print(f\"Optimized parameters: {params}\")\n",
    "print(f\"Ground state energy: {final_energy}\")\n",
    "\n",
    "# Find states at different energies\n",
    "energies_to_check = [-2.0, -1.5, -1.0, -0.5]\n",
    "for target_energy in energies_to_check:\n",
    "    params = opt.step(lambda p: (circuit(p) - target_energy)**2, params)\n",
    "    state = dev._state\n",
    "    print(f\"Target energy: {target_energy}\")\n",
    "    print(f\"State at target energy: {state}\")"
   ]
  },
  {
   "cell_type": "code",
   "execution_count": 3,
   "metadata": {},
   "outputs": [],
   "source": [
    "import pennylane as qml\n",
    "# import torch\n",
    "# from torch.autograd import Variable\n",
    "import itertools"
   ]
  },
  {
   "cell_type": "code",
   "execution_count": 4,
   "metadata": {},
   "outputs": [
    {
     "name": "stdout",
     "output_type": "stream",
     "text": [
      "1\n",
      "2\n",
      "3\n"
     ]
    },
    {
     "ename": "TypeError",
     "evalue": "unsupported operand type(s) for @: 'Hamiltonian' and 'int'",
     "output_type": "error",
     "traceback": [
      "\u001b[0;31m---------------------------------------------------------------------------\u001b[0m",
      "\u001b[0;31mTypeError\u001b[0m                                 Traceback (most recent call last)",
      "Cell \u001b[0;32mIn[4], line 72\u001b[0m\n\u001b[1;32m     69\u001b[0m grid_size \u001b[38;5;241m=\u001b[39m \u001b[38;5;241m2\u001b[39m\n\u001b[1;32m     71\u001b[0m \u001b[38;5;66;03m# Generate the Hamiltonian\u001b[39;00m\n\u001b[0;32m---> 72\u001b[0m hamiltonian \u001b[38;5;241m=\u001b[39m \u001b[43mgenerate_graph_hamiltonian\u001b[49m\u001b[43m(\u001b[49m\u001b[43mstates\u001b[49m\u001b[43m,\u001b[49m\u001b[43m \u001b[49m\u001b[43medge_energies\u001b[49m\u001b[43m,\u001b[49m\u001b[43m \u001b[49m\u001b[43mgrid_size\u001b[49m\u001b[43m)\u001b[49m\n\u001b[1;32m     74\u001b[0m \u001b[38;5;66;03m# Initialize the optimizer\u001b[39;00m\n\u001b[1;32m     75\u001b[0m optimizer \u001b[38;5;241m=\u001b[39m torch\u001b[38;5;241m.\u001b[39moptim\u001b[38;5;241m.\u001b[39mAdam([Variable(torch\u001b[38;5;241m.\u001b[39mrandn(num_vertices, requires_grad\u001b[38;5;241m=\u001b[39m\u001b[38;5;28;01mTrue\u001b[39;00m))], lr\u001b[38;5;241m=\u001b[39m\u001b[38;5;241m0.1\u001b[39m)\n",
      "Cell \u001b[0;32mIn[4], line 30\u001b[0m, in \u001b[0;36mgenerate_graph_hamiltonian\u001b[0;34m(states, edge_energies, grid_size)\u001b[0m\n\u001b[1;32m     27\u001b[0m     op1 \u001b[38;5;241m=\u001b[39m qml\u001b[38;5;241m.\u001b[39mPauliZ(vertex_index)\n\u001b[1;32m     28\u001b[0m     op2 \u001b[38;5;241m=\u001b[39m qml\u001b[38;5;241m.\u001b[39mPauliZ(right_vertex_index)\n\u001b[0;32m---> 30\u001b[0m     hamiltonian_ops\u001b[38;5;241m.\u001b[39mappend(\u001b[43mstate_pair\u001b[49m\u001b[43m[\u001b[49m\u001b[38;5;241;43m0\u001b[39;49m\u001b[43m]\u001b[49m\u001b[43m \u001b[49m\u001b[38;5;241;43m*\u001b[39;49m\u001b[43m \u001b[49m\u001b[43mop1\u001b[49m\u001b[43m \u001b[49m\u001b[38;5;241;43m@\u001b[39;49m\u001b[43m \u001b[49m\u001b[43mstate_pair\u001b[49m\u001b[43m[\u001b[49m\u001b[38;5;241;43m1\u001b[39;49m\u001b[43m]\u001b[49m \u001b[38;5;241m*\u001b[39m op2)\n\u001b[1;32m     31\u001b[0m     hamiltonian_coeffs\u001b[38;5;241m.\u001b[39mappend(edge_energy)\n\u001b[1;32m     33\u001b[0m \u001b[38;5;66;03m# Bottom edge\u001b[39;00m\n",
      "\u001b[0;31mTypeError\u001b[0m: unsupported operand type(s) for @: 'Hamiltonian' and 'int'"
     ]
    }
   ],
   "source": [
    "\n",
    "\n",
    "print('1')\n",
    "\n",
    "def generate_graph_hamiltonian(states, edge_energies, grid_size):\n",
    "    num_vertices = grid_size**2\n",
    "\n",
    "    hamiltonian_coeffs = []\n",
    "    hamiltonian_ops = []\n",
    "\n",
    "    # Add terms for the vertices (state terms)\n",
    "    for vertex_state in states:\n",
    "        for vertex_index in range(num_vertices):\n",
    "            op = qml.PauliZ(vertex_index)\n",
    "            hamiltonian_ops.append(vertex_state * op)\n",
    "            hamiltonian_coeffs.append(1.0)\n",
    "\n",
    "    # Add terms for the edges (edge energy terms)\n",
    "    for row in range(grid_size):\n",
    "        for col in range(grid_size):\n",
    "            vertex_index = row * grid_size + col\n",
    "\n",
    "            # Right edge\n",
    "            if col < grid_size - 1:\n",
    "                right_vertex_index = row * grid_size + (col + 1)\n",
    "                state_pair = (states[vertex_index], states[right_vertex_index])\n",
    "                edge_energy = edge_energies.get(state_pair, 0.0)\n",
    "\n",
    "                op1 = qml.PauliZ(vertex_index)\n",
    "                op2 = qml.PauliZ(right_vertex_index)\n",
    "\n",
    "                hamiltonian_ops.append(state_pair[0] * op1 @ state_pair[1] * op2)\n",
    "                hamiltonian_coeffs.append(edge_energy)\n",
    "\n",
    "            # Bottom edge\n",
    "            if row < grid_size - 1:\n",
    "                bottom_vertex_index = (row + 1) * grid_size + col\n",
    "                state_pair = (states[vertex_index], states[bottom_vertex_index])\n",
    "                edge_energy = edge_energies.get(state_pair, 0.0)\n",
    "\n",
    "                op1 = qml.PauliZ(vertex_index)\n",
    "                op2 = qml.PauliZ(bottom_vertex_index)\n",
    "\n",
    "                hamiltonian_ops.append(state_pair[0] * op1 @ state_pair[1] * op2)\n",
    "                hamiltonian_coeffs.append(edge_energy)\n",
    "\n",
    "    return qml.Hamiltonian(coeffs=hamiltonian_coeffs, observables=hamiltonian_ops)\n",
    "\n",
    "print(2)\n",
    "def extract_vertex_colors(state, states):\n",
    "    vertex_colors = []\n",
    "\n",
    "    # Extract the color for each vertex\n",
    "    for vertex_index, vertex_state in enumerate(states):\n",
    "        op = qml.PauliZ(vertex_index)\n",
    "        expectation_value = qml.expval(op)(state)\n",
    "        color = int(expectation_value.item())\n",
    "        vertex_colors.append((vertex_index, color))\n",
    "\n",
    "    return vertex_colors\n",
    "print(3)\n",
    "# Define the possible states for each vertex\n",
    "states = [1, 2, 3]\n",
    "\n",
    "# Define the energy dictionary for edges\n",
    "edge_energies = {(1, 1): 0.1, (1, 2): 0.2, (1, 3): 0.3,\n",
    "                 (2, 1): 0.2, (2, 2): -0.1, (2, 3): 0.4,\n",
    "                 (3, 1): 0.3, (3, 2): 0.4, (3, 3): -0.2}\n",
    "\n",
    "# Define the grid size\n",
    "grid_size = 2\n",
    "\n",
    "# Generate the Hamiltonian\n",
    "hamiltonian = generate_graph_hamiltonian(states, edge_energies, grid_size)\n",
    "\n",
    "# Initialize the optimizer\n",
    "optimizer = torch.optim.Adam([Variable(torch.randn(num_vertices, requires_grad=True))], lr=0.1)\n",
    "\n",
    "# Number of optimization steps\n",
    "steps = 100\n",
    "\n",
    "print('hello')\n",
    "# Optimization loop to find ground states\n",
    "for i in range(steps):\n",
    "    optimizer.zero_grad()\n",
    "    params = optimizer.param_groups[0]['params']\n",
    "    current_energy = qml.expval(hamiltonian)(params)\n",
    "\n",
    "    # Define a cost function as the energy\n",
    "    cost = current_energy\n",
    "\n",
    "    cost.backward()\n",
    "    optimizer.step()\n",
    "\n",
    "    if (i + 1) % 10 == 0:\n",
    "        print(f\"Step {i + 1}/{steps} - Energy: {current_energy.item()}\")\n",
    "\n",
    "# Extract the optimized parameters\n",
    "optimal_params = optimizer.param_groups[0]['params'][0].detach().numpy()\n",
    "\n",
    "# Create a PennyLane QNode with the optimal parameters\n",
    "@qml.qnode(dev, interface=\"torch\")\n",
    "def quantum_circuit(params):\n",
    "    for i in range(num_vertices):\n",
    "        qml.RX(params[i], wires=i)\n",
    "    return qml.expval(qml.PauliZ(0))\n",
    "\n",
    "# Run the quantum circuit with the optimal parameters\n",
    "state = quantum_circuit(optimal_params)\n",
    "\n",
    "# Extract vertex colors\n",
    "vertex_colors = extract_vertex_colors(state, states)\n",
    "\n",
    "# Print the results\n",
    "print(\"\\nOptimal Parameters:\", optimal_params)\n",
    "print(\"Ground State Energy:\", current_energy.item())\n",
    "print(\"Vertex Colors:\", vertex_colors)\n"
   ]
  },
  {
   "cell_type": "code",
   "execution_count": null,
   "metadata": {},
   "outputs": [
    {
     "ename": "",
     "evalue": "",
     "output_type": "error",
     "traceback": [
      "\u001b[1;31mThe Kernel crashed while executing code in the the current cell or a previous cell. Please review the code in the cell(s) to identify a possible cause of the failure. Click <a href='https://aka.ms/vscodeJupyterKernelCrash'>here</a> for more info. View Jupyter <a href='command:jupyter.viewOutput'>log</a> for further details."
     ]
    }
   ],
   "source": []
  },
  {
   "cell_type": "code",
   "execution_count": null,
   "metadata": {},
   "outputs": [],
   "source": [
    "import networkx as nx\n",
    "import matplotlib.pyplot as plt\n",
    "\n",
    "def plot_colored_graph(vertex_colors, edge_energies, grid_size):\n",
    "    G = nx.grid_2d_graph(grid_size, grid_size)\n",
    "    pos = {(x, y): (y, -x) for x, y in G.nodes()}\n",
    "\n",
    "    # Plot edges with edge energies as labels\n",
    "    edge_labels = {(i, j): edge_energies.get((vertex_colors[i][1], vertex_colors[j][1]), '')\n",
    "                   for i, j in G.edges()}\n",
    "    nx.draw_networkx_edge_labels(G, pos, edge_labels=edge_labels, font_color='red')\n",
    "\n",
    "    # Plot vertices with colors\n",
    "    node_colors = [vertex_colors[i][1] for i in range(len(vertex_colors))]\n",
    "    nx.draw(G, pos, with_labels=True, node_color=node_colors, cmap=plt.cm.get_cmap('viridis'))\n",
    "\n",
    "    plt.show()\n",
    "\n",
    "# Assuming you have the vertex_colors from the previous code\n",
    "plot_colored_graph(vertex_colors, edge_energies, grid_size)\n"
   ]
  },
  {
   "cell_type": "code",
   "execution_count": null,
   "metadata": {},
   "outputs": [],
   "source": []
  },
  {
   "cell_type": "code",
   "execution_count": null,
   "metadata": {},
   "outputs": [],
   "source": []
  },
  {
   "cell_type": "code",
   "execution_count": null,
   "metadata": {},
   "outputs": [],
   "source": []
  },
  {
   "cell_type": "code",
   "execution_count": null,
   "metadata": {},
   "outputs": [],
   "source": []
  },
  {
   "cell_type": "code",
   "execution_count": null,
   "metadata": {},
   "outputs": [],
   "source": []
  },
  {
   "cell_type": "code",
   "execution_count": null,
   "metadata": {},
   "outputs": [],
   "source": []
  },
  {
   "cell_type": "code",
   "execution_count": null,
   "metadata": {},
   "outputs": [],
   "source": []
  }
 ],
 "metadata": {
  "kernelspec": {
   "display_name": "Q_env",
   "language": "python",
   "name": "python3"
  },
  "language_info": {
   "codemirror_mode": {
    "name": "ipython",
    "version": 3
   },
   "file_extension": ".py",
   "mimetype": "text/x-python",
   "name": "python",
   "nbconvert_exporter": "python",
   "pygments_lexer": "ipython3",
   "version": "3.10.6"
  }
 },
 "nbformat": 4,
 "nbformat_minor": 2
}
