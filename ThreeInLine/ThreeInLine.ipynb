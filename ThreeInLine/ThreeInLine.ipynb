{
 "cells": [
  {
   "cell_type": "code",
   "execution_count": 36,
   "metadata": {},
   "outputs": [],
   "source": [
    "#Impots for QUBO probelm\n",
    "import numpy as np\n",
    "import pandas as pd\n",
    "import matplotlib as plt\n",
    "from itertools import product\n"
   ]
  },
  {
   "cell_type": "markdown",
   "metadata": {},
   "source": [
    "Generate all of the possible lines from cart coords, currently doesnt encode vertical lines."
   ]
  },
  {
   "cell_type": "code",
   "execution_count": 56,
   "metadata": {},
   "outputs": [],
   "source": [
    "def get_skew_lines(n):\n",
    "    #Get list of cart coords\n",
    "    xs = np.linspace(0,n,n,endpoint = False)\n",
    "    ys = np.linspace(0,n,n,endpoint = False)\n",
    "    X = product(xs,ys)\n",
    "    X = np.array(list(X))\n",
    "\n",
    "\n",
    "    lines = []\n",
    "    for k in range(X.shape[0]):\n",
    "        for d in range(k,X.shape[0]):\n",
    "            if X[k][0]-X[d][0] != 0 and X[k][1]-X[d][1] != 0:\n",
    "                grad = (X[k][1]-X[d][1])/(X[k][0]-X[d][0])\n",
    "                y_intercept = X[k][1] - grad * X[k][0]\n",
    "                line = (grad,y_intercept)\n",
    "                lines.append(line)\n",
    "    lines = np.array(lines)\n",
    "    return lines\n",
    "\n",
    "lines = get_skew_lines(20)"
   ]
  },
  {
   "cell_type": "code",
   "execution_count": 57,
   "metadata": {},
   "outputs": [],
   "source": [
    "def eqn_sat(i,j,a,b,n):\n",
    "    if j - a*i - b == 0 and i < n and j < n:\n",
    "        return 1"
   ]
  },
  {
   "cell_type": "code",
   "execution_count": 64,
   "metadata": {},
   "outputs": [],
   "source": [
    "n = 20\n",
    "def get_Q(n,lines):\n",
    "    Q = np.zeros((n**2,n**2))\n",
    "    checks = 0\n",
    "    count = 0\n",
    "    i_list = np.linspace(0,n,n,endpoint = False)\n",
    "    j_list = np.linspace(0,n,n,endpoint = False)\n",
    "\n",
    "    #Sum over all skew lines.\n",
    "    for p in lines:\n",
    "        for i in i_list:\n",
    "            for j in j_list:\n",
    "                checks += 1\n",
    "                print(checks)\n",
    "                if eqn_sat(i,j,p[0],p[1],n) == 1:\n",
    "                    \n",
    "                    count += 1\n",
    "    print(count)\n",
    "    return count,checks"
   ]
  },
  {
   "cell_type": "code",
   "execution_count": 67,
   "metadata": {},
   "outputs": [
    {
     "ename": "KeyboardInterrupt",
     "evalue": "",
     "output_type": "error",
     "traceback": [
      "\u001b[0;31m---------------------------------------------------------------------------\u001b[0m",
      "\u001b[0;31mKeyboardInterrupt\u001b[0m                         Traceback (most recent call last)",
      "\u001b[1;32m/Users/georgescriven/Documents/GitHub/DwaveCode/ThreeInLine/ThreeInLine.ipynb Cell 6\u001b[0m in \u001b[0;36m<cell line: 1>\u001b[0;34m()\u001b[0m\n\u001b[0;32m----> <a href='vscode-notebook-cell:/Users/georgescriven/Documents/GitHub/DwaveCode/ThreeInLine/ThreeInLine.ipynb#X11sZmlsZQ%3D%3D?line=0'>1</a>\u001b[0m count, checks \u001b[39m=\u001b[39m get_Q(n,lines)\n",
      "\u001b[1;32m/Users/georgescriven/Documents/GitHub/DwaveCode/ThreeInLine/ThreeInLine.ipynb Cell 6\u001b[0m in \u001b[0;36mget_Q\u001b[0;34m(n, lines)\u001b[0m\n\u001b[1;32m     <a href='vscode-notebook-cell:/Users/georgescriven/Documents/GitHub/DwaveCode/ThreeInLine/ThreeInLine.ipynb#X11sZmlsZQ%3D%3D?line=11'>12</a>\u001b[0m         \u001b[39mfor\u001b[39;00m j \u001b[39min\u001b[39;00m j_list:\n\u001b[1;32m     <a href='vscode-notebook-cell:/Users/georgescriven/Documents/GitHub/DwaveCode/ThreeInLine/ThreeInLine.ipynb#X11sZmlsZQ%3D%3D?line=12'>13</a>\u001b[0m             checks \u001b[39m+\u001b[39m\u001b[39m=\u001b[39m \u001b[39m1\u001b[39m\n\u001b[0;32m---> <a href='vscode-notebook-cell:/Users/georgescriven/Documents/GitHub/DwaveCode/ThreeInLine/ThreeInLine.ipynb#X11sZmlsZQ%3D%3D?line=13'>14</a>\u001b[0m             \u001b[39mif\u001b[39;00m eqn_sat(i,j,p[\u001b[39m0\u001b[39;49m],p[\u001b[39m1\u001b[39;49m],n) \u001b[39m==\u001b[39m \u001b[39m1\u001b[39m:\n\u001b[1;32m     <a href='vscode-notebook-cell:/Users/georgescriven/Documents/GitHub/DwaveCode/ThreeInLine/ThreeInLine.ipynb#X11sZmlsZQ%3D%3D?line=15'>16</a>\u001b[0m                 count \u001b[39m+\u001b[39m\u001b[39m=\u001b[39m \u001b[39m1\u001b[39m\n\u001b[1;32m     <a href='vscode-notebook-cell:/Users/georgescriven/Documents/GitHub/DwaveCode/ThreeInLine/ThreeInLine.ipynb#X11sZmlsZQ%3D%3D?line=16'>17</a>\u001b[0m \u001b[39mprint\u001b[39m(count)\n",
      "\u001b[1;32m/Users/georgescriven/Documents/GitHub/DwaveCode/ThreeInLine/ThreeInLine.ipynb Cell 6\u001b[0m in \u001b[0;36meqn_sat\u001b[0;34m(i, j, a, b, n)\u001b[0m\n\u001b[0;32m----> <a href='vscode-notebook-cell:/Users/georgescriven/Documents/GitHub/DwaveCode/ThreeInLine/ThreeInLine.ipynb#X11sZmlsZQ%3D%3D?line=0'>1</a>\u001b[0m \u001b[39mdef\u001b[39;00m \u001b[39meqn_sat\u001b[39m(i,j,a,b,n):\n\u001b[1;32m      <a href='vscode-notebook-cell:/Users/georgescriven/Documents/GitHub/DwaveCode/ThreeInLine/ThreeInLine.ipynb#X11sZmlsZQ%3D%3D?line=1'>2</a>\u001b[0m     \u001b[39mif\u001b[39;00m j \u001b[39m-\u001b[39m a\u001b[39m*\u001b[39mi \u001b[39m-\u001b[39m b \u001b[39m==\u001b[39m \u001b[39m0\u001b[39m \u001b[39mand\u001b[39;00m i \u001b[39m<\u001b[39m n \u001b[39mand\u001b[39;00m j \u001b[39m<\u001b[39m n:\n\u001b[1;32m      <a href='vscode-notebook-cell:/Users/georgescriven/Documents/GitHub/DwaveCode/ThreeInLine/ThreeInLine.ipynb#X11sZmlsZQ%3D%3D?line=2'>3</a>\u001b[0m         \u001b[39mreturn\u001b[39;00m \u001b[39m1\u001b[39m\n",
      "\u001b[0;31mKeyboardInterrupt\u001b[0m: "
     ]
    }
   ],
   "source": [
    "count, checks = get_Q(n,lines)"
   ]
  },
  {
   "cell_type": "code",
   "execution_count": null,
   "metadata": {},
   "outputs": [
    {
     "ename": "NameError",
     "evalue": "name 'checks' is not defined",
     "output_type": "error",
     "traceback": [
      "\u001b[0;31m---------------------------------------------------------------------------\u001b[0m",
      "\u001b[0;31mNameError\u001b[0m                                 Traceback (most recent call last)",
      "\u001b[1;32m/Users/georgescriven/Documents/GitHub/DwaveCode/ThreeInLine/ThreeInLine.ipynb Cell 7\u001b[0m in \u001b[0;36m<cell line: 1>\u001b[0;34m()\u001b[0m\n\u001b[0;32m----> <a href='vscode-notebook-cell:/Users/georgescriven/Documents/GitHub/DwaveCode/ThreeInLine/ThreeInLine.ipynb#X14sZmlsZQ%3D%3D?line=0'>1</a>\u001b[0m checks\n",
      "\u001b[0;31mNameError\u001b[0m: name 'checks' is not defined"
     ]
    }
   ],
   "source": [
    "checks"
   ]
  },
  {
   "cell_type": "code",
   "execution_count": null,
   "metadata": {},
   "outputs": [],
   "source": []
  }
 ],
 "metadata": {
  "kernelspec": {
   "display_name": "Python 3.8.3 ('base')",
   "language": "python",
   "name": "python3"
  },
  "language_info": {
   "codemirror_mode": {
    "name": "ipython",
    "version": 3
   },
   "file_extension": ".py",
   "mimetype": "text/x-python",
   "name": "python",
   "nbconvert_exporter": "python",
   "pygments_lexer": "ipython3",
   "version": "3.8.3"
  },
  "orig_nbformat": 4,
  "vscode": {
   "interpreter": {
    "hash": "b60fce4d6021e5796dbda0941e38e0daefa5ebd49267d685e38e9ad40ea2f6d5"
   }
  }
 },
 "nbformat": 4,
 "nbformat_minor": 2
}
