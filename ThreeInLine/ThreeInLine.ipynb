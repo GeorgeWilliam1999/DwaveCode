{
 "cells": [
  {
   "cell_type": "code",
   "execution_count": 62,
   "metadata": {},
   "outputs": [],
   "source": [
    "#Dwave imports\n",
    "from dwave.system.samplers import DWaveSampler\n",
    "from dwave.system.composites import EmbeddingComposite\n",
    "import dimod\n",
    "\n",
    "#Impots for QUBO probelm\n",
    "import numpy as np\n",
    "from numpy import linalg as LA\n",
    "import pandas as pd\n",
    "import matplotlib as plt\n",
    "import itertools\n",
    "from itertools import product\n",
    "from matplotlib import pyplot as plt\n"
   ]
  },
  {
   "cell_type": "markdown",
   "metadata": {},
   "source": [
    "Generate all of the possible lines from cart coords, currently doesnt encode vertical lines. And the QUBO matrix. There are two version of the QUBO matrix, the first penalises acceptable skew lines and the latter is a minor improvment. Details in the notebook."
   ]
  },
  {
   "cell_type": "code",
   "execution_count": null,
   "metadata": {},
   "outputs": [],
   "source": [
    "#Find all fo the lines to optimise over\n",
    "def get_skew_lines(n):\n",
    "    #Get list of cart coords\n",
    "    xs = np.linspace(0,n,n,endpoint = False)\n",
    "    ys = np.linspace(0,n,n,endpoint = False)\n",
    "    X = product(xs,ys)\n",
    "    X = np.array(list(X))\n",
    "    #dx,dy,y_intercept\n",
    "\n",
    "    lines = []\n",
    "    for k in range(X.shape[0]):\n",
    "        for d in range(k,X.shape[0]):\n",
    "            if X[k][0]-X[d][0] != 0 and X[k][1]-X[d][1] != 0:\n",
    "                grad = (X[k][1]-X[d][1])/(X[k][0]-X[d][0])\n",
    "                y_intercept = X[k][1] - grad * X[k][0]\n",
    "                line = (grad,y_intercept)\n",
    "                lines.append(line)\n",
    "    lines = np.array(lines)\n",
    "    return lines\n",
    "\n",
    "#Check if a point is on a line (l belongs to delta_l)\n",
    "def delta_l(i,j,a,b,n):\n",
    "    if np.round(j - a*i - b, 1) == 0 and i < n and j < n:\n",
    "        return True\n",
    "    else: \n",
    "        return False\n",
    "\n",
    "\n",
    "def get_Q(n,lines,alpha,beta,gamma,omega):\n",
    "    Q = np.zeros((n**2,n**2))\n",
    "    rows = np.linspace(0,n,n,endpoint = False, dtype = 'int32')\n",
    "    cols = np.linspace(0,n,n,endpoint = False, dtype = 'int32')\n",
    "\n",
    "#1\n",
    "    for i in cols:\n",
    "        for j in rows:\n",
    "            for s in rows:\n",
    "                Q[int(i*n+j),int(i*n+s)] += alpha\n",
    "#2\n",
    "    for j in rows:\n",
    "        for i in cols:\n",
    "            for r in cols:\n",
    "                Q[int(i*n+j),int(r*n+j)] += beta\n",
    "#3\n",
    "    for l in lines:\n",
    "        a = l[0]\n",
    "        b = l[1]\n",
    "        for i in cols:\n",
    "            for j in rows:\n",
    "                for r in cols:\n",
    "                    for s in rows:\n",
    "                        if delta_l(i,j,a,b,n) & delta_l(r,s,a,b,n):\n",
    "                            Q[int(i*n+j),int(r*n+s)] += gamma\n",
    "#4\n",
    "    for i in rows:\n",
    "        for j in cols:\n",
    "            Q[int(i*n+j),int(i*n+j)] -=4*(alpha + beta)\n",
    "#5\n",
    "    for l in lines:\n",
    "        a = l[0]\n",
    "        b = l[1]\n",
    "        for i in cols:\n",
    "            for j in rows:\n",
    "                if delta_l(i,j,a,b,n):\n",
    "                    Q[int(i*n+j),int(i*n+j)] -= 4*gamma\n",
    "#6\n",
    "    for i in cols:\n",
    "        for j in rows:\n",
    "            Q[int(i*n+j),int(i*n+j)] -= 4 * n\n",
    "            for r in cols:\n",
    "                for s in rows:\n",
    "                    Q[int(i*n+j),int(r*n+s)] += omega\n",
    "    return Q\n",
    "\n",
    "\n",
    "\n",
    "def get_Q_rev(n,lines,alpha,beta,gamma,omega):\n",
    "\n",
    "    Q = np.zeros((n**2,n**2))\n",
    "    rows = np.linspace(0,n,n,endpoint = False, dtype = 'int32')\n",
    "    cols = np.linspace(0,n,n,endpoint = False, dtype = 'int32')\n",
    "\n",
    "\n",
    "    #Vertical lines\n",
    "    for i in cols:\n",
    "        for j in rows:\n",
    "            Q[i*n+j,i*n+j] -= 4*alpha\n",
    "            for s in rows:\n",
    "                Q[i*n+j,i*n+s] += alpha\n",
    "\n",
    "    \n",
    "    #Horizontal lines:\n",
    "    for j in rows:\n",
    "        for i in cols:\n",
    "            Q[i*n+j,i*n+j] -= 4*beta\n",
    "            for r in cols:\n",
    "                Q[i*n+j,r*n+j] += beta\n",
    "\n",
    "    #Skew lines\n",
    "    for l in lines:\n",
    "        a = l[0]\n",
    "        b = l[0]\n",
    "        for i in cols:\n",
    "            for i in rows:\n",
    "                if delta_l(i,j,a,b,n):\n",
    "                    Q[i*n+j,i*n+j] -= 7*gamma\n",
    "                for r in cols:\n",
    "                    for s in rows:\n",
    "                        if delta_l(i,j,a,b,n) and delta_l(r,s,a,b,n):\n",
    "                            Q[i*n+j,r*n+s] += 3 * gamma\n",
    "    return Q\n",
    "\n",
    "\n",
    "\n",
    "\n"
   ]
  },
  {
   "cell_type": "markdown",
   "metadata": {},
   "source": [
    "The above function generates the QUBO matrix, details in my notebook."
   ]
  },
  {
   "cell_type": "code",
   "execution_count": null,
   "metadata": {},
   "outputs": [],
   "source": [
    "def get_lowest_eval(Q):\n",
    "    w,v = LA.eig(Q)\n",
    "    g = v[np.argmin(w)]\n",
    "    print('The lowest energy is' , w[np.argmin(w)])\n",
    "    return g"
   ]
  },
  {
   "cell_type": "code",
   "execution_count": null,
   "metadata": {},
   "outputs": [],
   "source": [
    "def get_bin_list(n):\n",
    "    bin_list = np.array(list(map(list, itertools.product([0, 1], repeat=n**2))))[1:]\n",
    "    return bin_list\n",
    "\n",
    "bin_list = get_bin_list(n)"
   ]
  },
  {
   "cell_type": "code",
   "execution_count": null,
   "metadata": {},
   "outputs": [],
   "source": [
    "bin_list.shape"
   ]
  },
  {
   "cell_type": "code",
   "execution_count": null,
   "metadata": {},
   "outputs": [],
   "source": [
    "np.savetxt('binary_string',bin_list,delimiter = ',') #run later"
   ]
  },
  {
   "cell_type": "code",
   "execution_count": null,
   "metadata": {},
   "outputs": [],
   "source": [
    "def get_lowest_bitstring(bin_list,Q):\n",
    "    energies = []\n",
    "    for i in range(bin_list.shape[0]):\n",
    "        E = bin_list[i].T @ Q @ bin_list[i]\n",
    "        energies.append(E)\n",
    "    b = bin_list[np.argmin(energies)]\n",
    "    print('The lowest energy is' , energies[np.argmin(energies)])\n",
    "    return b,energies"
   ]
  },
  {
   "cell_type": "code",
   "execution_count": null,
   "metadata": {},
   "outputs": [],
   "source": [
    "def make_img_bit_string(b):\n",
    "    plt.imshow(b.reshape((n,n)))\n",
    "    plt.show()\n",
    "    print(b)"
   ]
  },
  {
   "cell_type": "code",
   "execution_count": null,
   "metadata": {},
   "outputs": [],
   "source": [
    "n = 5\n",
    "lines = np.unique(get_skew_lines(n),axis = 0)\n",
    "Q_1 = get_Q(n,lines,1,1,1,1)\n",
    "Q_1_rev= get_Q_rev(n,lines,1,1,1,1)\n",
    "\n",
    "Q_2 = get_Q(n,lines,2,2,1,1)\n",
    "Q_2_rev = get_Q_rev(n,lines,2,2,1,1)\n",
    "\n",
    "Q_3 = get_Q(n,lines,1,1,5,1)\n",
    "Q_3_rev = get_Q_rev(n,lines,1,1,5,1)\n"
   ]
  },
  {
   "cell_type": "code",
   "execution_count": null,
   "metadata": {},
   "outputs": [],
   "source": [
    "ground_string_1,energies_1 = get_lowest_bitstring(bin_list,Q_1)\n",
    "ground_string_1_rev,energies_1_rev = get_lowest_bitstring(bin_list,Q_1_rev)\n",
    "make_img_bit_string(ground_string_1)\n",
    "make_img_bit_string(ground_string_1_rev)\n"
   ]
  },
  {
   "cell_type": "code",
   "execution_count": null,
   "metadata": {},
   "outputs": [],
   "source": [
    "ground_string_2,energies_2 = get_lowest_bitstring(bin_list,Q_2)\n",
    "ground_string_2_rev,energies_2_rev = get_lowest_bitstring(bin_list,Q_2_rev)\n",
    "make_img_bit_string(ground_string_2)\n",
    "make_img_bit_string(ground_string_2_rev)"
   ]
  },
  {
   "cell_type": "code",
   "execution_count": null,
   "metadata": {},
   "outputs": [],
   "source": [
    "ground_string_3,energies_3 = get_lowest_bitstring(bin_list,Q_3)\n",
    "ground_string_3_rev,energies_3_rev = get_lowest_bitstring(bin_list,Q_3_rev)\n",
    "make_img_bit_string(ground_string_3)\n",
    "make_img_bit_string(ground_string_3_rev)"
   ]
  },
  {
   "cell_type": "markdown",
   "metadata": {},
   "source": [
    "Dwave quantum annealer, set inderactions to be the off-diagonal elements of the QUBO matrix Q. Set the diagonal elements to be the activation weights."
   ]
  },
  {
   "cell_type": "code",
   "execution_count": null,
   "metadata": {},
   "outputs": [],
   "source": [
    "from dwave.system import DWaveSampler, EmbeddingComposite\n",
    "from dimod import BinaryQuadraticModel\n",
    "\n",
    "n = 5\n",
    "\n",
    "#define binary decision vector.\n",
    "x = [f's_{i}' for i in range(n**2)]\n",
    "\n",
    "bqm = BinaryQuadraticModel('BINARY')\n",
    "\n",
    "for d in range(n**2):\n",
    "    bqm.add_variable(x[int(d)],Q[int(d),int(d)])\n",
    "for i in range(Q.shape[0]):\n",
    "    for j in range(Q.shape[1]):\n",
    "        if i != j:\n",
    "            bqm.add_interaction(x[int(i)],x[int(j)],Q[i,j])\n",
    "\n",
    "\n",
    "sols = []\n",
    "for i in range(10):\n",
    "    sampler = EmbeddingComposite(DWaveSampler())\n",
    "    sampletest = sampler.sample(bqm, num_reads = 5000)\n",
    "    solution = np.array(list(sampletest.first.sample.values()))\n",
    "    energy = sampletest.first.energy\n",
    "    sols.append((solution,energy))\n",
    "    make_img_bit_string(solution)"
   ]
  },
  {
   "cell_type": "code",
   "execution_count": null,
   "metadata": {},
   "outputs": [],
   "source": [
    "from dwave.system import DWaveSampler, EmbeddingComposite\n",
    "from dimod import BinaryQuadraticModel\n",
    "\n",
    "n = 5\n",
    "lines = np.unique(get_skew_lines(n),axis = 0)\n",
    "\n",
    "Q = get_Q_2(n,lines,1,1,1,1)\n",
    "#define binary decision vector.\n",
    "x = [f's_{i}' for i in range(n**2)]\n",
    "\n",
    "bqm = BinaryQuadraticModel('BINARY')\n",
    "\n",
    "for d in range(n**2):\n",
    "    bqm.add_variable(x[int(d)],Q[int(d),int(d)])\n",
    "for i in range(Q.shape[0]):\n",
    "    for j in range(Q.shape[1]):\n",
    "        if i != j:\n",
    "            bqm.add_interaction(x[int(i)],x[int(j)],Q[i,j])\n",
    "\n",
    "sols = []\n",
    "for i in range(10):\n",
    "    sampler = EmbeddingComposite(DWaveSampler())\n",
    "    sampletest = sampler.sample(bqm, num_reads = 5000)\n",
    "    solution = np.array(list(sampletest.first.sample.values()))\n",
    "    energy = sampletest.first.energy\n",
    "    sols.append((solution,energy))\n",
    "    make_img_bit_string(solution)"
   ]
  },
  {
   "cell_type": "code",
   "execution_count": null,
   "metadata": {},
   "outputs": [],
   "source": [
    "make_img_bit_string(solution)"
   ]
  },
  {
   "cell_type": "markdown",
   "metadata": {},
   "source": [
    "# Discrete binary model encoding"
   ]
  },
  {
   "cell_type": "code",
   "execution_count": 116,
   "metadata": {},
   "outputs": [],
   "source": [
    "#Linear weight matrix\n",
    "n = 3\n",
    "\n",
    "N_3 = [perm for perm in itertools.permutations(range(n),3)]\n",
    "B = [binary for binary in itertools.product([0, 1], repeat=3)]\n",
    "N2 = [prod for prod in itertools.product(range(n), repeat = 2)]\n"
   ]
  },
  {
   "cell_type": "code",
   "execution_count": 118,
   "metadata": {},
   "outputs": [],
   "source": [
    "#X_L[i,u] = ai,u\n",
    "X_L = np.zeros((2*n,n))\n",
    "for i,j,k in N_3:\n",
    "    for s,r,t in B:\n",
    "        for u in range(n):\n",
    "            X_L[s*n + i,u] += ((k - j)**2) * u\n",
    "            X_L[r*n + j,u] += ((i - k)**2) * u\n",
    "            X_L[t*n + k,u] += ((j - i)**2) * u\n",
    "\n",
    "#X_Q[i,j,u,v] := ai,u * aj,v\n",
    "X_Q = np.zeros((2*n,2*n,n,n))\n",
    "for i,j,k in N_3:\n",
    "    for s,r,t in B:\n",
    "        for u,v in N2:\n",
    "            X_Q[s*n + i,r*n + j][u,v] += (k - j)*(i - k)*u*v\n",
    "            X_Q[s*n + i,t*n + k][u,v] += (k - j)*(j - i)*u*v\n",
    "            X_Q[r*n + j,t*n + k][u,v] += (i - k)*(j - i)*u*v"
   ]
  },
  {
   "cell_type": "code",
   "execution_count": 133,
   "metadata": {},
   "outputs": [],
   "source": [
    "#Add linear costs:\n",
    "dqm = dimod.DiscreteQuadraticModel()\n",
    "dis_vars = []\n",
    "for i in range(2*n):\n",
    "    dis_vars.append(dqm.add_variable(n))\n",
    "    for case in range(n):\n",
    "        dqm.set_linear_case(dis_vars[i],case,X_L[i,case])\n",
    "\n",
    "\n",
    "#Add quadratic costs:\n",
    "for a,b in [prod for prod in itertools.product(range(2*n), repeat = 2)]:\n",
    "    for u,v in [cases for cases in itertools.product(range(n), repeat = 2)]:\n",
    "        if a != b:\n",
    "            dqm.set_quadratic(dis_vars[a],dis_vars[b], {(u,v) : X_Q[a,b][u,v]})\n",
    "\n"
   ]
  },
  {
   "cell_type": "code",
   "execution_count": 134,
   "metadata": {},
   "outputs": [
    {
     "ename": "ValueError",
     "evalue": "API token not defined",
     "output_type": "error",
     "traceback": [
      "\u001b[0;31m---------------------------------------------------------------------------\u001b[0m",
      "\u001b[0;31mValueError\u001b[0m                                Traceback (most recent call last)",
      "\u001b[1;32m/Users/georgescriven/Documents/GitHub/DwaveCode/ThreeInLine/ThreeInLine.ipynb Cell 23\u001b[0m in \u001b[0;36m<cell line: 2>\u001b[0;34m()\u001b[0m\n\u001b[1;32m      <a href='vscode-notebook-cell:/Users/georgescriven/Documents/GitHub/DwaveCode/ThreeInLine/ThreeInLine.ipynb#X40sZmlsZQ%3D%3D?line=0'>1</a>\u001b[0m \u001b[39mfrom\u001b[39;00m \u001b[39mdwave\u001b[39;00m\u001b[39m.\u001b[39;00m\u001b[39msystem\u001b[39;00m \u001b[39mimport\u001b[39;00m LeapHybridDQMSampler\n\u001b[0;32m----> <a href='vscode-notebook-cell:/Users/georgescriven/Documents/GitHub/DwaveCode/ThreeInLine/ThreeInLine.ipynb#X40sZmlsZQ%3D%3D?line=1'>2</a>\u001b[0m dqm_sampler \u001b[39m=\u001b[39m LeapHybridDQMSampler()\n\u001b[1;32m      <a href='vscode-notebook-cell:/Users/georgescriven/Documents/GitHub/DwaveCode/ThreeInLine/ThreeInLine.ipynb#X40sZmlsZQ%3D%3D?line=2'>3</a>\u001b[0m sampleset \u001b[39m=\u001b[39m dqm_sampler\u001b[39m.\u001b[39msample_dqm(dqm)\n",
      "File \u001b[0;32m~/anaconda3/lib/python3.8/site-packages/dwave/system/samplers/leap_hybrid_sampler.py:383\u001b[0m, in \u001b[0;36mLeapHybridDQMSampler.__init__\u001b[0;34m(self, **config)\u001b[0m\n\u001b[1;32m    380\u001b[0m     \u001b[39mraise\u001b[39;00m \u001b[39mTypeError\u001b[39;00m(\u001b[39m\"\u001b[39m\u001b[39mmapping expected for \u001b[39m\u001b[39m'\u001b[39m\u001b[39mdefaults\u001b[39m\u001b[39m'\u001b[39m\u001b[39m\"\u001b[39m)\n\u001b[1;32m    381\u001b[0m defaults\u001b[39m.\u001b[39mupdate(solver\u001b[39m=\u001b[39m\u001b[39mself\u001b[39m\u001b[39m.\u001b[39mdefault_solver)\n\u001b[0;32m--> 383\u001b[0m \u001b[39mself\u001b[39m\u001b[39m.\u001b[39mclient \u001b[39m=\u001b[39m Client\u001b[39m.\u001b[39;49mfrom_config(\u001b[39m*\u001b[39;49m\u001b[39m*\u001b[39;49mconfig)\n\u001b[1;32m    384\u001b[0m \u001b[39mself\u001b[39m\u001b[39m.\u001b[39msolver \u001b[39m=\u001b[39m \u001b[39mself\u001b[39m\u001b[39m.\u001b[39mclient\u001b[39m.\u001b[39mget_solver()\n\u001b[1;32m    386\u001b[0m \u001b[39m# check user-specified solver conforms to our requirements\u001b[39;00m\n",
      "File \u001b[0;32m~/anaconda3/lib/python3.8/site-packages/dwave/cloud/client/base.py:374\u001b[0m, in \u001b[0;36mClient.from_config\u001b[0;34m(cls, config_file, profile, client, **kwargs)\u001b[0m\n\u001b[1;32m    371\u001b[0m _client \u001b[39m=\u001b[39m config\u001b[39m.\u001b[39mpop(\u001b[39m'\u001b[39m\u001b[39mclient\u001b[39m\u001b[39m'\u001b[39m, \u001b[39mNone\u001b[39;00m) \u001b[39mor\u001b[39;00m \u001b[39m'\u001b[39m\u001b[39mbase\u001b[39m\u001b[39m'\u001b[39m\n\u001b[1;32m    373\u001b[0m logger\u001b[39m.\u001b[39mdebug(\u001b[39m\"\u001b[39m\u001b[39mCreating \u001b[39m\u001b[39m%s\u001b[39;00m\u001b[39m.Client() with: \u001b[39m\u001b[39m%r\u001b[39;00m\u001b[39m\"\u001b[39m, _client, config)\n\u001b[0;32m--> 374\u001b[0m \u001b[39mreturn\u001b[39;00m _clients[_client](\u001b[39m*\u001b[39;49m\u001b[39m*\u001b[39;49mconfig)\n",
      "File \u001b[0;32m~/anaconda3/lib/python3.8/site-packages/dwave/cloud/events.py:105\u001b[0m, in \u001b[0;36mdispatches_events.__call__.<locals>.wrapped\u001b[0;34m(*pargs, **kwargs)\u001b[0m\n\u001b[1;32m    103\u001b[0m dispatch_event(\u001b[39mself\u001b[39m\u001b[39m.\u001b[39mbefore_eventname, obj\u001b[39m=\u001b[39mobj, args\u001b[39m=\u001b[39margs)\n\u001b[1;32m    104\u001b[0m \u001b[39mtry\u001b[39;00m:\n\u001b[0;32m--> 105\u001b[0m     rval \u001b[39m=\u001b[39m fn(\u001b[39m*\u001b[39;49mpargs, \u001b[39m*\u001b[39;49m\u001b[39m*\u001b[39;49mkwargs)\n\u001b[1;32m    106\u001b[0m \u001b[39mexcept\u001b[39;00m \u001b[39mException\u001b[39;00m \u001b[39mas\u001b[39;00m exc:\n\u001b[1;32m    107\u001b[0m     dispatch_event(\u001b[39mself\u001b[39m\u001b[39m.\u001b[39mafter_eventname, obj\u001b[39m=\u001b[39mobj, args\u001b[39m=\u001b[39margs, exception\u001b[39m=\u001b[39mexc)\n",
      "File \u001b[0;32m~/anaconda3/lib/python3.8/site-packages/dwave/cloud/client/base.py:477\u001b[0m, in \u001b[0;36mClient.__init__\u001b[0;34m(self, *args, **kwargs)\u001b[0m\n\u001b[1;32m    475\u001b[0m token \u001b[39m=\u001b[39m options[\u001b[39m'\u001b[39m\u001b[39mtoken\u001b[39m\u001b[39m'\u001b[39m]\n\u001b[1;32m    476\u001b[0m \u001b[39mif\u001b[39;00m \u001b[39mnot\u001b[39;00m token:\n\u001b[0;32m--> 477\u001b[0m     \u001b[39mraise\u001b[39;00m \u001b[39mValueError\u001b[39;00m(\u001b[39m\"\u001b[39m\u001b[39mAPI token not defined\u001b[39m\u001b[39m\"\u001b[39m)\n\u001b[1;32m    479\u001b[0m \u001b[39m# parse optional client certificate\u001b[39;00m\n\u001b[1;32m    480\u001b[0m client_cert \u001b[39m=\u001b[39m options[\u001b[39m'\u001b[39m\u001b[39mclient_cert\u001b[39m\u001b[39m'\u001b[39m]\n",
      "\u001b[0;31mValueError\u001b[0m: API token not defined"
     ]
    }
   ],
   "source": [
    "from dwave.system import LeapHybridDQMSampler\n",
    "dqm_sampler = LeapHybridDQMSampler()\n",
    "sampleset = dqm_sampler.sample_dqm(dqm)  "
   ]
  },
  {
   "cell_type": "code",
   "execution_count": null,
   "metadata": {},
   "outputs": [],
   "source": []
  },
  {
   "cell_type": "code",
   "execution_count": null,
   "metadata": {},
   "outputs": [],
   "source": []
  }
 ],
 "metadata": {
  "kernelspec": {
   "display_name": "Python 3.8.3 ('base')",
   "language": "python",
   "name": "python3"
  },
  "language_info": {
   "codemirror_mode": {
    "name": "ipython",
    "version": 3
   },
   "file_extension": ".py",
   "mimetype": "text/x-python",
   "name": "python",
   "nbconvert_exporter": "python",
   "pygments_lexer": "ipython3",
   "version": "3.8.3"
  },
  "orig_nbformat": 4,
  "vscode": {
   "interpreter": {
    "hash": "b60fce4d6021e5796dbda0941e38e0daefa5ebd49267d685e38e9ad40ea2f6d5"
   }
  }
 },
 "nbformat": 4,
 "nbformat_minor": 2
}
