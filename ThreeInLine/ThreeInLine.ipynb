{
 "cells": [
  {
   "cell_type": "code",
   "execution_count": 1,
   "metadata": {},
   "outputs": [],
   "source": [
    "#Dwave imports\n",
    "from dwave.system.samplers import DWaveSampler\n",
    "from dwave.system.composites import EmbeddingComposite\n",
    "\n",
    "\n",
    "#Impots for QUBO probelm\n",
    "import numpy as np\n",
    "from numpy import linalg as LA\n",
    "import pandas as pd\n",
    "import matplotlib as plt\n",
    "import itertools\n",
    "from itertools import product\n",
    "from matplotlib import pyplot as plt\n"
   ]
  },
  {
   "cell_type": "markdown",
   "metadata": {},
   "source": [
    "Generate all of the possible lines from cart coords, currently doesnt encode vertical lines. And the QUBO matrix. There are two version of the QUBO matrix, the first penalises acceptable skew lines and the latter is a minor improvment. Details in the notebook."
   ]
  },
  {
   "cell_type": "code",
   "execution_count": 2,
   "metadata": {},
   "outputs": [],
   "source": [
    "#Find all fo the lines to optimise over\n",
    "def get_skew_lines(n):\n",
    "    #Get list of cart coords\n",
    "    xs = np.linspace(0,n,n,endpoint = False)\n",
    "    ys = np.linspace(0,n,n,endpoint = False)\n",
    "    X = product(xs,ys)\n",
    "    X = np.array(list(X))\n",
    "    #dx,dy,y_intercept\n",
    "\n",
    "    lines = []\n",
    "    for k in range(X.shape[0]):\n",
    "        for d in range(k,X.shape[0]):\n",
    "            if X[k][0]-X[d][0] != 0 and X[k][1]-X[d][1] != 0:\n",
    "                grad = (X[k][1]-X[d][1])/(X[k][0]-X[d][0])\n",
    "                y_intercept = X[k][1] - grad * X[k][0]\n",
    "                line = (grad,y_intercept)\n",
    "                lines.append(line)\n",
    "    lines = np.array(lines)\n",
    "    return lines\n",
    "\n",
    "#Check if a point is on a line (l belongs to delta_l)\n",
    "def delta_l(i,j,a,b,n):\n",
    "    if np.round(j - a*i - b, 1) == 0 and i < n and j < n:\n",
    "        return True\n",
    "    else: \n",
    "        return False\n",
    "\n",
    "\n",
    "def get_Q(n,lines,alpha,beta,gamma,omega):\n",
    "    Q = np.zeros((n**2,n**2))\n",
    "    rows = np.linspace(0,n,n,endpoint = False, dtype = 'int32')\n",
    "    cols = np.linspace(0,n,n,endpoint = False, dtype = 'int32')\n",
    "\n",
    "#1\n",
    "    for i in cols:\n",
    "        for j in rows:\n",
    "            for s in rows:\n",
    "                Q[int(i*n+j),int(i*n+s)] += alpha\n",
    "#2\n",
    "    for j in rows:\n",
    "        for i in cols:\n",
    "            for r in cols:\n",
    "                Q[int(i*n+j),int(r*n+j)] += beta\n",
    "#3\n",
    "    for l in lines:\n",
    "        a = l[0]\n",
    "        b = l[1]\n",
    "        for i in cols:\n",
    "            for j in rows:\n",
    "                for r in cols:\n",
    "                    for s in rows:\n",
    "                        if delta_l(i,j,a,b,n) & delta_l(r,s,a,b,n):\n",
    "                            Q[int(i*n+j),int(r*n+s)] += gamma\n",
    "#4\n",
    "    for i in rows:\n",
    "        for j in cols:\n",
    "            Q[int(i*n+j),int(i*n+j)] -=4*(alpha + beta)\n",
    "#5\n",
    "    for l in lines:\n",
    "        a = l[0]\n",
    "        b = l[1]\n",
    "        for i in cols:\n",
    "            for j in rows:\n",
    "                if delta_l(i,j,a,b,n):\n",
    "                    Q[int(i*n+j),int(i*n+j)] -= 4*gamma\n",
    "#6\n",
    "    for i in cols:\n",
    "        for j in rows:\n",
    "            Q[int(i*n+j),int(i*n+j)] -= 4 * n\n",
    "            for r in cols:\n",
    "                for s in rows:\n",
    "                    Q[int(i*n+j),int(r*n+s)] += omega\n",
    "    return Q\n",
    "\n",
    "\n",
    "\n",
    "def get_Q_2(n,lines,alpha,beta,gamma,omega):\n",
    "\n",
    "    Q = np.zeros((n**2,n**2))\n",
    "    rows = np.linspace(0,n,n,endpoint = False, dtype = 'int32')\n",
    "    cols = np.linspace(0,n,n,endpoint = False, dtype = 'int32')\n",
    "\n",
    "\n",
    "    #Vertical lines\n",
    "    for i in cols:\n",
    "        for j in rows:\n",
    "            Q[i*n+j,i*n+j] -= 4*alpha\n",
    "            for s in rows:\n",
    "                Q[i*n+j,i*n+s] += alpha\n",
    "\n",
    "    \n",
    "    #Horizontal lines:\n",
    "    for j in rows:\n",
    "        for i in cols:\n",
    "            Q[i*n+j,i*n+j] -= 4*beta\n",
    "            for r in cols:\n",
    "                Q[i*n+j,r*n+j] += beta\n",
    "\n",
    "    #Skew lines\n",
    "    for l in lines:\n",
    "        a = l[0]\n",
    "        b = l[0]\n",
    "        for i in cols:\n",
    "            for i in rows:\n",
    "                if delta_l(i,j,a,b,n):\n",
    "                    Q[i*n+j,i*n+j] -= 7*gamma\n",
    "                for r in cols:\n",
    "                    for s in rows:\n",
    "                        if delta_l(i,j,a,b,n) and delta_l(r,s,a,b,n):\n",
    "                            Q[i*n+j,r*n+s] += 3 * gamma\n",
    "    return Q\n",
    "\n",
    "\n",
    "\n",
    "\n"
   ]
  },
  {
   "cell_type": "markdown",
   "metadata": {},
   "source": [
    "The above function generates the QUBO matrix, details in my notebook."
   ]
  },
  {
   "cell_type": "code",
   "execution_count": 13,
   "metadata": {},
   "outputs": [],
   "source": [
    "v = np.array([1, 0, 0, 0, 0, 0, 0, 1, 0, 0, 1, 0, 0, 1, 0, 0, 0, 0, 0, 0, 0, 0, 1, 0, 0, 1, 1, 0, 0, 0, 0, 0, 0, 1, 1, 1, 0, 1, 0, 0, 0, 0, 1, 0, 0, 1, 0, 0, 1, 1, 0, 1, 0, 0, 0, 0, 1, 0, 0, 0, 0, 1, 1, 0, 0, 1, 0, 0, 1, 1, 1, 0, 0, 1, 0, 0, 0, 0, 1, 1, 0, 0, 0, 0, 1, 0, 1, 0, 0, 0, 1, 0, 0, 1, 0, 1, 0, 1, 0, 1])"
   ]
  },
  {
   "cell_type": "markdown",
   "metadata": {},
   "source": [
    "The below cell should be -8680"
   ]
  },
  {
   "cell_type": "code",
   "execution_count": 14,
   "metadata": {},
   "outputs": [
    {
     "data": {
      "text/plain": [
       "-9017.0"
      ]
     },
     "execution_count": 14,
     "metadata": {},
     "output_type": "execute_result"
    }
   ],
   "source": [
    "v.T @ Q @ v "
   ]
  },
  {
   "cell_type": "code",
   "execution_count": 18,
   "metadata": {},
   "outputs": [
    {
     "data": {
      "text/plain": [
       "array([[-60.,  10.,  10., ...,   0.,   0.,   0.],\n",
       "       [ 10., -60.,  10., ...,   0.,   0.,   0.],\n",
       "       [ 10.,  10., -60., ...,   0.,   0.,   0.],\n",
       "       ...,\n",
       "       [  0.,   0.,   0., ..., -60.,  10.,  10.],\n",
       "       [  0.,   0.,   0., ...,  10., -60.,  10.],\n",
       "       [  0.,   0.,   0., ...,  10.,  10., -60.]])"
      ]
     },
     "execution_count": 18,
     "metadata": {},
     "output_type": "execute_result"
    }
   ],
   "source": [
    "Q"
   ]
  },
  {
   "cell_type": "code",
   "execution_count": 3,
   "metadata": {},
   "outputs": [],
   "source": [
    "def get_lowest_eval(Q):\n",
    "    w,v = LA.eig(Q)\n",
    "    g = v[np.argmin(w)]\n",
    "    print('The lowest energy is' , w[np.argmin(w)])\n",
    "    return g"
   ]
  },
  {
   "cell_type": "code",
   "execution_count": 9,
   "metadata": {},
   "outputs": [],
   "source": [
    "def get_bin_list(n):\n",
    "    bin_list = np.array(list(map(list, itertools.product([0, 1], repeat=n**2))))[1:]\n",
    "    return bin_list\n",
    "\n",
    "bin_list = get_bin_list(n)"
   ]
  },
  {
   "cell_type": "code",
   "execution_count": 12,
   "metadata": {},
   "outputs": [
    {
     "data": {
      "text/plain": [
       "(33554431, 25)"
      ]
     },
     "execution_count": 12,
     "metadata": {},
     "output_type": "execute_result"
    }
   ],
   "source": [
    "bin_list.shape"
   ]
  },
  {
   "cell_type": "code",
   "execution_count": 15,
   "metadata": {},
   "outputs": [
    {
     "ename": "KeyboardInterrupt",
     "evalue": "",
     "output_type": "error",
     "traceback": [
      "\u001b[0;31m---------------------------------------------------------------------------\u001b[0m",
      "\u001b[0;31mKeyboardInterrupt\u001b[0m                         Traceback (most recent call last)",
      "\u001b[1;32m/Users/georgescriven/Documents/GitHub/DwaveCode/ThreeInLine/ThreeInLine.ipynb Cell 12\u001b[0m in \u001b[0;36m<cell line: 1>\u001b[0;34m()\u001b[0m\n\u001b[0;32m----> <a href='vscode-notebook-cell:/Users/georgescriven/Documents/GitHub/DwaveCode/ThreeInLine/ThreeInLine.ipynb#X46sZmlsZQ%3D%3D?line=0'>1</a>\u001b[0m np\u001b[39m.\u001b[39;49msavetxt(\u001b[39m'\u001b[39;49m\u001b[39mbinary_string\u001b[39;49m\u001b[39m'\u001b[39;49m,bin_list,delimiter \u001b[39m=\u001b[39;49m \u001b[39m'\u001b[39;49m\u001b[39m,\u001b[39;49m\u001b[39m'\u001b[39;49m)\n",
      "File \u001b[0;32m<__array_function__ internals>:5\u001b[0m, in \u001b[0;36msavetxt\u001b[0;34m(*args, **kwargs)\u001b[0m\n",
      "File \u001b[0;32m~/anaconda3/lib/python3.8/site-packages/numpy/lib/npyio.py:1447\u001b[0m, in \u001b[0;36msavetxt\u001b[0;34m(fname, X, fmt, delimiter, newline, header, footer, comments, encoding)\u001b[0m\n\u001b[1;32m   1445\u001b[0m \u001b[39mfor\u001b[39;00m row \u001b[39min\u001b[39;00m X:\n\u001b[1;32m   1446\u001b[0m     \u001b[39mtry\u001b[39;00m:\n\u001b[0;32m-> 1447\u001b[0m         v \u001b[39m=\u001b[39m \u001b[39mformat\u001b[39m \u001b[39m%\u001b[39m \u001b[39mtuple\u001b[39;49m(row) \u001b[39m+\u001b[39m newline\n\u001b[1;32m   1448\u001b[0m     \u001b[39mexcept\u001b[39;00m \u001b[39mTypeError\u001b[39;00m:\n\u001b[1;32m   1449\u001b[0m         \u001b[39mraise\u001b[39;00m \u001b[39mTypeError\u001b[39;00m(\u001b[39m\"\u001b[39m\u001b[39mMismatch between array dtype (\u001b[39m\u001b[39m'\u001b[39m\u001b[39m%s\u001b[39;00m\u001b[39m'\u001b[39m\u001b[39m) and \u001b[39m\u001b[39m\"\u001b[39m\n\u001b[1;32m   1450\u001b[0m                         \u001b[39m\"\u001b[39m\u001b[39mformat specifier (\u001b[39m\u001b[39m'\u001b[39m\u001b[39m%s\u001b[39;00m\u001b[39m'\u001b[39m\u001b[39m)\u001b[39m\u001b[39m\"\u001b[39m\n\u001b[1;32m   1451\u001b[0m                         \u001b[39m%\u001b[39m (\u001b[39mstr\u001b[39m(X\u001b[39m.\u001b[39mdtype), \u001b[39mformat\u001b[39m))\n",
      "\u001b[0;31mKeyboardInterrupt\u001b[0m: "
     ]
    }
   ],
   "source": [
    "np.savetxt('binary_string',bin_list,delimiter = ',') #run later"
   ]
  },
  {
   "cell_type": "code",
   "execution_count": null,
   "metadata": {},
   "outputs": [],
   "source": [
    "def get_lowest_bitstring(bin_list,Q):\n",
    "    energies = []\n",
    "    for i in range(bin_list.shape[0]):\n",
    "        E = bin_list[i].T @ Q @ bin_list[i]\n",
    "        energies.append(E)\n",
    "    b = bin_list[np.argmin(energies)]\n",
    "    print('The lowest energy is' , energies[np.argmin(energies)])\n",
    "    return b,energies"
   ]
  },
  {
   "cell_type": "code",
   "execution_count": null,
   "metadata": {},
   "outputs": [],
   "source": [
    "def make_img_bit_string(b):\n",
    "    plt.imshow(b.reshape((n,n)))\n",
    "    plt.show()\n",
    "    print(b)"
   ]
  },
  {
   "cell_type": "code",
   "execution_count": 6,
   "metadata": {},
   "outputs": [],
   "source": [
    "n = 5\n",
    "lines = np.unique(get_skew_lines(n),axis = 0)"
   ]
  },
  {
   "cell_type": "code",
   "execution_count": null,
   "metadata": {},
   "outputs": [
    {
     "name": "stdout",
     "output_type": "stream",
     "text": [
      "The lowest energy is -1220.0\n"
     ]
    },
    {
     "data": {
      "image/png": "[encoded data removed]",
      "text/plain": [
       "<Figure size 640x480 with 1 Axes>"
      ]
     },
     "metadata": {},
     "output_type": "display_data"
    },
    {
     "name": "stdout",
     "output_type": "stream",
     "text": [
      "[0 0 0 1 1 0 0 0 1 1 0 0 1 0 1 0 0 1 0 1 1 1 0 0 0]\n"
     ]
    }
   ],
   "source": [
    "Q_2 = get_Q_2(n,lines,10,10,2,1) \n",
    "ground_string_2,energies_2 = get_lowest_bitstring(bin_list,Q_2)\n",
    "make_img_bit_string(ground_string_2)"
   ]
  },
  {
   "cell_type": "code",
   "execution_count": null,
   "metadata": {},
   "outputs": [
    {
     "ename": "KeyboardInterrupt",
     "evalue": "",
     "output_type": "error",
     "traceback": [
      "\u001b[0;31m---------------------------------------------------------------------------\u001b[0m",
      "\u001b[0;31mKeyboardInterrupt\u001b[0m                         Traceback (most recent call last)",
      "\u001b[1;32m/Users/georgescriven/Documents/GitHub/DwaveCode/ThreeInLine/ThreeInLine.ipynb Cell 15\u001b[0m in \u001b[0;36m<cell line: 2>\u001b[0;34m()\u001b[0m\n\u001b[1;32m      <a href='vscode-notebook-cell:/Users/georgescriven/Documents/GitHub/DwaveCode/ThreeInLine/ThreeInLine.ipynb#X41sZmlsZQ%3D%3D?line=0'>1</a>\u001b[0m Q \u001b[39m=\u001b[39m get_Q(n,lines,\u001b[39m10\u001b[39m,\u001b[39m10\u001b[39m,\u001b[39m2\u001b[39m,\u001b[39m1\u001b[39m) \n\u001b[0;32m----> <a href='vscode-notebook-cell:/Users/georgescriven/Documents/GitHub/DwaveCode/ThreeInLine/ThreeInLine.ipynb#X41sZmlsZQ%3D%3D?line=1'>2</a>\u001b[0m ground_string,energies \u001b[39m=\u001b[39m get_lowest_bitstring(Q)\n\u001b[1;32m      <a href='vscode-notebook-cell:/Users/georgescriven/Documents/GitHub/DwaveCode/ThreeInLine/ThreeInLine.ipynb#X41sZmlsZQ%3D%3D?line=2'>3</a>\u001b[0m make_img_bit_string(ground_string)\n",
      "\u001b[1;32m/Users/georgescriven/Documents/GitHub/DwaveCode/ThreeInLine/ThreeInLine.ipynb Cell 15\u001b[0m in \u001b[0;36mget_lowest_bitstring\u001b[0;34m(Q)\u001b[0m\n\u001b[1;32m      <a href='vscode-notebook-cell:/Users/georgescriven/Documents/GitHub/DwaveCode/ThreeInLine/ThreeInLine.ipynb#X41sZmlsZQ%3D%3D?line=0'>1</a>\u001b[0m \u001b[39mdef\u001b[39;00m \u001b[39mget_lowest_bitstring\u001b[39m(Q):\n\u001b[0;32m----> <a href='vscode-notebook-cell:/Users/georgescriven/Documents/GitHub/DwaveCode/ThreeInLine/ThreeInLine.ipynb#X41sZmlsZQ%3D%3D?line=1'>2</a>\u001b[0m     bin_list \u001b[39m=\u001b[39m np\u001b[39m.\u001b[39;49marray(\u001b[39mlist\u001b[39;49m(\u001b[39mmap\u001b[39;49m(\u001b[39mlist\u001b[39;49m, itertools\u001b[39m.\u001b[39;49mproduct([\u001b[39m0\u001b[39;49m, \u001b[39m1\u001b[39;49m], repeat\u001b[39m=\u001b[39;49mQ\u001b[39m.\u001b[39;49mshape[\u001b[39m0\u001b[39;49m]))))[\u001b[39m1\u001b[39m:]\n\u001b[1;32m      <a href='vscode-notebook-cell:/Users/georgescriven/Documents/GitHub/DwaveCode/ThreeInLine/ThreeInLine.ipynb#X41sZmlsZQ%3D%3D?line=2'>3</a>\u001b[0m     energies \u001b[39m=\u001b[39m []\n\u001b[1;32m      <a href='vscode-notebook-cell:/Users/georgescriven/Documents/GitHub/DwaveCode/ThreeInLine/ThreeInLine.ipynb#X41sZmlsZQ%3D%3D?line=3'>4</a>\u001b[0m     \u001b[39mfor\u001b[39;00m i \u001b[39min\u001b[39;00m \u001b[39mrange\u001b[39m(bin_list\u001b[39m.\u001b[39mshape[\u001b[39m0\u001b[39m]):\n",
      "\u001b[0;31mKeyboardInterrupt\u001b[0m: "
     ]
    }
   ],
   "source": [
    "Q = get_Q(n,lines,10,10,2,1) \n",
    "ground_string,energies = get_lowest_bitstring(bin_list,Q)\n",
    "make_img_bit_string(ground_string)"
   ]
  },
  {
   "cell_type": "code",
   "execution_count": 17,
   "metadata": {},
   "outputs": [
    {
     "name": "stdout",
     "output_type": "stream",
     "text": [
      "The lowest energy is -474.0\n"
     ]
    },
    {
     "data": {
      "image/png": "[encoded data removed]",
      "text/plain": [
       "<Figure size 640x480 with 1 Axes>"
      ]
     },
     "metadata": {},
     "output_type": "display_data"
    },
    {
     "name": "stdout",
     "output_type": "stream",
     "text": [
      "[0 0 0 1 1 0 0 0 1 1 0 0 1 0 1 0 0 1 0 1 1 1 0 0 0]\n"
     ]
    }
   ],
   "source": [
    "Q_2 = get_Q_2(n,lines,1,1,1,1) \n",
    "ground_string,energies = get_lowest_bitstring(bin_list,Q_2)\n",
    "make_img_bit_string(ground_string)"
   ]
  },
  {
   "cell_type": "code",
   "execution_count": 19,
   "metadata": {},
   "outputs": [],
   "source": [
    "Q = get_Q(n,lines,1,1,1,1) \n",
    "ground_string,energies = get_lowest_bitstring(bin_list,Q)\n",
    "make_img_bit_string(ground_string)"
   ]
  },
  {
   "cell_type": "code",
   "execution_count": 8,
   "metadata": {},
   "outputs": [
    {
     "data": {
      "image/png": "[encoded data removed]",
      "text/plain": [
       "<Figure size 640x480 with 1 Axes>"
      ]
     },
     "metadata": {},
     "output_type": "display_data"
    },
    {
     "name": "stdout",
     "output_type": "stream",
     "text": [
      "[0 0 0 1 0 1 0 0 0 1 0 0 0 0 0 1 0 0 0 1 0 1 0 1 0]\n"
     ]
    }
   ],
   "source": [
    "Q = get_Q(n,lines,10,10,2,1) \n",
    "bin_list,ground_string,energies = get_lowest_bitstring(Q)\n",
    "make_img_bit_string(ground_string)"
   ]
  },
  {
   "cell_type": "code",
   "execution_count": 9,
   "metadata": {},
   "outputs": [
    {
     "name": "stdout",
     "output_type": "stream",
     "text": [
      "The lowest energy is (-66.00000000000009+0j)\n"
     ]
    },
    {
     "data": {
      "text/plain": [
       "array([-1.97647858e-01+0.00000000e+00j,  4.34973208e-02+0.00000000e+00j,\n",
       "       -8.15050068e-02+0.00000000e+00j,  5.14866783e-17+0.00000000e+00j,\n",
       "        1.85553178e-01+0.00000000e+00j,  2.07292690e-01+0.00000000e+00j,\n",
       "       -3.96373000e-16+0.00000000e+00j, -2.43054407e-15+0.00000000e+00j,\n",
       "        8.58246673e-16+0.00000000e+00j, -1.69304006e-15+0.00000000e+00j,\n",
       "        4.24642175e-16+0.00000000e+00j, -3.55224904e-15+2.25671849e-15j,\n",
       "       -3.55224904e-15-2.25671849e-15j,  9.50506559e-02+0.00000000e+00j,\n",
       "        3.73551715e-15+0.00000000e+00j,  7.59860723e-15+0.00000000e+00j,\n",
       "        7.59759924e-01+0.00000000e+00j, -3.37727130e-01+0.00000000e+00j,\n",
       "        1.73687302e-01+0.00000000e+00j,  1.83636098e-01+0.00000000e+00j,\n",
       "        2.42210003e-15+0.00000000e+00j,  2.81136452e-15+0.00000000e+00j,\n",
       "       -3.49389254e-16+0.00000000e+00j,  3.07363944e-01+0.00000000e+00j,\n",
       "       -2.87080283e-01+0.00000000e+00j])"
      ]
     },
     "execution_count": 9,
     "metadata": {},
     "output_type": "execute_result"
    }
   ],
   "source": [
    "g = get_lowest_eval(Q)\n",
    "g"
   ]
  },
  {
   "cell_type": "code",
   "execution_count": 10,
   "metadata": {},
   "outputs": [],
   "source": [
    "def make_img(g):\n",
    "    g = abs(g)\n",
    "    g[g >= 0.1] = 1\n",
    "    g = np.round_(g, decimals = 0)\n",
    "    plt.imshow(g.reshape((n,n)))\n",
    "    plt.show()\n",
    "    print(g)\n",
    "    "
   ]
  },
  {
   "cell_type": "code",
   "execution_count": 11,
   "metadata": {},
   "outputs": [
    {
     "data": {
      "image/png": "[encoded data removed]",
      "text/plain": [
       "<Figure size 640x480 with 1 Axes>"
      ]
     },
     "metadata": {},
     "output_type": "display_data"
    },
    {
     "name": "stdout",
     "output_type": "stream",
     "text": [
      "[1. 0. 0. 0. 1. 1. 0. 0. 0. 0. 0. 0. 0. 0. 0. 0. 1. 1. 1. 1. 0. 0. 0. 1.\n",
      " 1.]\n"
     ]
    }
   ],
   "source": [
    "make_img(g)"
   ]
  },
  {
   "cell_type": "markdown",
   "metadata": {},
   "source": [
    "Dwave quantum annealer, set inderactions to be the off-diagonal elements of the QUBO matrix Q. Set the diagonal elements to be the activation weights."
   ]
  },
  {
   "cell_type": "code",
   "execution_count": 12,
   "metadata": {},
   "outputs": [],
   "source": [
    "from dwave.system import DWaveSampler, EmbeddingComposite\n",
    "from dimod import BinaryQuadraticModel\n",
    "\n",
    "n = 5\n",
    "lines = np.unique(get_skew_lines(n),axis = 0)\n",
    "\n",
    "Q = get_Q(n,lines,1,1,1,1)\n",
    "\n",
    "#define binary decision vector.\n",
    "x = [f's_{i}' for i in range(n**2)]\n",
    "\n",
    "bqm = BinaryQuadraticModel('BINARY')\n",
    "\n",
    "for d in range(n**2):\n",
    "    bqm.add_variable(x[int(d)],Q[int(d),int(d)])\n",
    "for i in range(Q.shape[0]):\n",
    "    for j in range(Q.shape[1]):\n",
    "        if i != j:\n",
    "            bqm.add_interaction(x[int(i)],x[int(j)],Q[i,j])\n",
    "\n",
    "\n",
    "sols = []\n",
    "for i in range(10):\n",
    "    sampler = EmbeddingComposite(DWaveSampler())\n",
    "    sampletest = sampler.sample(bqm, num_reads = 5000)\n",
    "    solution = np.array(list(sampletest.first.sample.values()))\n",
    "    energy = sampletest.first.energy\n",
    "    sols.append((solution,energy))\n",
    "    make_img_bit_string(solution)"
   ]
  },
  {
   "cell_type": "code",
   "execution_count": null,
   "metadata": {},
   "outputs": [],
   "source": [
    "from dwave.system import DWaveSampler, EmbeddingComposite\n",
    "from dimod import BinaryQuadraticModel\n",
    "\n",
    "n = 5\n",
    "lines = np.unique(get_skew_lines(n),axis = 0)\n",
    "\n",
    "Q = get_Q_2(n,lines,1,1,1,1)\n",
    "#define binary decision vector.\n",
    "x = [f's_{i}' for i in range(n**2)]\n",
    "\n",
    "bqm = BinaryQuadraticModel('BINARY')\n",
    "\n",
    "for d in range(n**2):\n",
    "    bqm.add_variable(x[int(d)],Q[int(d),int(d)])\n",
    "for i in range(Q.shape[0]):\n",
    "    for j in range(Q.shape[1]):\n",
    "        if i != j:\n",
    "            bqm.add_interaction(x[int(i)],x[int(j)],Q[i,j])\n",
    "\n",
    "sols = []\n",
    "for i in range(10):\n",
    "    sampler = EmbeddingComposite(DWaveSampler())\n",
    "    sampletest = sampler.sample(bqm, num_reads = 5000)\n",
    "    solution = np.array(list(sampletest.first.sample.values()))\n",
    "    energy = sampletest.first.energy\n",
    "    sols.append((solution,energy))\n",
    "    make_img_bit_string(solution)"
   ]
  },
  {
   "cell_type": "code",
   "execution_count": 107,
   "metadata": {},
   "outputs": [
    {
     "data": {
      "image/png": "[encoded data removed]",
      "image/svg+xml": "<?xml version=\"1.0\" encoding=\"utf-8\" standalone=\"no\"?>\n<!DOCTYPE svg PUBLIC \"-//W3C//DTD SVG 1.1//EN\"\n  \"http://www.w3.org/Graphics/SVG/1.1/DTD/svg11.dtd\">\n<svg xmlns:xlink=\"http://www.w3.org/1999/xlink\" width=\"293.8745pt\" height=\"297.190125pt\" viewBox=\"0 0 293.8745 297.190125\" xmlns=\"http://www.w3.org/2000/svg\" version=\"1.1\">\n <metadata>\n  <rdf:RDF xmlns:dc=\"http://purl.org/dc/elements/1.1/\" xmlns:cc=\"http://creativecommons.org/ns#\" xmlns:rdf=\"http://www.w3.org/1999/02/22-rdf-syntax-ns#\">\n   <cc:Work>\n    <dc:type rdf:resource=\"http://purl.org/dc/dcmitype/StillImage\"/>\n    <dc:date>2022-11-02T15:15:43.980560</dc:date>\n    <dc:format>image/svg+xml</dc:format>\n    <dc:creator>\n     <cc:Agent>\n      <dc:title>Matplotlib v3.6.0, https://matplotlib.org/</dc:title>\n     </cc:Agent>\n    </dc:creator>\n   </cc:Work>\n  </rdf:RDF>\n </metadata>\n <defs>\n  <style type=\"text/css\">*{stroke-linejoin: round; stroke-linecap: butt}</style>\n </defs>\n <g id=\"figure_1\">\n  <g id=\"patch_1\">\n   <path d=\"M 0 297.190125 \nL 293.8745 297.190125 \nL 293.8745 0 \nL 0 0 \nz\n\" style=\"fill: #ffffff\"/>\n  </g>\n  <g id=\"axes_1\">\n   <g id=\"patch_2\">\n    <path d=\"M 20.5625 273.312 \nL 286.6745 273.312 \nL 286.6745 7.2 \nL 20.5625 7.2 \nz\n\" style=\"fill: #ffffff\"/>\n   </g>\n   <g clip-path=\"url(#pda8db016c4)\">\n    <image xlink:href=\"data:image/png;base64,\niVBORw0KGgoAAAANSUhEUgAAAXIAAAFyCAYAAADoJFEJAAAFfklEQVR4nO3WQW3DABREwboKCp8DwCAqmUDJhoVRJCiiFEFPrfT14hkEe3ra5fm4vj7gn+zrNj0h4XY/pifwRj6nBwDwN0IOECfkAHFCDhAn5ABxQg4QJ+QAcUIOECfkAHFCDhAn5ABxQg4QJ+QAcUIOECfkAHFCDhAn5ABxQg4QJ+QAcUIOECfkAHFCDhAn5ABxQg4QJ+QAcUIOECfkAHFCDhAn5ABxQg4QJ+QAcUIOECfkAHFCDhAn5ABxQg4QJ+QAcUIOECfkAHFCDhAn5ABxQg4QJ+QAcUIOECfkAHFCDhAn5ABxQg4QJ+QAcUIOECfkAHFCDhAn5ABxQg4QJ+QAcUIOECfkAHFCDhAn5ABxQg4QJ+QAcUIOECfkAHFCDhAn5ABxQg4QJ+QAcUIOECfkAHFCDhAn5ABxQg4QJ+QAcZfpAQC/2ddtekKCRw4QJ+QAcUIOECfkAHFCDhAn5ABxQg4QJ+QAcUIOECfkAHFCDhAn5ABxQg4QJ+QAcUIOECfkAHFCDhAn5ABxQg4QJ+QAcUIOECfkAHFCDhAn5ABxQg4QJ+QAcUIOECfkAHFCDhAn5ABxQg4QJ+QAcUIOECfkAHFCDhAn5ABxQg4QJ+QAcUIOECfkAHFCDhAn5ABxQg4QJ+QAcUIOECfkAHFCDhAn5ABxQg4QJ+QAcUIOECfkAHFCDhAn5ABxQg4QJ+QAcUIOECfkAHFCDhAn5ABxQg4QJ+QAcUIOECfkAHFCDhAn5ABxQg4QJ+QAcUIOECfkAHFCDhAn5ABxQg4Qtzwf19f0CDibfd2mJyTc7sf0hASPHCBOyAHihBwgTsgB4oQcIE7IAeKEHCBOyAHihBwgTsgB4oQcIE7IAeKEHCBOyAHihBwgTsgB4oQcIE7IAeKEHCBOyAHihBwgTsgB4oQcIE7IAeKEHCBOyAHihBwgTsgB4oQcIE7IAeKEHCBOyAHihBwgTsgB4oQcIE7IAeKEHCBOyAHihBwgTsgB4oQcIE7IAeKEHCBOyAHihBwgTsgB4oQcIE7IAeKEHCBOyAHihBwgTsgB4oQcIE7IAeKEHCBOyAHihBwgTsgB4oQcIE7IAeKEHCBOyAHihBwgTsgB4oQcIE7IAeKEHCBOyAHihBwgTsgB4oQcIE7IAeKEHCBu+Vq+X9MjCm73Y3oCnM6+btMTEjxygDghB4gTcoA4IQeIE3KAOCEHiBNygDghB4gTcoA4IQeIE3KAOCEHiBNygDghB4gTcoA4IQeIE3KAOCEHiBNygDghB4gTcoA4IQeIE3KAOCEHiBNygDghB4gTcoA4IQeIE3KAOCEHiBNygDghB4gTcoA4IQeIE3KAOCEHiBNygDghB4gTcoA4IQeIE3KAOCEHiBNygDghB4gTcoA4IQeIE3KAOCEHiBNygDghB4gTcoA4IQeIE3KAOCEHiBNygDghB4gTcoA4IQeIE3KAOCEHiBNygDghB4gTcoA4IQeIE3KAOCEHiBNygDghB4gTcoA4IQeIE3KAOCEHiBNygLjL9AA4o33dpifwRjxygDghB4gTcoA4IQeIE3KAOCEHiBNygDghB4gTcoA4IQeIE3KAOCEHiBNygDghB4gTcoA4IQeIE3KAOCEHiBNygDghB4gTcoA4IQeIE3KAOCEHiBNygDghB4gTcoA4IQeIE3KAOCEHiBNygDghB4gTcoA4IQeIE3KAOCEHiBNygDghB4gTcoA4IQeIE3KAOCEHiBNygDghB4gTcoA4IQeIE3KAOCEHiBNygDghB4gTcoA4IQeIE3KAOCEHiBNygDghB4gTcoA4IQeIE3KAOCEHiBNygDghB4gTcoA4IQeIE3KAOCEHiBNygDghB4gTcoA4IQeIE3KAOCEHiBNygLgf/ckUrveNEsMAAAAASUVORK5CYII=\" id=\"image466b0bd65e\" transform=\"scale(1 -1) translate(0 -266.4)\" x=\"20.5625\" y=\"-6.912\" width=\"266.4\" height=\"266.4\"/>\n   </g>\n   <g id=\"matplotlib.axis_1\">\n    <g id=\"xtick_1\">\n     <g id=\"line2d_1\">\n      <defs>\n       <path id=\"m9571d10124\" d=\"M 0 0 \nL 0 3.5 \n\" style=\"stroke: #000000; stroke-width: 0.8\"/>\n      </defs>\n      <g>\n       <use xlink:href=\"#m9571d10124\" x=\"47.1737\" y=\"273.312\" style=\"stroke: #000000; stroke-width: 0.8\"/>\n      </g>\n     </g>\n     <g id=\"text_1\">\n      <!-- 0 -->\n      <g transform=\"translate(43.99245 287.910437) scale(0.1 -0.1)\">\n       <defs>\n        <path id=\"DejaVuSans-30\" d=\"M 2034 4250 \nQ 1547 4250 1301 3770 \nQ 1056 3291 1056 2328 \nQ 1056 1369 1301 889 \nQ 1547 409 2034 409 \nQ 2525 409 2770 889 \nQ 3016 1369 3016 2328 \nQ 3016 3291 2770 3770 \nQ 2525 4250 2034 4250 \nz\nM 2034 4750 \nQ 2819 4750 3233 4129 \nQ 3647 3509 3647 2328 \nQ 3647 1150 3233 529 \nQ 2819 -91 2034 -91 \nQ 1250 -91 836 529 \nQ 422 1150 422 2328 \nQ 422 3509 836 4129 \nQ 1250 4750 2034 4750 \nz\n\" transform=\"scale(0.015625)\"/>\n       </defs>\n       <use xlink:href=\"#DejaVuSans-30\"/>\n      </g>\n     </g>\n    </g>\n    <g id=\"xtick_2\">\n     <g id=\"line2d_2\">\n      <g>\n       <use xlink:href=\"#m9571d10124\" x=\"100.3961\" y=\"273.312\" style=\"stroke: #000000; stroke-width: 0.8\"/>\n      </g>\n     </g>\n     <g id=\"text_2\">\n      <!-- 1 -->\n      <g transform=\"translate(97.21485 287.910437) scale(0.1 -0.1)\">\n       <defs>\n        <path id=\"DejaVuSans-31\" d=\"M 794 531 \nL 1825 531 \nL 1825 4091 \nL 703 3866 \nL 703 4441 \nL 1819 4666 \nL 2450 4666 \nL 2450 531 \nL 3481 531 \nL 3481 0 \nL 794 0 \nL 794 531 \nz\n\" transform=\"scale(0.015625)\"/>\n       </defs>\n       <use xlink:href=\"#DejaVuSans-31\"/>\n      </g>\n     </g>\n    </g>\n    <g id=\"xtick_3\">\n     <g id=\"line2d_3\">\n      <g>\n       <use xlink:href=\"#m9571d10124\" x=\"153.6185\" y=\"273.312\" style=\"stroke: #000000; stroke-width: 0.8\"/>\n      </g>\n     </g>\n     <g id=\"text_3\">\n      <!-- 2 -->\n      <g transform=\"translate(150.43725 287.910437) scale(0.1 -0.1)\">\n       <defs>\n        <path id=\"DejaVuSans-32\" d=\"M 1228 531 \nL 3431 531 \nL 3431 0 \nL 469 0 \nL 469 531 \nQ 828 903 1448 1529 \nQ 2069 2156 2228 2338 \nQ 2531 2678 2651 2914 \nQ 2772 3150 2772 3378 \nQ 2772 3750 2511 3984 \nQ 2250 4219 1831 4219 \nQ 1534 4219 1204 4116 \nQ 875 4013 500 3803 \nL 500 4441 \nQ 881 4594 1212 4672 \nQ 1544 4750 1819 4750 \nQ 2544 4750 2975 4387 \nQ 3406 4025 3406 3419 \nQ 3406 3131 3298 2873 \nQ 3191 2616 2906 2266 \nQ 2828 2175 2409 1742 \nQ 1991 1309 1228 531 \nz\n\" transform=\"scale(0.015625)\"/>\n       </defs>\n       <use xlink:href=\"#DejaVuSans-32\"/>\n      </g>\n     </g>\n    </g>\n    <g id=\"xtick_4\">\n     <g id=\"line2d_4\">\n      <g>\n       <use xlink:href=\"#m9571d10124\" x=\"206.8409\" y=\"273.312\" style=\"stroke: #000000; stroke-width: 0.8\"/>\n      </g>\n     </g>\n     <g id=\"text_4\">\n      <!-- 3 -->\n      <g transform=\"translate(203.65965 287.910437) scale(0.1 -0.1)\">\n       <defs>\n        <path id=\"DejaVuSans-33\" d=\"M 2597 2516 \nQ 3050 2419 3304 2112 \nQ 3559 1806 3559 1356 \nQ 3559 666 3084 287 \nQ 2609 -91 1734 -91 \nQ 1441 -91 1130 -33 \nQ 819 25 488 141 \nL 488 750 \nQ 750 597 1062 519 \nQ 1375 441 1716 441 \nQ 2309 441 2620 675 \nQ 2931 909 2931 1356 \nQ 2931 1769 2642 2001 \nQ 2353 2234 1838 2234 \nL 1294 2234 \nL 1294 2753 \nL 1863 2753 \nQ 2328 2753 2575 2939 \nQ 2822 3125 2822 3475 \nQ 2822 3834 2567 4026 \nQ 2313 4219 1838 4219 \nQ 1578 4219 1281 4162 \nQ 984 4106 628 3988 \nL 628 4550 \nQ 988 4650 1302 4700 \nQ 1616 4750 1894 4750 \nQ 2613 4750 3031 4423 \nQ 3450 4097 3450 3541 \nQ 3450 3153 3228 2886 \nQ 3006 2619 2597 2516 \nz\n\" transform=\"scale(0.015625)\"/>\n       </defs>\n       <use xlink:href=\"#DejaVuSans-33\"/>\n      </g>\n     </g>\n    </g>\n    <g id=\"xtick_5\">\n     <g id=\"line2d_5\">\n      <g>\n       <use xlink:href=\"#m9571d10124\" x=\"260.0633\" y=\"273.312\" style=\"stroke: #000000; stroke-width: 0.8\"/>\n      </g>\n     </g>\n     <g id=\"text_5\">\n      <!-- 4 -->\n      <g transform=\"translate(256.88205 287.910437) scale(0.1 -0.1)\">\n       <defs>\n        <path id=\"DejaVuSans-34\" d=\"M 2419 4116 \nL 825 1625 \nL 2419 1625 \nL 2419 4116 \nz\nM 2253 4666 \nL 3047 4666 \nL 3047 1625 \nL 3713 1625 \nL 3713 1100 \nL 3047 1100 \nL 3047 0 \nL 2419 0 \nL 2419 1100 \nL 313 1100 \nL 313 1709 \nL 2253 4666 \nz\n\" transform=\"scale(0.015625)\"/>\n       </defs>\n       <use xlink:href=\"#DejaVuSans-34\"/>\n      </g>\n     </g>\n    </g>\n   </g>\n   <g id=\"matplotlib.axis_2\">\n    <g id=\"ytick_1\">\n     <g id=\"line2d_6\">\n      <defs>\n       <path id=\"m9925cb3aad\" d=\"M 0 0 \nL -3.5 0 \n\" style=\"stroke: #000000; stroke-width: 0.8\"/>\n      </defs>\n      <g>\n       <use xlink:href=\"#m9925cb3aad\" x=\"20.5625\" y=\"33.8112\" style=\"stroke: #000000; stroke-width: 0.8\"/>\n      </g>\n     </g>\n     <g id=\"text_6\">\n      <!-- 0 -->\n      <g transform=\"translate(7.2 37.610419) scale(0.1 -0.1)\">\n       <use xlink:href=\"#DejaVuSans-30\"/>\n      </g>\n     </g>\n    </g>\n    <g id=\"ytick_2\">\n     <g id=\"line2d_7\">\n      <g>\n       <use xlink:href=\"#m9925cb3aad\" x=\"20.5625\" y=\"87.0336\" style=\"stroke: #000000; stroke-width: 0.8\"/>\n      </g>\n     </g>\n     <g id=\"text_7\">\n      <!-- 1 -->\n      <g transform=\"translate(7.2 90.832819) scale(0.1 -0.1)\">\n       <use xlink:href=\"#DejaVuSans-31\"/>\n      </g>\n     </g>\n    </g>\n    <g id=\"ytick_3\">\n     <g id=\"line2d_8\">\n      <g>\n       <use xlink:href=\"#m9925cb3aad\" x=\"20.5625\" y=\"140.256\" style=\"stroke: #000000; stroke-width: 0.8\"/>\n      </g>\n     </g>\n     <g id=\"text_8\">\n      <!-- 2 -->\n      <g transform=\"translate(7.2 144.055219) scale(0.1 -0.1)\">\n       <use xlink:href=\"#DejaVuSans-32\"/>\n      </g>\n     </g>\n    </g>\n    <g id=\"ytick_4\">\n     <g id=\"line2d_9\">\n      <g>\n       <use xlink:href=\"#m9925cb3aad\" x=\"20.5625\" y=\"193.4784\" style=\"stroke: #000000; stroke-width: 0.8\"/>\n      </g>\n     </g>\n     <g id=\"text_9\">\n      <!-- 3 -->\n      <g transform=\"translate(7.2 197.277619) scale(0.1 -0.1)\">\n       <use xlink:href=\"#DejaVuSans-33\"/>\n      </g>\n     </g>\n    </g>\n    <g id=\"ytick_5\">\n     <g id=\"line2d_10\">\n      <g>\n       <use xlink:href=\"#m9925cb3aad\" x=\"20.5625\" y=\"246.7008\" style=\"stroke: #000000; stroke-width: 0.8\"/>\n      </g>\n     </g>\n     <g id=\"text_10\">\n      <!-- 4 -->\n      <g transform=\"translate(7.2 250.500019) scale(0.1 -0.1)\">\n       <use xlink:href=\"#DejaVuSans-34\"/>\n      </g>\n     </g>\n    </g>\n   </g>\n   <g id=\"patch_3\">\n    <path d=\"M 20.5625 273.312 \nL 20.5625 7.2 \n\" style=\"fill: none; stroke: #000000; stroke-width: 0.8; stroke-linejoin: miter; stroke-linecap: square\"/>\n   </g>\n   <g id=\"patch_4\">\n    <path d=\"M 286.6745 273.312 \nL 286.6745 7.2 \n\" style=\"fill: none; stroke: #000000; stroke-width: 0.8; stroke-linejoin: miter; stroke-linecap: square\"/>\n   </g>\n   <g id=\"patch_5\">\n    <path d=\"M 20.5625 273.312 \nL 286.6745 273.312 \n\" style=\"fill: none; stroke: #000000; stroke-width: 0.8; stroke-linejoin: miter; stroke-linecap: square\"/>\n   </g>\n   <g id=\"patch_6\">\n    <path d=\"M 20.5625 7.2 \nL 286.6745 7.2 \n\" style=\"fill: none; stroke: #000000; stroke-width: 0.8; stroke-linejoin: miter; stroke-linecap: square\"/>\n   </g>\n  </g>\n </g>\n <defs>\n  <clipPath id=\"pda8db016c4\">\n   <rect x=\"20.5625\" y=\"7.2\" width=\"266.112\" height=\"266.112\"/>\n  </clipPath>\n </defs>\n</svg>\n",
      "text/plain": [
       "<Figure size 640x480 with 1 Axes>"
      ]
     },
     "metadata": {},
     "output_type": "display_data"
    },
    {
     "name": "stdout",
     "output_type": "stream",
     "text": [
      "[0 1 1 0 0 0 1 1 1 0 1 1 1 0 1 1 1 0 1 0 1 1 0 1 1]\n"
     ]
    }
   ],
   "source": [
    "make_img_bit_string(solution)"
   ]
  },
  {
   "cell_type": "code",
   "execution_count": null,
   "metadata": {},
   "outputs": [],
   "source": []
  }
 ],
 "metadata": {
  "kernelspec": {
   "display_name": "Python 3.8.3 ('base')",
   "language": "python",
   "name": "python3"
  },
  "language_info": {
   "codemirror_mode": {
    "name": "ipython",
    "version": 3
   },
   "file_extension": ".py",
   "mimetype": "text/x-python",
   "name": "python",
   "nbconvert_exporter": "python",
   "pygments_lexer": "ipython3",
   "version": "3.8.3"
  },
  "orig_nbformat": 4,
  "vscode": {
   "interpreter": {
    "hash": "b60fce4d6021e5796dbda0941e38e0daefa5ebd49267d685e38e9ad40ea2f6d5"
   }
  }
 },
 "nbformat": 4,
 "nbformat_minor": 2
}
