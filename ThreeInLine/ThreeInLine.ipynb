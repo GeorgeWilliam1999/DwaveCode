{
 "cells": [
  {
   "cell_type": "code",
   "execution_count": 33,
   "metadata": {},
   "outputs": [],
   "source": [
    "#Dwave imports\n",
    "from dwave.system.samplers import DWaveSampler\n",
    "from dwave.system.composites import EmbeddingComposite\n",
    "\n",
    "\n",
    "#Impots for QUBO probelm\n",
    "import numpy as np\n",
    "from numpy import linalg as LA\n",
    "import pandas as pd\n",
    "import matplotlib as plt\n",
    "import itertools\n",
    "from itertools import product\n",
    "from matplotlib import pyplot as plt\n"
   ]
  },
  {
   "cell_type": "markdown",
   "metadata": {},
   "source": [
    "Generate all of the possible lines from cart coords, currently doesnt encode vertical lines."
   ]
  },
  {
   "cell_type": "code",
   "execution_count": 17,
   "metadata": {},
   "outputs": [],
   "source": [
    "def get_skew_lines(n):\n",
    "    #Get list of cart coords\n",
    "    xs = np.linspace(0,n,n,endpoint = False)\n",
    "    ys = np.linspace(0,n,n,endpoint = False)\n",
    "    X = product(xs,ys)\n",
    "    X = np.array(list(X))\n",
    "    #dx,dy,y_intercept\n",
    "\n",
    "    lines = []\n",
    "    for k in range(X.shape[0]):\n",
    "        for d in range(k,X.shape[0]):\n",
    "            if X[k][0]-X[d][0] != 0 and X[k][1]-X[d][1] != 0:\n",
    "                grad = (X[k][1]-X[d][1])/(X[k][0]-X[d][0])\n",
    "                y_intercept = X[k][1] - grad * X[k][0]\n",
    "                line = (grad,y_intercept)\n",
    "                lines.append(line)\n",
    "    lines = np.array(lines)\n",
    "    return lines"
   ]
  },
  {
   "cell_type": "code",
   "execution_count": 18,
   "metadata": {},
   "outputs": [],
   "source": [
    "#Check if a point is on a line (l belongs to delta_l)\n",
    "def delta_l(i,j,a,b,n):\n",
    "    if np.round(j - a*i - b, 1) == 0 and i < n and j < n:\n",
    "        return True\n",
    "    else: \n",
    "        return False"
   ]
  },
  {
   "cell_type": "markdown",
   "metadata": {},
   "source": [
    "Generate the QUBO matrix, details in my notebook."
   ]
  },
  {
   "cell_type": "code",
   "execution_count": 19,
   "metadata": {},
   "outputs": [],
   "source": [
    "def get_Q(n,lines,alpha,beta,gamma,omega):\n",
    "    Q = np.zeros((n**2,n**2))\n",
    "    rows = np.linspace(0,n,n,endpoint = False, dtype = 'int32')\n",
    "    cols = np.linspace(0,n,n,endpoint = False, dtype = 'int32')\n",
    "\n",
    "#1\n",
    "    for i in cols:\n",
    "        for j in rows:\n",
    "            for s in rows:\n",
    "                Q[int(i*n+j),int(i*n+s)] += alpha\n",
    "#2\n",
    "    for j in rows:\n",
    "        for i in cols:\n",
    "            for r in cols:\n",
    "                Q[int(i*n+j),int(r*n+j)] += beta\n",
    "#3\n",
    "    for l in lines:\n",
    "        a = l[0]\n",
    "        b = l[1]\n",
    "        for i in cols:\n",
    "            for j in rows:\n",
    "                for r in cols:\n",
    "                    for s in rows:\n",
    "                        if delta_l(i,j,a,b,n) & delta_l(r,s,a,b,n):\n",
    "                            Q[int(i*n+j),int(r*n+s)] += gamma\n",
    "#4\n",
    "    for i in rows:\n",
    "        for j in cols:\n",
    "            Q[int(i*n+j),int(i*n+j)] -=4*(alpha + beta)\n",
    "#5\n",
    "    for l in lines:\n",
    "        a = l[0]\n",
    "        b = l[1]\n",
    "        for i in cols:\n",
    "            for j in rows:\n",
    "                if delta_l(i,j,a,b,n):\n",
    "                    Q[int(i*n+j),int(i*n+j)] -= 4*gamma\n",
    "#6\n",
    "    for i in cols:\n",
    "        for j in rows:\n",
    "            Q[int(i*n+j),int(i*n+j)] -= 4 * n\n",
    "            for r in cols:\n",
    "                for s in rows:\n",
    "                    Q[int(i*n+j),int(r*n+s)] += omega\n",
    "    return Q"
   ]
  },
  {
   "cell_type": "code",
   "execution_count": 20,
   "metadata": {},
   "outputs": [],
   "source": [
    "n = 5\n",
    "lines = np.unique(get_skew_lines(n),axis = 0)\n",
    "Q = get_Q(n,lines,1,1,1,4)"
   ]
  },
  {
   "cell_type": "code",
   "execution_count": 21,
   "metadata": {},
   "outputs": [],
   "source": [
    "def get_lowest_eval(Q):\n",
    "    w,v = LA.eig(Q)\n",
    "    g = v[np.argmin(w)]\n",
    "    print('The lowest energy is' , w[np.argmin(w)])\n",
    "    return g"
   ]
  },
  {
   "cell_type": "code",
   "execution_count": 22,
   "metadata": {},
   "outputs": [],
   "source": [
    "def get_lowest_bitstring(Q):\n",
    "    bin_list = np.array(list(map(list, itertools.product([0, 1], repeat=Q.shape[0]))))[1:]\n",
    "    energies = []\n",
    "    for i in range(bin_list.shape[0]):\n",
    "        E = bin_list[i].T @ Q @ bin_list[i]\n",
    "        energies.append(E)\n",
    "    b = bin_list[np.argmin(energies)]\n",
    "    print('The lowest energy is' , energies[np.argmin(energies)])\n",
    "    return b,energies"
   ]
  },
  {
   "cell_type": "code",
   "execution_count": 23,
   "metadata": {},
   "outputs": [
    {
     "name": "stdout",
     "output_type": "stream",
     "text": [
      "The lowest energy is -217.0\n"
     ]
    }
   ],
   "source": [
    "ground_string,energies = get_lowest_bitstring(Q)"
   ]
  },
  {
   "cell_type": "code",
   "execution_count": 24,
   "metadata": {},
   "outputs": [],
   "source": [
    "def make_img_bit_string(b):\n",
    "    plt.imshow(b.reshape((n,n)))\n",
    "    plt.show()\n",
    "    print(b)"
   ]
  },
  {
   "cell_type": "code",
   "execution_count": 25,
   "metadata": {},
   "outputs": [
    {
     "data": {
      "image/png": "[encoded data removed]",
      "text/plain": [
       "<Figure size 640x480 with 1 Axes>"
      ]
     },
     "metadata": {},
     "output_type": "display_data"
    },
    {
     "name": "stdout",
     "output_type": "stream",
     "text": [
      "[0 0 0 1 0 1 0 0 0 1 0 0 0 0 0 1 0 0 0 1 0 1 0 1 0]\n"
     ]
    }
   ],
   "source": [
    "make_img_bit_string(ground_string)"
   ]
  },
  {
   "cell_type": "code",
   "execution_count": 26,
   "metadata": {},
   "outputs": [
    {
     "name": "stdout",
     "output_type": "stream",
     "text": [
      "The lowest energy is (-66.00000000000009+0j)\n"
     ]
    },
    {
     "data": {
      "text/plain": [
       "array([-1.97647858e-01+0.00000000e+00j,  4.34973208e-02+0.00000000e+00j,\n",
       "       -8.15050068e-02+0.00000000e+00j,  5.14866783e-17+0.00000000e+00j,\n",
       "        1.85553178e-01+0.00000000e+00j,  2.07292690e-01+0.00000000e+00j,\n",
       "       -3.96373000e-16+0.00000000e+00j, -2.43054407e-15+0.00000000e+00j,\n",
       "        8.58246673e-16+0.00000000e+00j, -1.69304006e-15+0.00000000e+00j,\n",
       "        4.24642175e-16+0.00000000e+00j, -3.55224904e-15+2.25671849e-15j,\n",
       "       -3.55224904e-15-2.25671849e-15j,  9.50506559e-02+0.00000000e+00j,\n",
       "        3.73551715e-15+0.00000000e+00j,  7.59860723e-15+0.00000000e+00j,\n",
       "        7.59759924e-01+0.00000000e+00j, -3.37727130e-01+0.00000000e+00j,\n",
       "        1.73687302e-01+0.00000000e+00j,  1.83636098e-01+0.00000000e+00j,\n",
       "        2.42210003e-15+0.00000000e+00j,  2.81136452e-15+0.00000000e+00j,\n",
       "       -3.49389254e-16+0.00000000e+00j,  3.07363944e-01+0.00000000e+00j,\n",
       "       -2.87080283e-01+0.00000000e+00j])"
      ]
     },
     "execution_count": 26,
     "metadata": {},
     "output_type": "execute_result"
    }
   ],
   "source": [
    "g = get_lowest_eval(Q)\n",
    "g"
   ]
  },
  {
   "cell_type": "code",
   "execution_count": 27,
   "metadata": {},
   "outputs": [],
   "source": [
    "def make_img(g):\n",
    "    g = abs(g)\n",
    "    g[g >= 0.1] = 1\n",
    "    g = np.round_(g, decimals = 0)\n",
    "    plt.imshow(g.reshape((n,n)))\n",
    "    plt.show()\n",
    "    print(g)\n",
    "    "
   ]
  },
  {
   "cell_type": "code",
   "execution_count": 28,
   "metadata": {},
   "outputs": [
    {
     "data": {
      "text/plain": [
       "array([-1.97647858e-01+0.00000000e+00j,  4.34973208e-02+0.00000000e+00j,\n",
       "       -8.15050068e-02+0.00000000e+00j,  5.14866783e-17+0.00000000e+00j,\n",
       "        1.85553178e-01+0.00000000e+00j,  2.07292690e-01+0.00000000e+00j,\n",
       "       -3.96373000e-16+0.00000000e+00j, -2.43054407e-15+0.00000000e+00j,\n",
       "        8.58246673e-16+0.00000000e+00j, -1.69304006e-15+0.00000000e+00j,\n",
       "        4.24642175e-16+0.00000000e+00j, -3.55224904e-15+2.25671849e-15j,\n",
       "       -3.55224904e-15-2.25671849e-15j,  9.50506559e-02+0.00000000e+00j,\n",
       "        3.73551715e-15+0.00000000e+00j,  7.59860723e-15+0.00000000e+00j,\n",
       "        7.59759924e-01+0.00000000e+00j, -3.37727130e-01+0.00000000e+00j,\n",
       "        1.73687302e-01+0.00000000e+00j,  1.83636098e-01+0.00000000e+00j,\n",
       "        2.42210003e-15+0.00000000e+00j,  2.81136452e-15+0.00000000e+00j,\n",
       "       -3.49389254e-16+0.00000000e+00j,  3.07363944e-01+0.00000000e+00j,\n",
       "       -2.87080283e-01+0.00000000e+00j])"
      ]
     },
     "execution_count": 28,
     "metadata": {},
     "output_type": "execute_result"
    }
   ],
   "source": [
    "g"
   ]
  },
  {
   "cell_type": "code",
   "execution_count": 29,
   "metadata": {},
   "outputs": [
    {
     "data": {
      "image/png": "[encoded data removed]",
      "text/plain": [
       "<Figure size 640x480 with 1 Axes>"
      ]
     },
     "metadata": {},
     "output_type": "display_data"
    },
    {
     "name": "stdout",
     "output_type": "stream",
     "text": [
      "[1. 0. 0. 0. 1. 1. 0. 0. 0. 0. 0. 0. 0. 0. 0. 0. 1. 1. 1. 1. 0. 0. 0. 1.\n",
      " 1.]\n"
     ]
    }
   ],
   "source": [
    "make_img(g)"
   ]
  },
  {
   "cell_type": "code",
   "execution_count": 30,
   "metadata": {},
   "outputs": [
    {
     "data": {
      "text/plain": [
       "(130, 2)"
      ]
     },
     "execution_count": 30,
     "metadata": {},
     "output_type": "execute_result"
    }
   ],
   "source": [
    "lines.shape"
   ]
  },
  {
   "cell_type": "markdown",
   "metadata": {},
   "source": [
    "Attempt 2"
   ]
  },
  {
   "cell_type": "code",
   "execution_count": null,
   "metadata": {},
   "outputs": [],
   "source": []
  }
 ],
 "metadata": {
  "kernelspec": {
   "display_name": "Python 3.8.3 ('base')",
   "language": "python",
   "name": "python3"
  },
  "language_info": {
   "codemirror_mode": {
    "name": "ipython",
    "version": 3
   },
   "file_extension": ".py",
   "mimetype": "text/x-python",
   "name": "python",
   "nbconvert_exporter": "python",
   "pygments_lexer": "ipython3",
   "version": "3.8.3"
  },
  "orig_nbformat": 4,
  "vscode": {
   "interpreter": {
    "hash": "b60fce4d6021e5796dbda0941e38e0daefa5ebd49267d685e38e9ad40ea2f6d5"
   }
  }
 },
 "nbformat": 4,
 "nbformat_minor": 2
}
