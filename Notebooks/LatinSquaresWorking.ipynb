{
 "metadata": {
  "language_info": {
   "codemirror_mode": {
    "name": "ipython",
    "version": 3
   },
   "file_extension": ".py",
   "mimetype": "text/x-python",
   "name": "python",
   "nbconvert_exporter": "python",
   "pygments_lexer": "ipython3",
   "version": "3.9.15"
  },
  "orig_nbformat": 4,
  "kernelspec": {
   "name": "python3",
   "display_name": "Python 3.9.15 64-bit"
  },
  "interpreter": {
   "hash": "4cd7ab41f5fca4b9b44701077e38c5ffd31fe66a6cab21e0214b68d958d0e462"
  }
 },
 "nbformat": 4,
 "nbformat_minor": 2,
 "cells": [
  {
   "cell_type": "code",
   "execution_count": 2,
   "metadata": {},
   "outputs": [],
   "source": [
    "#Dwave imports\n",
    "from dwave.system.samplers import DWaveSampler\n",
    "from dwave.system.composites import EmbeddingComposite\n",
    "import dimod\n",
    "from __future__ import print_function\n",
    "\n",
    "import dimod\n",
    "import math\n",
    "import sys\n",
    "import copy\n",
    "\n",
    "from dimod.generators.constraints import combinations\n",
    "from hybrid.reference import KerberosSampler\n",
    "\n",
    "#Impots for QUBO probelm\n",
    "import numpy as np\n",
    "from numpy import linalg as LA\n",
    "import pandas as pd\n",
    "import matplotlib as plt\n",
    "import itertools as it\n",
    "from itertools import product\n",
    "from matplotlib import pyplot as plt\n",
    "import math"
   ]
  },
  {
   "cell_type": "code",
   "execution_count": 3,
   "metadata": {
    "tags": []
   },
   "outputs": [
    {
     "output_type": "stream",
     "name": "stdout",
     "text": [
      "BQM started\n",
      "(1):\n",
      "(2):\n",
      "(3):\n",
      "(4):\n",
      "(5):\n",
      "BQM complete\n"
     ]
    },
    {
     "output_type": "error",
     "ename": "NameError",
     "evalue": "name 'check_OLS' is not defined",
     "traceback": [
      "\u001b[0;31m---------------------------------------------------------------------------\u001b[0m",
      "\u001b[0;31mNameError\u001b[0m                                 Traceback (most recent call last)",
      "Cell \u001b[0;32mIn [3], line 116\u001b[0m\n\u001b[1;32m    114\u001b[0m df, A, k_k, solutions \u001b[38;5;241m=\u001b[39m linear_bqm(digits, x_card, y_card)\n\u001b[1;32m    115\u001b[0m \u001b[38;5;28mprint\u001b[39m(\u001b[38;5;124m'\u001b[39m\u001b[38;5;124mBQM complete\u001b[39m\u001b[38;5;124m'\u001b[39m)\n\u001b[0;32m--> 116\u001b[0m a \u001b[38;5;241m=\u001b[39m \u001b[43mcheck_OLS\u001b[49m(A,k_k)\n\u001b[1;32m    117\u001b[0m \u001b[38;5;28mprint\u001b[39m(\u001b[38;5;124m'\u001b[39m\u001b[38;5;124mitter: \u001b[39m\u001b[38;5;124m'\u001b[39m, count)\n\u001b[1;32m    118\u001b[0m count \u001b[38;5;241m+\u001b[39m\u001b[38;5;241m=\u001b[39m \u001b[38;5;241m1\u001b[39m\n",
      "\u001b[0;31mNameError\u001b[0m: name 'check_OLS' is not defined"
     ]
    }
   ],
   "source": [
    "#Dwave imports\n",
    "from dwave.system.samplers import DWaveSampler\n",
    "from dwave.system.composites import EmbeddingComposite\n",
    "import dimod\n",
    "from __future__ import print_function\n",
    "\n",
    "import dimod\n",
    "import math\n",
    "import sys\n",
    "import copy\n",
    "\n",
    "from dimod.generators.constraints import combinations\n",
    "from hybrid.reference import KerberosSampler\n",
    "\n",
    "#Imports for QUBO probelm\n",
    "import numpy as np\n",
    "from numpy import linalg as LA\n",
    "import pandas as pd\n",
    "import matplotlib as plt\n",
    "import itertools as it\n",
    "from itertools import product\n",
    "from matplotlib import pyplot as plt\n",
    "import math\n",
    "\n",
    "\n",
    "\n",
    "### s_i_j_tuple formulation: \n",
    "\n",
    "def linear_bqm(digits,cols,rows):\n",
    "\n",
    "    # Set up\n",
    "    L = range(digits)\n",
    "    K = range(digits)\n",
    "    X = range(cols)\n",
    "    Y = range(rows)\n",
    "    \n",
    "    bqm = dimod.BinaryQuadraticModel({}, {}, 0.0, dimod.BINARY)\n",
    "    bqm_dict = {}\n",
    "\n",
    "    print('BQM started')\n",
    "\n",
    "    # (1): Every l,k has a i,j\n",
    "    print('(1):')\n",
    "    for l in L:\n",
    "        for k in K:\n",
    "            bqm.update(combinations([f's_{x}_{y}_{k}_{l}' for (x,y) in it.product(X,Y)], 1))\n",
    "\n",
    "    # (2): \n",
    "    print('(2):')\n",
    "    for y in Y:\n",
    "        for l in L:\n",
    "            bqm.update(combinations([f's_{x}_{y}_{k}_{l}' for (x,k) in it.product(X,K)], 1))\n",
    "            #print([f's_{x}_{y}_{k}_{l}' for (x,k) in it.product(X,K)])\n",
    "\n",
    "    # (3): \n",
    "    print('(3):')\n",
    "    for y in Y:\n",
    "        for k in K:\n",
    "            bqm.update(combinations([f's_{x}_{y}_{k}_{l}' for (x,l) in it.product(X,L)], 1))\n",
    "            #print([f's_{x}_{y}_{k}_{l}' for (x,l) in it.product(X,L)])\n",
    "\n",
    "    # (4):\n",
    "    print('(4):')\n",
    "    for x in X:\n",
    "        for l in L:\n",
    "            bqm.update(combinations([f's_{x}_{y}_{k}_{l}' for (y,k) in it.product(Y,K)], 1))\n",
    "            #print([f's_{x}_{y}_{k}_{l}' for (y,k) in it.product(Y,K)])\n",
    "\n",
    "    # (5): \n",
    "    print('(5):')\n",
    "    for x in X:\n",
    "        for k in K:\n",
    "            bqm.update(combinations([f's_{x}_{y}_{k}_{l}' for (y,l) in it.product(Y,L)], 1))\n",
    "            #print([f's_{x}_{y}_{k}_{l}' for (y,l) in it.product(Y,L)])\n",
    "\n",
    "    # (6): every box has an l,k\n",
    "    for x in X:\n",
    "        for y in Y: \n",
    "            bqm.update(combinations([f's_{x}_{y}_{k}_{l}' for (l,k) in it.product(L,K)], 1))\n",
    "  \n",
    "    # # x*y binary vars\n",
    "\n",
    "    bqm.update(combinations([f's_{x}_{y}_{k}_{l}' for (x,y,l,k) in it.product(X,Y,L,K)], cols * rows))\n",
    "    \n",
    "    #print(bqm)\n",
    "\n",
    "\n",
    "    solution = KerberosSampler().sample(bqm, num_reads = 10)\n",
    "    df = solution.to_pandas_dataframe()\n",
    "    best_solution = solution.first.sample\n",
    "    solution_list = [k for k, v in best_solution.items() if v == 1]\n",
    "            #solutions.append(label.split('_')[1:])\n",
    "    solutions = [label.split('_')[1:] for label in solution_list]\n",
    "\n",
    "    simplified_coords = []\n",
    "    k_k = []\n",
    "    for s in solutions:\n",
    "        k_k.append((int(s[2]),int(s[3])))\n",
    "\n",
    "    A = np.zeros((2, x_card, y_card))\n",
    "    for sol in solutions:\n",
    "        for l in range(2):\n",
    "            A[l,int(sol[0]),int(sol[1])] = int(sol[2+l])\n",
    "    return df, A, k_k, solutions\n",
    "\n",
    "digits = 7 #possible digits\n",
    "x_card = 7 #x length\n",
    "y_card = x_card #y length\n",
    "\n",
    "true_solutons = []\n",
    "a = False\n",
    "count = 0\n",
    "while a == False:\n",
    "    df, A, k_k, solutions = linear_bqm(digits, x_card, y_card)\n",
    "    print('BQM complete')\n",
    "    a = check_OLS(A,k_k)\n",
    "    print('itter: ', count)\n",
    "    count += 1\n",
    "    if a == True:\n",
    "        true_solutons.append([df, A, k_k])\n",
    "        print('True solution : ' , A)\n",
    "\n",
    "\n",
    "\n"
   ]
  },
  {
   "cell_type": "code",
   "execution_count": 1,
   "metadata": {},
   "outputs": [
    {
     "output_type": "error",
     "ename": "NameError",
     "evalue": "name 'A_7' is not defined",
     "traceback": [
      "\u001b[0;31m---------------------------------------------------------------------------\u001b[0m",
      "\u001b[0;31mNameError\u001b[0m                                 Traceback (most recent call last)",
      "Cell \u001b[0;32mIn [1], line 1\u001b[0m\n\u001b[0;32m----> 1\u001b[0m \u001b[43mA_7\u001b[49m\n",
      "\u001b[0;31mNameError\u001b[0m: name 'A_7' is not defined"
     ]
    }
   ],
   "source": [
    "A_7"
   ]
  },
  {
   "cell_type": "code",
   "execution_count": 13,
   "metadata": {},
   "outputs": [
    {
     "output_type": "stream",
     "name": "stdout",
     "text": [
      "layer 0, row 0 passes\nlayer 0, row 1 passes\nlayer 0, row 2 passes\nlayer 0, row 3 passes\nlayer 0, row 4 passes\nlayer 0, row 5 passes\nlayer 0, row 6 fails\nlayer 0, column 0 fails\nlayer 0, column 1 passes\nlayer 0, column 2 passes\nlayer 0, column 3 passes\nlayer 0, column 4 passes\nlayer 0, column 5 passes\nlayer 0, column 6 passes\nlayer 1, row 0 passes\nlayer 1, row 1 fails\nlayer 1, row 2 passes\nlayer 1, row 3 passes\nlayer 1, row 4 passes\nlayer 1, row 5 passes\nlayer 1, row 6 fails\nlayer 1, column 0 fails\nlayer 1, column 1 passes\nlayer 1, column 2 fails\nlayer 1, column 3 passes\nlayer 1, column 4 passes\nlayer 1, column 5 passes\nlayer 1, column 6 passes\n6  rows or columns have failed\nNon-unique tuples exist. Total tuples:  49  Unique tuples:  47\n"
     ]
    }
   ],
   "source": [
    "a = check_OLS(A_7,k_k_7)"
   ]
  },
  {
   "cell_type": "code",
   "execution_count": null,
   "metadata": {},
   "outputs": [],
   "source": []
  },
  {
   "cell_type": "code",
   "execution_count": 57,
   "metadata": {},
   "outputs": [
    {
     "output_type": "execute_result",
     "data": {
      "text/plain": [
       "array([[[3., 1., 2., 0.],\n",
       "        [2., 0., 3., 1.],\n",
       "        [0., 2., 1., 3.],\n",
       "        [1., 3., 0., 2.]],\n",
       "\n",
       "       [[2., 1., 3., 0.],\n",
       "        [0., 3., 1., 2.],\n",
       "        [1., 2., 0., 3.],\n",
       "        [3., 0., 2., 1.]]])"
      ]
     },
     "metadata": {},
     "execution_count": 57
    }
   ],
   "source": [
    "A_4"
   ]
  },
  {
   "cell_type": "code",
   "execution_count": 62,
   "metadata": {},
   "outputs": [
    {
     "output_type": "stream",
     "name": "stdout",
     "text": [
      "layer 0, row 0 passes\nlayer 0, row 1 passes\nlayer 0, row 2 passes\nlayer 0, row 3 passes\nlayer 0, column 0 passes\nlayer 0, column 1 passes\nlayer 0, column 2 passes\nlayer 0, column 3 passes\nlayer 1, row 0 passes\nlayer 1, row 1 passes\nlayer 1, row 2 passes\nlayer 1, row 3 passes\nlayer 1, column 0 passes\nlayer 1, column 1 passes\nlayer 1, column 2 passes\nlayer 1, column 3 passes\n0  rows or columns have failed\nAll tuples are unique\n"
     ]
    }
   ],
   "source": [
    "check_OLS(A_4,k_k_4)"
   ]
  },
  {
   "cell_type": "code",
   "execution_count": 54,
   "metadata": {},
   "outputs": [
    {
     "output_type": "execute_result",
     "data": {
      "text/plain": [
       "[['0', '0', '3', '2'],\n",
       " ['0', '1', '1', '1'],\n",
       " ['0', '2', '2', '3'],\n",
       " ['0', '3', '0', '0'],\n",
       " ['1', '0', '2', '0'],\n",
       " ['1', '1', '0', '3'],\n",
       " ['1', '2', '3', '1'],\n",
       " ['1', '3', '1', '2'],\n",
       " ['2', '0', '0', '1'],\n",
       " ['2', '1', '2', '2'],\n",
       " ['2', '2', '1', '0'],\n",
       " ['2', '3', '3', '3'],\n",
       " ['3', '0', '1', '3'],\n",
       " ['3', '1', '3', '0'],\n",
       " ['3', '2', '0', '2'],\n",
       " ['3', '3', '2', '1']]"
      ]
     },
     "metadata": {},
     "execution_count": 54
    }
   ],
   "source": [
    "solutions"
   ]
  },
  {
   "cell_type": "code",
   "execution_count": 55,
   "metadata": {},
   "outputs": [
    {
     "output_type": "execute_result",
     "data": {
      "text/plain": [
       "array([[[3., 1., 2., 0.],\n",
       "        [2., 0., 3., 1.],\n",
       "        [0., 2., 1., 3.],\n",
       "        [1., 3., 0., 2.]],\n",
       "\n",
       "       [[2., 1., 3., 0.],\n",
       "        [0., 3., 1., 2.],\n",
       "        [1., 2., 0., 3.],\n",
       "        [3., 0., 2., 1.]]])"
      ]
     },
     "metadata": {},
     "execution_count": 55
    }
   ],
   "source": [
    "A_4"
   ]
  },
  {
   "cell_type": "code",
   "execution_count": 43,
   "metadata": {},
   "outputs": [
    {
     "output_type": "execute_result",
     "data": {
      "text/plain": [
       "array([[[3., 0., 4., 5., 2., 1., 6.],\n",
       "        [0., 2., 1., 6., 4., 5., 3.],\n",
       "        [6., 1., 2., 0., 5., 3., 4.],\n",
       "        [5., 4., 3., 2., 6., 0., 1.],\n",
       "        [1., 5., 6., 4., 3., 2., 0.],\n",
       "        [2., 6., 0., 3., 1., 4., 5.],\n",
       "        [4., 3., 5., 1., 0., 6., 2.]],\n",
       "\n",
       "       [[5., 6., 3., 1., 2., 4., 1.],\n",
       "        [2., 0., 1., 4., 5., 3., 6.],\n",
       "        [3., 2., 6., 5., 0., 1., 4.],\n",
       "        [4., 1., 2., 3., 6., 0., 5.],\n",
       "        [1., 6., 0., 2., 4., 5., 3.],\n",
       "        [1., 5., 4., 0., 3., 6., 2.],\n",
       "        [0., 3., 5., 6., 1., 2., 4.]]])"
      ]
     },
     "metadata": {},
     "execution_count": 43
    }
   ],
   "source": [
    "A_7"
   ]
  },
  {
   "cell_type": "code",
   "execution_count": 45,
   "metadata": {},
   "outputs": [
    {
     "output_type": "stream",
     "name": "stdout",
     "text": [
      "there are 49 unique tuples:  [(4, 0), (3, 4), (4, 3), (3, 1), (5, 4), (4, 6), (5, 1), (0, 2), (0, 5), (2, 2), (1, 0), (1, 6), (2, 5), (1, 3), (6, 2), (6, 5), (4, 2), (3, 0), (4, 5), (3, 3), (5, 0), (5, 6), (3, 6), (5, 3), (0, 1), (2, 4), (1, 2), (0, 4), (2, 1), (1, 5), (6, 1), (6, 4), (3, 2), (4, 1), (3, 5), (5, 2), (4, 4), (5, 5), (0, 0), (1, 1), (0, 3), (2, 0), (1, 4), (0, 6), (2, 3), (2, 6), (6, 0), (6, 6), (6, 3)]\n"
     ]
    }
   ],
   "source": [
    "set_k_k = list(set(k_k))\n",
    "print('there are', len(set_k_k), 'unique tuples: ',  set_k_k)"
   ]
  },
  {
   "source": [
    "A"
   ],
   "cell_type": "code",
   "metadata": {},
   "execution_count": null,
   "outputs": []
  },
  {
   "cell_type": "code",
   "execution_count": 47,
   "metadata": {},
   "outputs": [
    {
     "output_type": "execute_result",
     "data": {
      "text/plain": [
       "    s_0_0_0_0  s_0_0_0_1  s_0_0_0_2  s_0_0_0_3  s_0_0_0_4  s_0_0_0_5  \\\n",
       "0           0          0          0          0          0          0   \n",
       "1           0          0          0          0          0          0   \n",
       "2           0          0          0          0          0          1   \n",
       "3           0          0          0          0          0          0   \n",
       "4           0          0          0          0          0          0   \n",
       "5           0          0          0          0          0          0   \n",
       "6           0          0          0          0          0          0   \n",
       "7           0          0          0          0          0          0   \n",
       "8           0          0          0          0          0          0   \n",
       "9           0          0          0          0          0          0   \n",
       "10          0          0          0          0          0          0   \n",
       "11          0          0          0          0          0          0   \n",
       "12          0          0          0          0          0          0   \n",
       "13          0          0          0          0          0          0   \n",
       "14          0          0          0          0          0          0   \n",
       "15          0          0          0          0          0          0   \n",
       "16          0          0          0          0          0          0   \n",
       "17          0          0          0          0          0          0   \n",
       "18          0          0          0          0          0          0   \n",
       "19          0          0          0          0          0          0   \n",
       "20          0          0          0          0          0          0   \n",
       "21          0          0          0          0          0          0   \n",
       "22          0          0          0          0          0          0   \n",
       "23          0          0          0          0          0          0   \n",
       "24          0          0          0          0          0          0   \n",
       "25          0          0          0          0          0          0   \n",
       "26          0          0          0          0          0          0   \n",
       "27          0          0          0          0          0          0   \n",
       "28          0          0          0          0          0          0   \n",
       "29          0          0          0          0          0          0   \n",
       "30          0          0          0          0          0          0   \n",
       "31          0          0          0          0          0          0   \n",
       "32          0          0          0          0          0          0   \n",
       "33          0          0          0          0          0          1   \n",
       "34          0          0          0          0          0          0   \n",
       "35          0          0          0          0          0          0   \n",
       "36          0          0          0          0          0          0   \n",
       "37          0          0          0          0          0          0   \n",
       "38          0          0          0          0          0          0   \n",
       "39          0          0          0          0          0          0   \n",
       "\n",
       "    s_0_0_0_6  s_0_0_0_7  s_0_0_1_0  s_0_0_1_1  ...  s_7_7_7_0  s_7_7_7_1  \\\n",
       "0           0          0          0          0  ...          0          0   \n",
       "1           0          0          0          0  ...          0          0   \n",
       "2           0          0          0          0  ...          0          0   \n",
       "3           0          0          0          0  ...          0          0   \n",
       "4           1          0          0          0  ...          0          0   \n",
       "5           0          0          0          0  ...          0          0   \n",
       "6           0          0          0          0  ...          0          0   \n",
       "7           0          0          0          0  ...          0          0   \n",
       "8           0          0          0          0  ...          0          0   \n",
       "9           0          0          0          0  ...          0          0   \n",
       "10          0          0          0          0  ...          0          0   \n",
       "11          0          0          0          0  ...          0          0   \n",
       "12          0          0          0          0  ...          0          0   \n",
       "13          0          0          0          0  ...          0          0   \n",
       "14          0          0          0          0  ...          0          0   \n",
       "15          0          0          0          0  ...          0          0   \n",
       "16          0          0          0          0  ...          0          0   \n",
       "17          0          0          0          0  ...          0          0   \n",
       "18          0          0          0          0  ...          0          0   \n",
       "19          0          0          0          0  ...          0          1   \n",
       "20          0          0          0          0  ...          0          0   \n",
       "21          0          0          0          0  ...          0          0   \n",
       "22          0          0          0          0  ...          0          0   \n",
       "23          0          0          0          0  ...          0          0   \n",
       "24          0          0          0          0  ...          0          0   \n",
       "25          0          0          0          0  ...          0          0   \n",
       "26          0          0          0          0  ...          0          0   \n",
       "27          0          0          0          0  ...          0          0   \n",
       "28          0          0          0          0  ...          0          0   \n",
       "29          0          0          0          0  ...          0          0   \n",
       "30          0          0          0          1  ...          0          0   \n",
       "31          0          0          0          0  ...          0          0   \n",
       "32          0          0          0          0  ...          0          0   \n",
       "33          0          0          0          0  ...          0          0   \n",
       "34          0          0          0          0  ...          0          0   \n",
       "35          0          0          0          0  ...          0          0   \n",
       "36          0          0          0          0  ...          0          0   \n",
       "37          0          0          0          0  ...          0          0   \n",
       "38          0          0          0          0  ...          0          0   \n",
       "39          0          0          0          0  ...          0          0   \n",
       "\n",
       "    s_7_7_7_2  s_7_7_7_3  s_7_7_7_4  s_7_7_7_5  s_7_7_7_6  s_7_7_7_7  energy  \\\n",
       "0           0          0          0          0          0          0    20.0   \n",
       "1           0          0          0          0          0          0    18.0   \n",
       "2           0          0          0          0          0          0    18.0   \n",
       "3           0          0          0          0          0          0    18.0   \n",
       "4           0          0          0          0          0          0    18.0   \n",
       "5           0          0          0          0          0          0    16.0   \n",
       "6           0          0          0          0          0          0    18.0   \n",
       "7           0          0          0          0          0          0    12.0   \n",
       "8           0          0          0          0          0          0    22.0   \n",
       "9           0          0          0          0          0          0    14.0   \n",
       "10          0          0          0          0          0          0    18.0   \n",
       "11          0          0          0          0          0          0    16.0   \n",
       "12          0          0          0          0          0          0    18.0   \n",
       "13          0          0          0          0          0          0    20.0   \n",
       "14          0          0          0          0          0          0    22.0   \n",
       "15          0          0          0          0          0          0    12.0   \n",
       "16          0          0          0          0          0          0    20.0   \n",
       "17          0          0          0          0          1          0    18.0   \n",
       "18          0          0          0          0          0          0    14.0   \n",
       "19          0          0          0          0          0          0    22.0   \n",
       "20          0          0          0          0          0          0    20.0   \n",
       "21          0          0          0          0          0          0    18.0   \n",
       "22          0          0          0          0          0          0    16.0   \n",
       "23          0          0          0          0          0          0    18.0   \n",
       "24          0          0          0          0          0          0    18.0   \n",
       "25          0          0          0          0          0          0    18.0   \n",
       "26          0          0          0          0          0          0    20.0   \n",
       "27          0          0          0          0          0          0    16.0   \n",
       "28          0          0          0          0          0          0    20.0   \n",
       "29          0          0          0          0          0          0    14.0   \n",
       "30          0          0          0          0          0          0    20.0   \n",
       "31          0          0          0          0          0          0    16.0   \n",
       "32          0          0          0          0          0          0    14.0   \n",
       "33          0          0          0          0          0          0    16.0   \n",
       "34          0          0          0          0          0          0    16.0   \n",
       "35          0          1          0          0          0          0    16.0   \n",
       "36          0          0          0          0          0          0    16.0   \n",
       "37          0          0          0          0          0          0    18.0   \n",
       "38          0          0          0          0          0          0    16.0   \n",
       "39          0          0          0          0          0          0    20.0   \n",
       "\n",
       "    num_occurrences  \n",
       "0                 1  \n",
       "1                 1  \n",
       "2                 1  \n",
       "3                 1  \n",
       "4                 1  \n",
       "5                 1  \n",
       "6                 1  \n",
       "7                 1  \n",
       "8                 1  \n",
       "9                 1  \n",
       "10                1  \n",
       "11                1  \n",
       "12                1  \n",
       "13                1  \n",
       "14                1  \n",
       "15                1  \n",
       "16                1  \n",
       "17                1  \n",
       "18                1  \n",
       "19                1  \n",
       "20                1  \n",
       "21                1  \n",
       "22                1  \n",
       "23                1  \n",
       "24                1  \n",
       "25                1  \n",
       "26                1  \n",
       "27                1  \n",
       "28                1  \n",
       "29                1  \n",
       "30                1  \n",
       "31                1  \n",
       "32                1  \n",
       "33                1  \n",
       "34                1  \n",
       "35                1  \n",
       "36                1  \n",
       "37                1  \n",
       "38                1  \n",
       "39                1  \n",
       "\n",
       "[40 rows x 4098 columns]"
      ],
      "text/html": "<div>\n<style scoped>\n    .dataframe tbody tr th:only-of-type {\n        vertical-align: middle;\n    }\n\n    .dataframe tbody tr th {\n        vertical-align: top;\n    }\n\n    .dataframe thead th {\n        text-align: right;\n    }\n</style>\n<table border=\"1\" class=\"dataframe\">\n  <thead>\n    <tr style=\"text-align: right;\">\n      <th></th>\n      <th>s_0_0_0_0</th>\n      <th>s_0_0_0_1</th>\n      <th>s_0_0_0_2</th>\n      <th>s_0_0_0_3</th>\n      <th>s_0_0_0_4</th>\n      <th>s_0_0_0_5</th>\n      <th>s_0_0_0_6</th>\n      <th>s_0_0_0_7</th>\n      <th>s_0_0_1_0</th>\n      <th>s_0_0_1_1</th>\n      <th>...</th>\n      <th>s_7_7_7_0</th>\n      <th>s_7_7_7_1</th>\n      <th>s_7_7_7_2</th>\n      <th>s_7_7_7_3</th>\n      <th>s_7_7_7_4</th>\n      <th>s_7_7_7_5</th>\n      <th>s_7_7_7_6</th>\n      <th>s_7_7_7_7</th>\n      <th>energy</th>\n      <th>num_occurrences</th>\n    </tr>\n  </thead>\n  <tbody>\n    <tr>\n      <th>0</th>\n      <td>0</td>\n      <td>0</td>\n      <td>0</td>\n      <td>0</td>\n      <td>0</td>\n      <td>0</td>\n      <td>0</td>\n      <td>0</td>\n      <td>0</td>\n      <td>0</td>\n      <td>...</td>\n      <td>0</td>\n      <td>0</td>\n      <td>0</td>\n      <td>0</td>\n      <td>0</td>\n      <td>0</td>\n      <td>0</td>\n      <td>0</td>\n      <td>20.0</td>\n      <td>1</td>\n    </tr>\n    <tr>\n      <th>1</th>\n      <td>0</td>\n      <td>0</td>\n      <td>0</td>\n      <td>0</td>\n      <td>0</td>\n      <td>0</td>\n      <td>0</td>\n      <td>0</td>\n      <td>0</td>\n      <td>0</td>\n      <td>...</td>\n      <td>0</td>\n      <td>0</td>\n      <td>0</td>\n      <td>0</td>\n      <td>0</td>\n      <td>0</td>\n      <td>0</td>\n      <td>0</td>\n      <td>18.0</td>\n      <td>1</td>\n    </tr>\n    <tr>\n      <th>2</th>\n      <td>0</td>\n      <td>0</td>\n      <td>0</td>\n      <td>0</td>\n      <td>0</td>\n      <td>1</td>\n      <td>0</td>\n      <td>0</td>\n      <td>0</td>\n      <td>0</td>\n      <td>...</td>\n      <td>0</td>\n      <td>0</td>\n      <td>0</td>\n      <td>0</td>\n      <td>0</td>\n      <td>0</td>\n      <td>0</td>\n      <td>0</td>\n      <td>18.0</td>\n      <td>1</td>\n    </tr>\n    <tr>\n      <th>3</th>\n      <td>0</td>\n      <td>0</td>\n      <td>0</td>\n      <td>0</td>\n      <td>0</td>\n      <td>0</td>\n      <td>0</td>\n      <td>0</td>\n      <td>0</td>\n      <td>0</td>\n      <td>...</td>\n      <td>0</td>\n      <td>0</td>\n      <td>0</td>\n      <td>0</td>\n      <td>0</td>\n      <td>0</td>\n      <td>0</td>\n      <td>0</td>\n      <td>18.0</td>\n      <td>1</td>\n    </tr>\n    <tr>\n      <th>4</th>\n      <td>0</td>\n      <td>0</td>\n      <td>0</td>\n      <td>0</td>\n      <td>0</td>\n      <td>0</td>\n      <td>1</td>\n      <td>0</td>\n      <td>0</td>\n      <td>0</td>\n      <td>...</td>\n      <td>0</td>\n      <td>0</td>\n      <td>0</td>\n      <td>0</td>\n      <td>0</td>\n      <td>0</td>\n      <td>0</td>\n      <td>0</td>\n      <td>18.0</td>\n      <td>1</td>\n    </tr>\n    <tr>\n      <th>5</th>\n      <td>0</td>\n      <td>0</td>\n      <td>0</td>\n      <td>0</td>\n      <td>0</td>\n      <td>0</td>\n      <td>0</td>\n      <td>0</td>\n      <td>0</td>\n      <td>0</td>\n      <td>...</td>\n      <td>0</td>\n      <td>0</td>\n      <td>0</td>\n      <td>0</td>\n      <td>0</td>\n      <td>0</td>\n      <td>0</td>\n      <td>0</td>\n      <td>16.0</td>\n      <td>1</td>\n    </tr>\n    <tr>\n      <th>6</th>\n      <td>0</td>\n      <td>0</td>\n      <td>0</td>\n      <td>0</td>\n      <td>0</td>\n      <td>0</td>\n      <td>0</td>\n      <td>0</td>\n      <td>0</td>\n      <td>0</td>\n      <td>...</td>\n      <td>0</td>\n      <td>0</td>\n      <td>0</td>\n      <td>0</td>\n      <td>0</td>\n      <td>0</td>\n      <td>0</td>\n      <td>0</td>\n      <td>18.0</td>\n      <td>1</td>\n    </tr>\n    <tr>\n      <th>7</th>\n      <td>0</td>\n      <td>0</td>\n      <td>0</td>\n      <td>0</td>\n      <td>0</td>\n      <td>0</td>\n      <td>0</td>\n      <td>0</td>\n      <td>0</td>\n      <td>0</td>\n      <td>...</td>\n      <td>0</td>\n      <td>0</td>\n      <td>0</td>\n      <td>0</td>\n      <td>0</td>\n      <td>0</td>\n      <td>0</td>\n      <td>0</td>\n      <td>12.0</td>\n      <td>1</td>\n    </tr>\n    <tr>\n      <th>8</th>\n      <td>0</td>\n      <td>0</td>\n      <td>0</td>\n      <td>0</td>\n      <td>0</td>\n      <td>0</td>\n      <td>0</td>\n      <td>0</td>\n      <td>0</td>\n      <td>0</td>\n      <td>...</td>\n      <td>0</td>\n      <td>0</td>\n      <td>0</td>\n      <td>0</td>\n      <td>0</td>\n      <td>0</td>\n      <td>0</td>\n      <td>0</td>\n      <td>22.0</td>\n      <td>1</td>\n    </tr>\n    <tr>\n      <th>9</th>\n      <td>0</td>\n      <td>0</td>\n      <td>0</td>\n      <td>0</td>\n      <td>0</td>\n      <td>0</td>\n      <td>0</td>\n      <td>0</td>\n      <td>0</td>\n      <td>0</td>\n      <td>...</td>\n      <td>0</td>\n      <td>0</td>\n      <td>0</td>\n      <td>0</td>\n      <td>0</td>\n      <td>0</td>\n      <td>0</td>\n      <td>0</td>\n      <td>14.0</td>\n      <td>1</td>\n    </tr>\n    <tr>\n      <th>10</th>\n      <td>0</td>\n      <td>0</td>\n      <td>0</td>\n      <td>0</td>\n      <td>0</td>\n      <td>0</td>\n      <td>0</td>\n      <td>0</td>\n      <td>0</td>\n      <td>0</td>\n      <td>...</td>\n      <td>0</td>\n      <td>0</td>\n      <td>0</td>\n      <td>0</td>\n      <td>0</td>\n      <td>0</td>\n      <td>0</td>\n      <td>0</td>\n      <td>18.0</td>\n      <td>1</td>\n    </tr>\n    <tr>\n      <th>11</th>\n      <td>0</td>\n      <td>0</td>\n      <td>0</td>\n      <td>0</td>\n      <td>0</td>\n      <td>0</td>\n      <td>0</td>\n      <td>0</td>\n      <td>0</td>\n      <td>0</td>\n      <td>...</td>\n      <td>0</td>\n      <td>0</td>\n      <td>0</td>\n      <td>0</td>\n      <td>0</td>\n      <td>0</td>\n      <td>0</td>\n      <td>0</td>\n      <td>16.0</td>\n      <td>1</td>\n    </tr>\n    <tr>\n      <th>12</th>\n      <td>0</td>\n      <td>0</td>\n      <td>0</td>\n      <td>0</td>\n      <td>0</td>\n      <td>0</td>\n      <td>0</td>\n      <td>0</td>\n      <td>0</td>\n      <td>0</td>\n      <td>...</td>\n      <td>0</td>\n      <td>0</td>\n      <td>0</td>\n      <td>0</td>\n      <td>0</td>\n      <td>0</td>\n      <td>0</td>\n      <td>0</td>\n      <td>18.0</td>\n      <td>1</td>\n    </tr>\n    <tr>\n      <th>13</th>\n      <td>0</td>\n      <td>0</td>\n      <td>0</td>\n      <td>0</td>\n      <td>0</td>\n      <td>0</td>\n      <td>0</td>\n      <td>0</td>\n      <td>0</td>\n      <td>0</td>\n      <td>...</td>\n      <td>0</td>\n      <td>0</td>\n      <td>0</td>\n      <td>0</td>\n      <td>0</td>\n      <td>0</td>\n      <td>0</td>\n      <td>0</td>\n      <td>20.0</td>\n      <td>1</td>\n    </tr>\n    <tr>\n      <th>14</th>\n      <td>0</td>\n      <td>0</td>\n      <td>0</td>\n      <td>0</td>\n      <td>0</td>\n      <td>0</td>\n      <td>0</td>\n      <td>0</td>\n      <td>0</td>\n      <td>0</td>\n      <td>...</td>\n      <td>0</td>\n      <td>0</td>\n      <td>0</td>\n      <td>0</td>\n      <td>0</td>\n      <td>0</td>\n      <td>0</td>\n      <td>0</td>\n      <td>22.0</td>\n      <td>1</td>\n    </tr>\n    <tr>\n      <th>15</th>\n      <td>0</td>\n      <td>0</td>\n      <td>0</td>\n      <td>0</td>\n      <td>0</td>\n      <td>0</td>\n      <td>0</td>\n      <td>0</td>\n      <td>0</td>\n      <td>0</td>\n      <td>...</td>\n      <td>0</td>\n      <td>0</td>\n      <td>0</td>\n      <td>0</td>\n      <td>0</td>\n      <td>0</td>\n      <td>0</td>\n      <td>0</td>\n      <td>12.0</td>\n      <td>1</td>\n    </tr>\n    <tr>\n      <th>16</th>\n      <td>0</td>\n      <td>0</td>\n      <td>0</td>\n      <td>0</td>\n      <td>0</td>\n      <td>0</td>\n      <td>0</td>\n      <td>0</td>\n      <td>0</td>\n      <td>0</td>\n      <td>...</td>\n      <td>0</td>\n      <td>0</td>\n      <td>0</td>\n      <td>0</td>\n      <td>0</td>\n      <td>0</td>\n      <td>0</td>\n      <td>0</td>\n      <td>20.0</td>\n      <td>1</td>\n    </tr>\n    <tr>\n      <th>17</th>\n      <td>0</td>\n      <td>0</td>\n      <td>0</td>\n      <td>0</td>\n      <td>0</td>\n      <td>0</td>\n      <td>0</td>\n      <td>0</td>\n      <td>0</td>\n      <td>0</td>\n      <td>...</td>\n      <td>0</td>\n      <td>0</td>\n      <td>0</td>\n      <td>0</td>\n      <td>0</td>\n      <td>0</td>\n      <td>1</td>\n      <td>0</td>\n      <td>18.0</td>\n      <td>1</td>\n    </tr>\n    <tr>\n      <th>18</th>\n      <td>0</td>\n      <td>0</td>\n      <td>0</td>\n      <td>0</td>\n      <td>0</td>\n      <td>0</td>\n      <td>0</td>\n      <td>0</td>\n      <td>0</td>\n      <td>0</td>\n      <td>...</td>\n      <td>0</td>\n      <td>0</td>\n      <td>0</td>\n      <td>0</td>\n      <td>0</td>\n      <td>0</td>\n      <td>0</td>\n      <td>0</td>\n      <td>14.0</td>\n      <td>1</td>\n    </tr>\n    <tr>\n      <th>19</th>\n      <td>0</td>\n      <td>0</td>\n      <td>0</td>\n      <td>0</td>\n      <td>0</td>\n      <td>0</td>\n      <td>0</td>\n      <td>0</td>\n      <td>0</td>\n      <td>0</td>\n      <td>...</td>\n      <td>0</td>\n      <td>1</td>\n      <td>0</td>\n      <td>0</td>\n      <td>0</td>\n      <td>0</td>\n      <td>0</td>\n      <td>0</td>\n      <td>22.0</td>\n      <td>1</td>\n    </tr>\n    <tr>\n      <th>20</th>\n      <td>0</td>\n      <td>0</td>\n      <td>0</td>\n      <td>0</td>\n      <td>0</td>\n      <td>0</td>\n      <td>0</td>\n      <td>0</td>\n      <td>0</td>\n      <td>0</td>\n      <td>...</td>\n      <td>0</td>\n      <td>0</td>\n      <td>0</td>\n      <td>0</td>\n      <td>0</td>\n      <td>0</td>\n      <td>0</td>\n      <td>0</td>\n      <td>20.0</td>\n      <td>1</td>\n    </tr>\n    <tr>\n      <th>21</th>\n      <td>0</td>\n      <td>0</td>\n      <td>0</td>\n      <td>0</td>\n      <td>0</td>\n      <td>0</td>\n      <td>0</td>\n      <td>0</td>\n      <td>0</td>\n      <td>0</td>\n      <td>...</td>\n      <td>0</td>\n      <td>0</td>\n      <td>0</td>\n      <td>0</td>\n      <td>0</td>\n      <td>0</td>\n      <td>0</td>\n      <td>0</td>\n      <td>18.0</td>\n      <td>1</td>\n    </tr>\n    <tr>\n      <th>22</th>\n      <td>0</td>\n      <td>0</td>\n      <td>0</td>\n      <td>0</td>\n      <td>0</td>\n      <td>0</td>\n      <td>0</td>\n      <td>0</td>\n      <td>0</td>\n      <td>0</td>\n      <td>...</td>\n      <td>0</td>\n      <td>0</td>\n      <td>0</td>\n      <td>0</td>\n      <td>0</td>\n      <td>0</td>\n      <td>0</td>\n      <td>0</td>\n      <td>16.0</td>\n      <td>1</td>\n    </tr>\n    <tr>\n      <th>23</th>\n      <td>0</td>\n      <td>0</td>\n      <td>0</td>\n      <td>0</td>\n      <td>0</td>\n      <td>0</td>\n      <td>0</td>\n      <td>0</td>\n      <td>0</td>\n      <td>0</td>\n      <td>...</td>\n      <td>0</td>\n      <td>0</td>\n      <td>0</td>\n      <td>0</td>\n      <td>0</td>\n      <td>0</td>\n      <td>0</td>\n      <td>0</td>\n      <td>18.0</td>\n      <td>1</td>\n    </tr>\n    <tr>\n      <th>24</th>\n      <td>0</td>\n      <td>0</td>\n      <td>0</td>\n      <td>0</td>\n      <td>0</td>\n      <td>0</td>\n      <td>0</td>\n      <td>0</td>\n      <td>0</td>\n      <td>0</td>\n      <td>...</td>\n      <td>0</td>\n      <td>0</td>\n      <td>0</td>\n      <td>0</td>\n      <td>0</td>\n      <td>0</td>\n      <td>0</td>\n      <td>0</td>\n      <td>18.0</td>\n      <td>1</td>\n    </tr>\n    <tr>\n      <th>25</th>\n      <td>0</td>\n      <td>0</td>\n      <td>0</td>\n      <td>0</td>\n      <td>0</td>\n      <td>0</td>\n      <td>0</td>\n      <td>0</td>\n      <td>0</td>\n      <td>0</td>\n      <td>...</td>\n      <td>0</td>\n      <td>0</td>\n      <td>0</td>\n      <td>0</td>\n      <td>0</td>\n      <td>0</td>\n      <td>0</td>\n      <td>0</td>\n      <td>18.0</td>\n      <td>1</td>\n    </tr>\n    <tr>\n      <th>26</th>\n      <td>0</td>\n      <td>0</td>\n      <td>0</td>\n      <td>0</td>\n      <td>0</td>\n      <td>0</td>\n      <td>0</td>\n      <td>0</td>\n      <td>0</td>\n      <td>0</td>\n      <td>...</td>\n      <td>0</td>\n      <td>0</td>\n      <td>0</td>\n      <td>0</td>\n      <td>0</td>\n      <td>0</td>\n      <td>0</td>\n      <td>0</td>\n      <td>20.0</td>\n      <td>1</td>\n    </tr>\n    <tr>\n      <th>27</th>\n      <td>0</td>\n      <td>0</td>\n      <td>0</td>\n      <td>0</td>\n      <td>0</td>\n      <td>0</td>\n      <td>0</td>\n      <td>0</td>\n      <td>0</td>\n      <td>0</td>\n      <td>...</td>\n      <td>0</td>\n      <td>0</td>\n      <td>0</td>\n      <td>0</td>\n      <td>0</td>\n      <td>0</td>\n      <td>0</td>\n      <td>0</td>\n      <td>16.0</td>\n      <td>1</td>\n    </tr>\n    <tr>\n      <th>28</th>\n      <td>0</td>\n      <td>0</td>\n      <td>0</td>\n      <td>0</td>\n      <td>0</td>\n      <td>0</td>\n      <td>0</td>\n      <td>0</td>\n      <td>0</td>\n      <td>0</td>\n      <td>...</td>\n      <td>0</td>\n      <td>0</td>\n      <td>0</td>\n      <td>0</td>\n      <td>0</td>\n      <td>0</td>\n      <td>0</td>\n      <td>0</td>\n      <td>20.0</td>\n      <td>1</td>\n    </tr>\n    <tr>\n      <th>29</th>\n      <td>0</td>\n      <td>0</td>\n      <td>0</td>\n      <td>0</td>\n      <td>0</td>\n      <td>0</td>\n      <td>0</td>\n      <td>0</td>\n      <td>0</td>\n      <td>0</td>\n      <td>...</td>\n      <td>0</td>\n      <td>0</td>\n      <td>0</td>\n      <td>0</td>\n      <td>0</td>\n      <td>0</td>\n      <td>0</td>\n      <td>0</td>\n      <td>14.0</td>\n      <td>1</td>\n    </tr>\n    <tr>\n      <th>30</th>\n      <td>0</td>\n      <td>0</td>\n      <td>0</td>\n      <td>0</td>\n      <td>0</td>\n      <td>0</td>\n      <td>0</td>\n      <td>0</td>\n      <td>0</td>\n      <td>1</td>\n      <td>...</td>\n      <td>0</td>\n      <td>0</td>\n      <td>0</td>\n      <td>0</td>\n      <td>0</td>\n      <td>0</td>\n      <td>0</td>\n      <td>0</td>\n      <td>20.0</td>\n      <td>1</td>\n    </tr>\n    <tr>\n      <th>31</th>\n      <td>0</td>\n      <td>0</td>\n      <td>0</td>\n      <td>0</td>\n      <td>0</td>\n      <td>0</td>\n      <td>0</td>\n      <td>0</td>\n      <td>0</td>\n      <td>0</td>\n      <td>...</td>\n      <td>0</td>\n      <td>0</td>\n      <td>0</td>\n      <td>0</td>\n      <td>0</td>\n      <td>0</td>\n      <td>0</td>\n      <td>0</td>\n      <td>16.0</td>\n      <td>1</td>\n    </tr>\n    <tr>\n      <th>32</th>\n      <td>0</td>\n      <td>0</td>\n      <td>0</td>\n      <td>0</td>\n      <td>0</td>\n      <td>0</td>\n      <td>0</td>\n      <td>0</td>\n      <td>0</td>\n      <td>0</td>\n      <td>...</td>\n      <td>0</td>\n      <td>0</td>\n      <td>0</td>\n      <td>0</td>\n      <td>0</td>\n      <td>0</td>\n      <td>0</td>\n      <td>0</td>\n      <td>14.0</td>\n      <td>1</td>\n    </tr>\n    <tr>\n      <th>33</th>\n      <td>0</td>\n      <td>0</td>\n      <td>0</td>\n      <td>0</td>\n      <td>0</td>\n      <td>1</td>\n      <td>0</td>\n      <td>0</td>\n      <td>0</td>\n      <td>0</td>\n      <td>...</td>\n      <td>0</td>\n      <td>0</td>\n      <td>0</td>\n      <td>0</td>\n      <td>0</td>\n      <td>0</td>\n      <td>0</td>\n      <td>0</td>\n      <td>16.0</td>\n      <td>1</td>\n    </tr>\n    <tr>\n      <th>34</th>\n      <td>0</td>\n      <td>0</td>\n      <td>0</td>\n      <td>0</td>\n      <td>0</td>\n      <td>0</td>\n      <td>0</td>\n      <td>0</td>\n      <td>0</td>\n      <td>0</td>\n      <td>...</td>\n      <td>0</td>\n      <td>0</td>\n      <td>0</td>\n      <td>0</td>\n      <td>0</td>\n      <td>0</td>\n      <td>0</td>\n      <td>0</td>\n      <td>16.0</td>\n      <td>1</td>\n    </tr>\n    <tr>\n      <th>35</th>\n      <td>0</td>\n      <td>0</td>\n      <td>0</td>\n      <td>0</td>\n      <td>0</td>\n      <td>0</td>\n      <td>0</td>\n      <td>0</td>\n      <td>0</td>\n      <td>0</td>\n      <td>...</td>\n      <td>0</td>\n      <td>0</td>\n      <td>0</td>\n      <td>1</td>\n      <td>0</td>\n      <td>0</td>\n      <td>0</td>\n      <td>0</td>\n      <td>16.0</td>\n      <td>1</td>\n    </tr>\n    <tr>\n      <th>36</th>\n      <td>0</td>\n      <td>0</td>\n      <td>0</td>\n      <td>0</td>\n      <td>0</td>\n      <td>0</td>\n      <td>0</td>\n      <td>0</td>\n      <td>0</td>\n      <td>0</td>\n      <td>...</td>\n      <td>0</td>\n      <td>0</td>\n      <td>0</td>\n      <td>0</td>\n      <td>0</td>\n      <td>0</td>\n      <td>0</td>\n      <td>0</td>\n      <td>16.0</td>\n      <td>1</td>\n    </tr>\n    <tr>\n      <th>37</th>\n      <td>0</td>\n      <td>0</td>\n      <td>0</td>\n      <td>0</td>\n      <td>0</td>\n      <td>0</td>\n      <td>0</td>\n      <td>0</td>\n      <td>0</td>\n      <td>0</td>\n      <td>...</td>\n      <td>0</td>\n      <td>0</td>\n      <td>0</td>\n      <td>0</td>\n      <td>0</td>\n      <td>0</td>\n      <td>0</td>\n      <td>0</td>\n      <td>18.0</td>\n      <td>1</td>\n    </tr>\n    <tr>\n      <th>38</th>\n      <td>0</td>\n      <td>0</td>\n      <td>0</td>\n      <td>0</td>\n      <td>0</td>\n      <td>0</td>\n      <td>0</td>\n      <td>0</td>\n      <td>0</td>\n      <td>0</td>\n      <td>...</td>\n      <td>0</td>\n      <td>0</td>\n      <td>0</td>\n      <td>0</td>\n      <td>0</td>\n      <td>0</td>\n      <td>0</td>\n      <td>0</td>\n      <td>16.0</td>\n      <td>1</td>\n    </tr>\n    <tr>\n      <th>39</th>\n      <td>0</td>\n      <td>0</td>\n      <td>0</td>\n      <td>0</td>\n      <td>0</td>\n      <td>0</td>\n      <td>0</td>\n      <td>0</td>\n      <td>0</td>\n      <td>0</td>\n      <td>...</td>\n      <td>0</td>\n      <td>0</td>\n      <td>0</td>\n      <td>0</td>\n      <td>0</td>\n      <td>0</td>\n      <td>0</td>\n      <td>0</td>\n      <td>20.0</td>\n      <td>1</td>\n    </tr>\n  </tbody>\n</table>\n<p>40 rows × 4098 columns</p>\n</div>"
     },
     "metadata": {},
     "execution_count": 47
    }
   ],
   "source": [
    "df_8_8_2"
   ]
  },
  {
   "cell_type": "code",
   "execution_count": 9,
   "metadata": {},
   "outputs": [],
   "source": [
    "#check rows and cols:\n",
    "def check_OLS(A,k_k):\n",
    "    set_k_k = set(k_k)\n",
    "    pass_flag = True\n",
    "    f = 0\n",
    "    for l in range(A.shape[0]):\n",
    "        for i in range(A.shape[1]):\n",
    "            if len(set(A[l,i,:])) != A.shape[1]:\n",
    "            \n",
    "                print(f'layer {l}, row {i} fails')\n",
    "                pass_flag = False\n",
    "                f += 1\n",
    "                #print(len(set(A[0,i,:])), ' : ' ,A.shape[1])\n",
    "            else:\n",
    "                print(f'layer {l}, row {i} passes') \n",
    "\n",
    "\n",
    "        for j in range(A.shape[2]):\n",
    "            if len(set(A[l,:,j])) != A.shape[2]:\n",
    "                #print(len(set(A[0,i,:])), ' : ' ,A.shape[2])\n",
    "                print(f'layer {l}, column {j} fails')\n",
    "                pass_flag = False\n",
    "                f += 1\n",
    "\n",
    "            else:\n",
    "                print(f'layer {l}, column {j} passes') \n",
    "    print(f, ' rows or columns have failed')\n",
    "    #Check tuples\n",
    "    if len(set_k_k) == len(k_k):\n",
    "        print('All tuples are unique')\n",
    "    else:\n",
    "        print('Non-unique tuples exist.', 'Total tuples: ', len(k_k), ' Unique tuples: ' , len(set_k_k))\n",
    "    return pass_flag"
   ]
  },
  {
   "cell_type": "code",
   "execution_count": 48,
   "metadata": {},
   "outputs": [
    {
     "output_type": "stream",
     "name": "stdout",
     "text": [
      "layer 0, row 0 passes\nlayer 0, row 1 passes\nlayer 0, row 2 passes\nlayer 0, row 3 passes\nlayer 0, row 4 passes\nlayer 0, row 5 passes\nlayer 0, row 6 passes\nlayer 0, column 0 passes\nlayer 0, column 1 passes\nlayer 0, column 2 passes\nlayer 0, column 3 passes\nlayer 0, column 4 passes\nlayer 0, column 5 passes\nlayer 0, column 6 passes\nlayer 1, row 0 fails\nlayer 1, row 1 passes\nlayer 1, row 2 passes\nlayer 1, row 3 passes\nlayer 1, row 4 passes\nlayer 1, row 5 passes\nlayer 1, row 6 passes\nlayer 1, column 0 fails\nlayer 1, column 1 fails\nlayer 1, column 2 passes\nlayer 1, column 3 passes\nlayer 1, column 4 passes\nlayer 1, column 5 passes\nlayer 1, column 6 fails\n3  rows or columns have failed\nNon-unique tuples exist. Total tuples:  50  Unique tuples:  49\n"
     ]
    }
   ],
   "source": [
    "check_OLS(A_7)"
   ]
  },
  {
   "cell_type": "code",
   "execution_count": 49,
   "metadata": {},
   "outputs": [
    {
     "output_type": "execute_result",
     "data": {
      "text/plain": [
       "array([[[3., 0., 4., 5., 2., 1., 6.],\n",
       "        [0., 2., 1., 6., 4., 5., 3.],\n",
       "        [6., 1., 2., 0., 5., 3., 4.],\n",
       "        [5., 4., 3., 2., 6., 0., 1.],\n",
       "        [1., 5., 6., 4., 3., 2., 0.],\n",
       "        [2., 6., 0., 3., 1., 4., 5.],\n",
       "        [4., 3., 5., 1., 0., 6., 2.]],\n",
       "\n",
       "       [[5., 6., 3., 1., 2., 4., 1.],\n",
       "        [2., 0., 1., 4., 5., 3., 6.],\n",
       "        [3., 2., 6., 5., 0., 1., 4.],\n",
       "        [4., 1., 2., 3., 6., 0., 5.],\n",
       "        [1., 6., 0., 2., 4., 5., 3.],\n",
       "        [1., 5., 4., 0., 3., 6., 2.],\n",
       "        [0., 3., 5., 6., 1., 2., 4.]]])"
      ]
     },
     "metadata": {},
     "execution_count": 49
    }
   ],
   "source": [
    "A_7"
   ]
  },
  {
   "cell_type": "code",
   "execution_count": null,
   "metadata": {},
   "outputs": [],
   "source": []
  },
  {
   "cell_type": "code",
   "execution_count": null,
   "metadata": {},
   "outputs": [],
   "source": []
  },
  {
   "cell_type": "code",
   "execution_count": null,
   "metadata": {},
   "outputs": [],
   "source": []
  },
  {
   "cell_type": "code",
   "execution_count": 22,
   "metadata": {
    "tags": []
   },
   "outputs": [],
   "source": [
    "### s_i_j_tuple formulation for three layers: \n",
    "#Dwave imports\n",
    "from dwave.system.samplers import DWaveSampler\n",
    "from dwave.system.composites import EmbeddingComposite\n",
    "import dimod\n",
    "from __future__ import print_function\n",
    "\n",
    "import dimod\n",
    "import math\n",
    "import sys\n",
    "import copy\n",
    "\n",
    "from dimod.generators.constraints import combinations\n",
    "from hybrid.reference import KerberosSampler\n",
    "\n",
    "#Impots for QUBO probelm\n",
    "import numpy as np\n",
    "from numpy import linalg as LA\n",
    "import pandas as pd\n",
    "import matplotlib as plt\n",
    "import itertools as it\n",
    "from itertools import product\n",
    "from matplotlib import pyplot as plt\n",
    "import math\n",
    "\n",
    "\n",
    "\n",
    "def linear_bqm_3(l,x,y):\n",
    "\n",
    "    # Set up\n",
    "    # l = matrix.shape[0]          # Number of rows/columns in sudoku\n",
    "    # x = matrix.shape[1]    # Number of rows/columns in sudoku subsquare\n",
    "    # y = matrix.shape[2]\n",
    "    digits = range(x)\n",
    "    \n",
    "    bqm = dimod.BinaryQuadraticModel({}, {}, 0.0, dimod.BINARY)\n",
    "    bqm_dict = {}\n",
    "    # Constraint: Each row of nodes cannot have duplicate digits\n",
    "    # for i in range(x):\n",
    "    #     for layer in range(l):\n",
    "    #         for (d1,d2,d3) in it.product(digits, repeat = 3):\n",
    "    #             row_nodes = [f's_{i}_{j}_{d1}_{d2}_{d3}' for j in range(y)]\n",
    "    #             row_bqm = combinations(row_nodes, 1)\n",
    "    #             #print(row_nodes)\n",
    "    #             bqm.update(row_bqm)\n",
    "    #             dict.update(row_bqm.to_qubo()[0])\n",
    "\n",
    "    # Constraint: Each cell selects one tuple\n",
    "    for i in range(x):\n",
    "        for j in range(y):\n",
    "            tuple_nodes = [f's_{i}_{j}_{d1}_{d2}_{d3}' for (d1,d2,d3) in it.product(digits, repeat = 3)]\n",
    "            #print(tuple_nodes) \n",
    "            dummy_bqm = combinations(tuple_nodes, 1) \n",
    "            bqm.update(dummy_bqm)\n",
    "\n",
    "    # Constraint: Each tuple selects one cell\n",
    "    for d1 in digits:\n",
    "        for d2 in digits:\n",
    "            for d3 in digits:\n",
    "                index_nodes = [f's_{i}_{j}_{d1}_{d2}_{d3}' for (i,j) in it.product(range(x), repeat = 2)]\n",
    "                dummy_bqm = combinations(index_nodes, 1) \n",
    "                bqm.update(dummy_bqm)\n",
    "\n",
    "    # Constraint: Square 1 has unique rows \n",
    "    for j in range(y):\n",
    "        for d2 in digits:\n",
    "            for d3 in digits:\n",
    "                row_choice = [f's_{i}_{j}_{d1}_{d2}_{d3}' for (i,d1) in it.product(range(x), repeat = 2)] \n",
    "                dummy_bqm = combinations(row_choice, 1) \n",
    "                bqm.update(dummy_bqm)\n",
    "\n",
    "    # Constraint: Square 1 has unique cols \n",
    "    for i in range(x):\n",
    "        for d2 in digits:\n",
    "            for d3 in digits:\n",
    "                col_choice = [f's_{i}_{j}_{d1}_{d2}_{d3}' for (j,d1) in it.product(range(x), repeat = 2)] \n",
    "                dummy_bqm = combinations(col_choice, 1) \n",
    "                bqm.update(dummy_bqm)\n",
    "\n",
    "    # Constraint: Square 2 has unique rows \n",
    "    for j in range(y):\n",
    "        for d1 in digits:\n",
    "            for d3 in digits:\n",
    "                row_choice = [f's_{i}_{j}_{d1}_{d2}_{d3}' for (i,d2) in it.product(range(x), repeat = 2)] \n",
    "                dummy_bqm = combinations(row_choice, 1, strength = 3) \n",
    "                bqm.update(dummy_bqm)\n",
    "\n",
    "    # Constraint: Square 2 has unique cols \n",
    "    for i in range(x):\n",
    "        for d1 in digits:\n",
    "            for d3 in digits:\n",
    "                col_choice = [f's_{i}_{j}_{d1}_{d2}_{d3}' for (j,d2) in it.product(range(x), repeat = 2)] \n",
    "                dummy_bqm = combinations(col_choice, 1, strength = 3) \n",
    "                bqm.update(dummy_bqm)\n",
    "\n",
    "    # Constraint: Square 3 has unique rows \n",
    "    for j in range(y):\n",
    "        for d1 in digits:\n",
    "            for d2 in digits:\n",
    "                row_choice = [f's_{i}_{j}_{d1}_{d2}_{d3}' for (i,d3) in it.product(range(x), repeat = 2)] \n",
    "                dummy_bqm = combinations(row_choice, 1, strength = 3) \n",
    "                bqm.update(dummy_bqm)\n",
    "\n",
    "    # Constraint: Square 3 has unique cols \n",
    "    for i in range(x):\n",
    "        for d1 in digits:\n",
    "            for d2 in digits:\n",
    "                col_choice = [f's_{i}_{j}_{d1}_{d2}_{d3}' for (j,d3) in it.product(range(x), repeat = 2)] \n",
    "                dummy_bqm = combinations(col_choice, 1, strength = 3) \n",
    "                bqm.update(dummy_bqm)\n",
    "\n",
    "    return bqm\n",
    "\n",
    "layers_3 = 3 #no of squares\n",
    "x_card_3 = 5 #x length\n",
    "y_card_3 = x_card_3 #y length\n",
    "\n",
    "\n"
   ]
  },
  {
   "cell_type": "code",
   "execution_count": 15,
   "metadata": {},
   "outputs": [],
   "source": [
    "bqm_3 = linear_bqm_3(layers_3, x_card_3, y_card_3)"
   ]
  },
  {
   "cell_type": "code",
   "execution_count": 16,
   "metadata": {
    "tags": []
   },
   "outputs": [
    {
     "output_type": "execute_result",
     "data": {
      "text/plain": [
       "3125"
      ]
     },
     "metadata": {},
     "execution_count": 16
    }
   ],
   "source": [
    "len(bqm_3.variables)"
   ]
  },
  {
   "cell_type": "code",
   "execution_count": 17,
   "metadata": {},
   "outputs": [
    {
     "output_type": "error",
     "ename": "KeyboardInterrupt",
     "evalue": "",
     "traceback": [
      "\u001b[0;31m---------------------------------------------------------------------------\u001b[0m",
      "\u001b[0;31mKeyboardInterrupt\u001b[0m                         Traceback (most recent call last)",
      "Cell \u001b[0;32mIn [17], line 1\u001b[0m\n\u001b[0;32m----> 1\u001b[0m solution_3 \u001b[38;5;241m=\u001b[39m \u001b[43mKerberosSampler\u001b[49m\u001b[43m(\u001b[49m\u001b[43m)\u001b[49m\u001b[38;5;241;43m.\u001b[39;49m\u001b[43msample\u001b[49m\u001b[43m(\u001b[49m\u001b[43mbqm_3\u001b[49m\u001b[43m,\u001b[49m\n\u001b[1;32m      2\u001b[0m \u001b[43m                                    \u001b[49m\u001b[43mmax_iter\u001b[49m\u001b[38;5;241;43m=\u001b[39;49m\u001b[38;5;241;43m10\u001b[39;49m\u001b[43m,\u001b[49m\n\u001b[1;32m      3\u001b[0m \u001b[43m                                    \u001b[49m\u001b[43mconvergence\u001b[49m\u001b[38;5;241;43m=\u001b[39;49m\u001b[38;5;241;43m3\u001b[39;49m\u001b[43m,\u001b[49m\n\u001b[1;32m      4\u001b[0m \u001b[43m                                    \u001b[49m\u001b[43mqpu_params\u001b[49m\u001b[38;5;241;43m=\u001b[39;49m\u001b[43m{\u001b[49m\u001b[38;5;124;43m'\u001b[39;49m\u001b[38;5;124;43mlabel\u001b[39;49m\u001b[38;5;124;43m'\u001b[39;49m\u001b[43m:\u001b[49m\u001b[43m \u001b[49m\u001b[38;5;124;43m'\u001b[39;49m\u001b[38;5;124;43mExample - latin square\u001b[39;49m\u001b[38;5;124;43m'\u001b[39;49m\u001b[43m}\u001b[49m\u001b[43m)\u001b[49m\n\u001b[1;32m      6\u001b[0m best_solution_3 \u001b[38;5;241m=\u001b[39m solution_3\u001b[38;5;241m.\u001b[39mfirst\u001b[38;5;241m.\u001b[39msample\n\u001b[1;32m      7\u001b[0m solution_list_3 \u001b[38;5;241m=\u001b[39m [k \u001b[38;5;28;01mfor\u001b[39;00m k, v \u001b[38;5;129;01min\u001b[39;00m best_solution_3\u001b[38;5;241m.\u001b[39mitems() \u001b[38;5;28;01mif\u001b[39;00m v \u001b[38;5;241m==\u001b[39m \u001b[38;5;241m1\u001b[39m]\n",
      "File \u001b[0;32m/usr/local/lib/python3.9/site-packages/hybrid/reference/kerberos.py:232\u001b[0m, in \u001b[0;36mKerberosSampler.sample\u001b[0;34m(self, bqm, init_sample, num_reads, **kwargs)\u001b[0m\n\u001b[1;32m    230\u001b[0m final_state \u001b[38;5;241m=\u001b[39m \u001b[38;5;28mself\u001b[39m\u001b[38;5;241m.\u001b[39mrunnable\u001b[38;5;241m.\u001b[39mrun(init_state)\n\u001b[1;32m    231\u001b[0m \u001b[38;5;66;03m# the best sample from each run is one \"read\"\u001b[39;00m\n\u001b[0;32m--> 232\u001b[0m ss \u001b[38;5;241m=\u001b[39m \u001b[43mfinal_state\u001b[49m\u001b[38;5;241;43m.\u001b[39;49m\u001b[43mresult\u001b[49m\u001b[43m(\u001b[49m\u001b[43m)\u001b[49m\u001b[38;5;241m.\u001b[39msamples\n\u001b[1;32m    233\u001b[0m ss\u001b[38;5;241m.\u001b[39mchange_vartype(bqm\u001b[38;5;241m.\u001b[39mvartype, inplace\u001b[38;5;241m=\u001b[39m\u001b[38;5;28;01mTrue\u001b[39;00m)\n\u001b[1;32m    234\u001b[0m samples\u001b[38;5;241m.\u001b[39mappend(ss\u001b[38;5;241m.\u001b[39mfirst\u001b[38;5;241m.\u001b[39msample)\n",
      "File \u001b[0;32m/usr/local/lib/python3.9/concurrent/futures/_base.py:441\u001b[0m, in \u001b[0;36mFuture.result\u001b[0;34m(self, timeout)\u001b[0m\n\u001b[1;32m    438\u001b[0m \u001b[38;5;28;01melif\u001b[39;00m \u001b[38;5;28mself\u001b[39m\u001b[38;5;241m.\u001b[39m_state \u001b[38;5;241m==\u001b[39m FINISHED:\n\u001b[1;32m    439\u001b[0m     \u001b[38;5;28;01mreturn\u001b[39;00m \u001b[38;5;28mself\u001b[39m\u001b[38;5;241m.\u001b[39m__get_result()\n\u001b[0;32m--> 441\u001b[0m \u001b[38;5;28;43mself\u001b[39;49m\u001b[38;5;241;43m.\u001b[39;49m\u001b[43m_condition\u001b[49m\u001b[38;5;241;43m.\u001b[39;49m\u001b[43mwait\u001b[49m\u001b[43m(\u001b[49m\u001b[43mtimeout\u001b[49m\u001b[43m)\u001b[49m\n\u001b[1;32m    443\u001b[0m \u001b[38;5;28;01mif\u001b[39;00m \u001b[38;5;28mself\u001b[39m\u001b[38;5;241m.\u001b[39m_state \u001b[38;5;129;01min\u001b[39;00m [CANCELLED, CANCELLED_AND_NOTIFIED]:\n\u001b[1;32m    444\u001b[0m     \u001b[38;5;28;01mraise\u001b[39;00m CancelledError()\n",
      "File \u001b[0;32m/usr/local/lib/python3.9/threading.py:312\u001b[0m, in \u001b[0;36mCondition.wait\u001b[0;34m(self, timeout)\u001b[0m\n\u001b[1;32m    310\u001b[0m \u001b[38;5;28;01mtry\u001b[39;00m:    \u001b[38;5;66;03m# restore state no matter what (e.g., KeyboardInterrupt)\u001b[39;00m\n\u001b[1;32m    311\u001b[0m     \u001b[38;5;28;01mif\u001b[39;00m timeout \u001b[38;5;129;01mis\u001b[39;00m \u001b[38;5;28;01mNone\u001b[39;00m:\n\u001b[0;32m--> 312\u001b[0m         \u001b[43mwaiter\u001b[49m\u001b[38;5;241;43m.\u001b[39;49m\u001b[43macquire\u001b[49m\u001b[43m(\u001b[49m\u001b[43m)\u001b[49m\n\u001b[1;32m    313\u001b[0m         gotit \u001b[38;5;241m=\u001b[39m \u001b[38;5;28;01mTrue\u001b[39;00m\n\u001b[1;32m    314\u001b[0m     \u001b[38;5;28;01melse\u001b[39;00m:\n",
      "\u001b[0;31mKeyboardInterrupt\u001b[0m: "
     ]
    }
   ],
   "source": [
    "solution_3 = KerberosSampler().sample(bqm_3,\n",
    "                                    max_iter=10,\n",
    "                                    convergence=3,\n",
    "                                    qpu_params={'label': 'Example - latin square'})\n",
    "\n",
    "best_solution_3 = solution_3.first.sample\n",
    "solution_list_3 = [k for k, v in best_solution_3.items() if v == 1]\n",
    "        #solutions.append(label.split('_')[1:])\n",
    "solutions_3 = [label.split('_')[1:] for label in solution_list_3]\n",
    "\n",
    "\n",
    "simplified_coords_3 = []\n",
    "k_k_3 = []\n",
    "for s in solutions_3:\n",
    "        k_k_3.append((int(s[2]),int(s[3]),int(s[4])))"
   ]
  },
  {
   "cell_type": "code",
   "execution_count": null,
   "metadata": {},
   "outputs": [],
   "source": [
    "len(solution_list_3)"
   ]
  },
  {
   "cell_type": "code",
   "execution_count": null,
   "metadata": {},
   "outputs": [],
   "source": [
    "set_k_k_3 = set(k_k_3)\n",
    "\n",
    "print('there are', len(set_k_k_3), 'unique tuples: ',  set_k_k_3)"
   ]
  },
  {
   "cell_type": "code",
   "execution_count": null,
   "metadata": {},
   "outputs": [],
   "source": [
    "set_k_k_3"
   ]
  },
  {
   "cell_type": "code",
   "execution_count": null,
   "metadata": {},
   "outputs": [],
   "source": [
    "solution_list_3"
   ]
  },
  {
   "cell_type": "code",
   "execution_count": null,
   "metadata": {},
   "outputs": [],
   "source": []
  },
  {
   "cell_type": "code",
   "execution_count": null,
   "metadata": {},
   "outputs": [],
   "source": []
  },
  {
   "cell_type": "code",
   "execution_count": null,
   "metadata": {},
   "outputs": [],
   "source": [
    "[a for a in range(1)]"
   ]
  },
  {
   "cell_type": "code",
   "execution_count": 35,
   "metadata": {},
   "outputs": [],
   "source": [
    "X = range(2) #rows\n",
    "Y = range(2) #columns\n",
    "Z = range(2) #layers\n",
    "D = range(2) #digits"
   ]
  },
  {
   "cell_type": "code",
   "execution_count": 36,
   "metadata": {},
   "outputs": [
    {
     "output_type": "stream",
     "name": "stdout",
     "text": [
      "<class 'dimod.binary.binary_quadratic_model.BinaryQuadraticModel'>\n<class 'dimod.binary.binary_quadratic_model.BinaryQuadraticModel'>\n<class 'dimod.binary.binary_quadratic_model.BinaryQuadraticModel'>\n<class 'dimod.binary.binary_quadratic_model.BinaryQuadraticModel'>\n"
     ]
    },
    {
     "output_type": "execute_result",
     "data": {
      "text/plain": [
       "BinaryQuadraticModel({'S_0_0_0_0*S_0_0_1_0': -1.0, 'S_0_1_0_0*S_0_1_1_0': -1.0, 'S_1_0_0_0*S_1_0_1_0': -1.0, 'S_1_1_0_0*S_1_1_1_0': -1.0, 'S_0_0_0_0*S_0_0_1_1': -1.0, 'S_0_1_0_0*S_0_1_1_1': -1.0, 'S_1_0_0_0*S_1_0_1_1': -1.0, 'S_1_1_0_0*S_1_1_1_1': -1.0, 'S_0_0_0_1*S_0_0_1_0': -1.0, 'S_0_1_0_1*S_0_1_1_0': -1.0, 'S_1_0_0_1*S_1_0_1_0': -1.0, 'S_1_1_0_1*S_1_1_1_0': -1.0, 'S_0_0_0_1*S_0_0_1_1': -1.0, 'S_0_1_0_1*S_0_1_1_1': -1.0, 'S_1_0_0_1*S_1_0_1_1': -1.0, 'S_1_1_0_1*S_1_1_1_1': -1.0}, {('S_0_1_0_0*S_0_1_1_0', 'S_0_0_0_0*S_0_0_1_0'): 2.0, ('S_1_0_0_0*S_1_0_1_0', 'S_0_0_0_0*S_0_0_1_0'): 2.0, ('S_1_0_0_0*S_1_0_1_0', 'S_0_1_0_0*S_0_1_1_0'): 2.0, ('S_1_1_0_0*S_1_1_1_0', 'S_0_0_0_0*S_0_0_1_0'): 2.0, ('S_1_1_0_0*S_1_1_1_0', 'S_0_1_0_0*S_0_1_1_0'): 2.0, ('S_1_1_0_0*S_1_1_1_0', 'S_1_0_0_0*S_1_0_1_0'): 2.0, ('S_0_1_0_0*S_0_1_1_1', 'S_0_0_0_0*S_0_0_1_1'): 2.0, ('S_1_0_0_0*S_1_0_1_1', 'S_0_0_0_0*S_0_0_1_1'): 2.0, ('S_1_0_0_0*S_1_0_1_1', 'S_0_1_0_0*S_0_1_1_1'): 2.0, ('S_1_1_0_0*S_1_1_1_1', 'S_0_0_0_0*S_0_0_1_1'): 2.0, ('S_1_1_0_0*S_1_1_1_1', 'S_0_1_0_0*S_0_1_1_1'): 2.0, ('S_1_1_0_0*S_1_1_1_1', 'S_1_0_0_0*S_1_0_1_1'): 2.0, ('S_0_1_0_1*S_0_1_1_0', 'S_0_0_0_1*S_0_0_1_0'): 2.0, ('S_1_0_0_1*S_1_0_1_0', 'S_0_0_0_1*S_0_0_1_0'): 2.0, ('S_1_0_0_1*S_1_0_1_0', 'S_0_1_0_1*S_0_1_1_0'): 2.0, ('S_1_1_0_1*S_1_1_1_0', 'S_0_0_0_1*S_0_0_1_0'): 2.0, ('S_1_1_0_1*S_1_1_1_0', 'S_0_1_0_1*S_0_1_1_0'): 2.0, ('S_1_1_0_1*S_1_1_1_0', 'S_1_0_0_1*S_1_0_1_0'): 2.0, ('S_0_1_0_1*S_0_1_1_1', 'S_0_0_0_1*S_0_0_1_1'): 2.0, ('S_1_0_0_1*S_1_0_1_1', 'S_0_0_0_1*S_0_0_1_1'): 2.0, ('S_1_0_0_1*S_1_0_1_1', 'S_0_1_0_1*S_0_1_1_1'): 2.0, ('S_1_1_0_1*S_1_1_1_1', 'S_0_0_0_1*S_0_0_1_1'): 2.0, ('S_1_1_0_1*S_1_1_1_1', 'S_0_1_0_1*S_0_1_1_1'): 2.0, ('S_1_1_0_1*S_1_1_1_1', 'S_1_0_0_1*S_1_0_1_1'): 2.0}, 4.0, 'BINARY')"
      ]
     },
     "metadata": {},
     "execution_count": 36
    }
   ],
   "source": [
    "Aa = dimod.BinaryQuadraticModel({}, {}, 0.0, dimod.BINARY) #init BQM model\n",
    "for k in D:\n",
    "        for k_ in D:\n",
    "            con = [f'S_{i}_{j}_{0}_{k}*S_{i}_{j}_{1}_{k_}'  for (i,j) in it.product(X,Y)]\n",
    "            Aa.update(combinations(con, 1, strength = 1))\n",
    "            print(type(combinations(con, 1, strength = 1)))\n",
    "Aa"
   ]
  },
  {
   "cell_type": "code",
   "execution_count": 39,
   "metadata": {},
   "outputs": [
    {
     "output_type": "execute_result",
     "data": {
      "text/plain": [
       "dict"
      ]
     },
     "metadata": {},
     "execution_count": 39
    }
   ],
   "source": [
    "type(Aa.to_qubo()[0])"
   ]
  },
  {
   "cell_type": "code",
   "execution_count": null,
   "metadata": {},
   "outputs": [],
   "source": [
    "Bb = dimod.BinaryQuadraticModel({}, {}, 0.0, dimod.BINARY) #init BQM model\n",
    "for k in D:\n",
    "        for k_ in D:\n",
    "            for i in X:\n",
    "                for j in Y:\n",
    "                    Bb.add_quadratic(f'S_{i}_{j}_{0}_{k}',f'S_{i}_{j}_{1}_{k_}',-2)\n",
    "                    for r in X:\n",
    "                        for s in Y:\n",
    "                            Bb.update(dimod.make_quadratic({(f'S_{i}_{j}_{0}_{k}',f'S_{r}_{s}_{0}_{k}',f'S_{i}_{j}_{1}_{k_}',f'S_{r}_{s}_{1}_{k_}'): 1}, strength = 1, vartype = dimod.BINARY))\n",
    "    \n",
    "Bb"
   ]
  },
  {
   "cell_type": "code",
   "execution_count": 254,
   "metadata": {},
   "outputs": [],
   "source": [
    "### S_i_j_l_d formulation \n",
    "\n",
    "#Dwave imports\n",
    "from dwave.system.samplers import DWaveSampler\n",
    "from dwave.system.composites import EmbeddingComposite\n",
    "import dimod\n",
    "from __future__ import print_function\n",
    "\n",
    "import dimod\n",
    "import math\n",
    "import sys\n",
    "import copy\n",
    "\n",
    "from dimod.generators.constraints import combinations\n",
    "from hybrid.reference import KerberosSampler\n",
    "\n",
    "#Impots for QUBO probelm\n",
    "import numpy as np\n",
    "from numpy import linalg as LA\n",
    "import pandas as pd\n",
    "import matplotlib as plt\n",
    "import itertools as it\n",
    "from itertools import product\n",
    "from matplotlib import pyplot as plt\n",
    "import math\n",
    "\n",
    "bqm = dimod.BinaryQuadraticModel({}, {}, 0.0, dimod.BINARY) #init BQM model\n",
    "\n",
    "def layer_bqm(x,y,z,alpha,beta,gamma,delta):\n",
    "    X = range(x) #rows\n",
    "    Y = range(y) #columns\n",
    "    Z = range(z) #layers\n",
    "    D = range(x) #digits\n",
    "    dic = {}\n",
    "    # 2N^2 variables only \n",
    "    \n",
    "    # for k in Z:\n",
    "    #     all_ = []\n",
    "    #     for i in X:\n",
    "    #         for j in Y:\n",
    "    #             for d in D:\n",
    "    #                 all_.append(f'S_{i}_{j}_{k}_{d}')       \n",
    "    #     con = all_\n",
    "    #     bqm.update(combinations(con,x*y,delta))\n",
    "    #     dic.update(combinations(con,x*y,delta).to_qubo()[0])\n",
    "\n",
    "    # # One digit for each (i,j,l)\n",
    "    for i in X:\n",
    "        for j in Y:\n",
    "            for k in Z:\n",
    "                con = [f'S_{i}_{j}_{k}_{d}' for d in D]\n",
    "                #print(con)\n",
    "                bqm.update(combinations(con, 1,strength = gamma)) \n",
    "                \n",
    "    \n",
    "    # # Each column has no duplicate digits\n",
    "    # for k in Z:\n",
    "    #     for i in X:\n",
    "    #         for d in D:\n",
    "    #             con = [f'S_{i}_{j}_{k}_{d}' for j in Y]\n",
    "    #             bqm.update(combinations(con, 1, strength = alpha)) \n",
    "                \n",
    "\n",
    "    # # Each row has no duplicate digits\n",
    "    # for k in Z:\n",
    "    #     for j in Y:\n",
    "    #         for d in D:\n",
    "    #             con = [f'S_{i}_{j}_{k}_{d}' for i in X]\n",
    "    #             bqm.update(combinations(con, 1, strength = alpha)) \n",
    "\n",
    "\n",
    "#USING BUILT IN FUNCTION\n",
    "    # for k in D:\n",
    "    #     for k_ in D:\n",
    "    #         con = [f'S_{i}_{j}_{0}_{k}*S_{i}_{j}_{1}_{k_}'  for (i,j) in it.product(X,Y)]\n",
    "    #         bqm.update(combinations(con, 1, strength = 1))\n",
    "\n",
    "#USING DERIVED FORMULA\n",
    "    for k in D:\n",
    "        for k_ in D:\n",
    "            for i in X:\n",
    "                for j in Y:\n",
    "                    bqm.add_quadratic(f'S_{i}_{j}_{0}_{k}',f'S_{i}_{j}_{1}_{k_}',-2 * beta)\n",
    "                    for r in X:\n",
    "                        for s in Y:\n",
    "                            bqm.update(dimod.make_quadratic({(f'S_{i}_{j}_{0}_{k}',f'S_{r}_{s}_{0}_{k}',f'S_{i}_{j}_{1}_{k_}',f'S_{r}_{s}_{1}_{k_}'): 1}, strength = beta, vartype = dimod.BINARY))\n",
    "                            dic.update({(f'S_{i}_{j}_{0}_{k}',f'S_{r}_{s}_{0}_{k}',f'S_{i}_{j}_{1}_{k_}',f'S_{r}_{s}_{1}_{k_}'): 1})\n",
    "\n",
    "    return bqm, dic"
   ]
  },
  {
   "cell_type": "code",
   "execution_count": 255,
   "metadata": {},
   "outputs": [
    {
     "output_type": "stream",
     "name": "stdout",
     "text": [
      "BinaryQuadraticModel({'a': 0.0, 'd': 0.0, 'a*d': 3.0, 'b': 0.0, 'a*d*b': 3.0, 'c': 0.0}, {('d', 'a'): 1.0, ('a*d', 'a'): -2.0, ('a*d', 'd'): -2.0, ('b', 'a*d'): 1.0, ('a*d*b', 'a*d'): -2.0, ('a*d*b', 'b'): -2.0, ('c', 'a*d*b'): 1.0}, 0.0, 'BINARY')\n"
     ]
    }
   ],
   "source": [
    "print(dimod.make_quadratic({('a','b','c','d'): 1}, strength = 1, vartype = dimod.BINARY))"
   ]
  },
  {
   "cell_type": "code",
   "execution_count": 300,
   "metadata": {
    "tags": []
   },
   "outputs": [],
   "source": [
    "x = 3\n",
    "y = x\n",
    "L = 2\n",
    "bqm, dic = layer_bqm(x,y,L,alpha = 1, beta = -4,gamma = 10,delta = 5)"
   ]
  },
  {
   "cell_type": "code",
   "execution_count": 301,
   "metadata": {},
   "outputs": [],
   "source": [
    "solution = KerberosSampler().sample(bqm,\n",
    "                                    max_iter=10,\n",
    "                                    convergence=3,\n",
    "                                    qpu_params={'label': 'Example - latin square'})\n",
    "\n",
    "best_solution = solution.first.sample\n",
    "solution_list = [k for k, v in best_solution.items() if v == 1]\n",
    "#         #solutions.append(label.split('_')[1:])\n",
    "# solutions = [label.split('_')[1:] for label in solution_list]"
   ]
  },
  {
   "cell_type": "code",
   "execution_count": 302,
   "metadata": {},
   "outputs": [
    {
     "output_type": "execute_result",
     "data": {
      "text/plain": [
       "['S_0_0_0_2',\n",
       " 'S_0_0_0_2*S_0_2_1_0',\n",
       " 'S_0_0_1_1',\n",
       " 'S_0_0_1_1*S_1_0_0_1',\n",
       " 'S_0_0_1_1*S_2_0_0_2',\n",
       " 'S_0_1_0_0',\n",
       " 'S_0_1_0_0*S_0_0_1_1',\n",
       " 'S_0_1_0_0*S_1_0_1_2',\n",
       " 'S_0_1_0_0*S_1_2_1_0',\n",
       " 'S_0_1_0_0*S_2_1_1_1',\n",
       " 'S_0_1_0_0*S_2_2_0_0',\n",
       " 'S_0_1_0_0*S_2_2_0_0*S_2_2_1_2',\n",
       " 'S_0_1_1_0',\n",
       " 'S_0_2_0_1',\n",
       " 'S_0_2_0_1*S_0_1_1_0',\n",
       " 'S_0_2_0_1*S_0_2_1_0',\n",
       " 'S_0_2_0_1*S_1_1_0_1',\n",
       " 'S_0_2_0_1*S_1_1_1_2',\n",
       " 'S_0_2_1_0',\n",
       " 'S_1_0_0_1',\n",
       " 'S_1_0_0_1*S_2_2_1_2',\n",
       " 'S_1_0_1_2',\n",
       " 'S_1_0_1_2*S_1_1_1_2',\n",
       " 'S_1_0_1_2*S_1_1_1_2*S_1_0_0_1',\n",
       " 'S_1_0_1_2*S_2_2_0_0',\n",
       " 'S_1_1_0_1',\n",
       " 'S_1_1_0_1*S_2_2_1_2',\n",
       " 'S_1_1_1_2',\n",
       " 'S_1_2_0_2',\n",
       " 'S_1_2_0_2*S_0_0_0_2',\n",
       " 'S_1_2_0_2*S_0_2_1_0',\n",
       " 'S_1_2_1_0',\n",
       " 'S_1_2_1_0*S_0_0_0_2',\n",
       " 'S_1_2_1_0*S_1_2_0_2',\n",
       " 'S_1_2_1_0*S_2_2_0_0',\n",
       " 'S_2_0_0_2',\n",
       " 'S_2_0_0_2*S_1_1_1_2',\n",
       " 'S_2_0_0_2*S_2_0_1_2*S_0_0_0_2',\n",
       " 'S_2_0_1_2',\n",
       " 'S_2_0_1_2*S_0_0_0_2',\n",
       " 'S_2_0_1_2*S_1_0_1_2',\n",
       " 'S_2_0_1_2*S_1_0_1_2*S_1_0_0_1',\n",
       " 'S_2_0_1_2*S_1_1_1_2',\n",
       " 'S_2_0_1_2*S_2_2_1_2',\n",
       " 'S_2_0_1_2*S_2_2_1_2*S_2_0_0_2',\n",
       " 'S_2_1_0_1',\n",
       " 'S_2_1_0_1*S_1_0_1_2',\n",
       " 'S_2_1_0_1*S_1_0_1_2*S_1_0_0_1',\n",
       " 'S_2_1_0_1*S_1_1_1_2',\n",
       " 'S_2_1_0_1*S_1_1_1_2*S_1_1_0_1',\n",
       " 'S_2_1_0_1*S_2_1_1_1',\n",
       " 'S_2_1_0_1*S_2_2_1_2',\n",
       " 'S_2_1_1_1',\n",
       " 'S_2_1_1_1*S_0_0_0_2',\n",
       " 'S_2_1_1_1*S_2_0_0_2',\n",
       " 'S_2_1_1_1*S_2_2_0_0',\n",
       " 'S_2_2_0_0',\n",
       " 'S_2_2_0_0*S_1_1_1_2',\n",
       " 'S_2_2_1_2']"
      ]
     },
     "metadata": {},
     "execution_count": 302
    }
   ],
   "source": [
    "solution_list"
   ]
  },
  {
   "cell_type": "code",
   "execution_count": 303,
   "metadata": {},
   "outputs": [],
   "source": [
    "#Turn D-wave solution into list of [i,j,l,k] arrays\n",
    "def get_unqiue_vars(solution):\n",
    "    solution_list = [k for k, v in solution.items() if v == 1]\n",
    "    a = [s.split('*S') for s in solution_list]\n",
    "    b = [s[0].split('S') for s in a]\n",
    "    c = [s[1].split('_')[1:] for s in b]\n",
    "    unique_sols = []\n",
    "    for lst in c: \n",
    "        if lst not in unique_sols:\n",
    "            unique_sols.append(lst)\n",
    "    d = [s.split('_')[1:] for s in solution_list]\n",
    "    degenerate_solutions = [sols for sols in d if len(sols) == 4]\n",
    "    return unique_sols,degenerate_solutions"
   ]
  },
  {
   "cell_type": "code",
   "execution_count": 304,
   "metadata": {},
   "outputs": [],
   "source": [
    "unqiue_sols,degenerate_solutions = get_unqiue_vars(best_solution)"
   ]
  },
  {
   "cell_type": "code",
   "execution_count": 305,
   "metadata": {},
   "outputs": [
    {
     "output_type": "execute_result",
     "data": {
      "text/plain": [
       "(18, 18)"
      ]
     },
     "metadata": {},
     "execution_count": 305
    }
   ],
   "source": [
    "len(unqiue_sols),len(degenerate_solutions)"
   ]
  },
  {
   "cell_type": "code",
   "execution_count": 306,
   "metadata": {},
   "outputs": [
    {
     "output_type": "execute_result",
     "data": {
      "text/plain": [
       "([['0', '0', '0', '2'],\n",
       "  ['0', '0', '1', '1'],\n",
       "  ['0', '1', '0', '0'],\n",
       "  ['0', '1', '1', '0'],\n",
       "  ['0', '2', '0', '1'],\n",
       "  ['0', '2', '1', '0'],\n",
       "  ['1', '0', '0', '1'],\n",
       "  ['1', '0', '1', '2'],\n",
       "  ['1', '1', '0', '1'],\n",
       "  ['1', '1', '1', '2'],\n",
       "  ['1', '2', '0', '2'],\n",
       "  ['1', '2', '1', '0'],\n",
       "  ['2', '0', '0', '2'],\n",
       "  ['2', '0', '1', '2'],\n",
       "  ['2', '1', '0', '1'],\n",
       "  ['2', '1', '1', '1'],\n",
       "  ['2', '2', '0', '0'],\n",
       "  ['2', '2', '1', '2']],\n",
       " [['0', '0', '0', '2'],\n",
       "  ['0', '0', '1', '1'],\n",
       "  ['0', '1', '0', '0'],\n",
       "  ['0', '1', '1', '0'],\n",
       "  ['0', '2', '0', '1'],\n",
       "  ['0', '2', '1', '0'],\n",
       "  ['1', '0', '0', '1'],\n",
       "  ['1', '0', '1', '2'],\n",
       "  ['1', '1', '0', '1'],\n",
       "  ['1', '1', '1', '2'],\n",
       "  ['1', '2', '0', '2'],\n",
       "  ['1', '2', '1', '0'],\n",
       "  ['2', '0', '0', '2'],\n",
       "  ['2', '0', '1', '2'],\n",
       "  ['2', '1', '0', '1'],\n",
       "  ['2', '1', '1', '1'],\n",
       "  ['2', '2', '0', '0'],\n",
       "  ['2', '2', '1', '2']])"
      ]
     },
     "metadata": {},
     "execution_count": 306
    }
   ],
   "source": [
    "unqiue_sols,degenerate_solutions"
   ]
  },
  {
   "cell_type": "code",
   "execution_count": 307,
   "metadata": {},
   "outputs": [],
   "source": [
    "A = np.zeros((L,x,y), dtype = 'int32')"
   ]
  },
  {
   "cell_type": "code",
   "execution_count": 308,
   "metadata": {},
   "outputs": [
    {
     "output_type": "stream",
     "name": "stdout",
     "text": [
      "(1, 2)  is a duplicate tuple\n"
     ]
    }
   ],
   "source": [
    "k_k = []\n",
    "for sol in degenerate_solutions:\n",
    "    A[int(sol[2]),int(sol[0]),int(sol[1])] = int(sol[3])\n",
    "   # print(sol[0],sol[1],sol[2],sol[3])\n",
    "    \n",
    "for i in range(x):\n",
    "    for j in range(y):\n",
    "        if (A[0,i,j],A[1,i,j]) in k_k:\n",
    "            print((A[0,i,j],A[1,i,j]), ' is a duplicate tuple')\n",
    "        k_k.append((A[0,i,j],A[1,i,j]))\n",
    "        "
   ]
  },
  {
   "cell_type": "code",
   "execution_count": 309,
   "metadata": {},
   "outputs": [
    {
     "output_type": "execute_result",
     "data": {
      "text/plain": [
       "array([[[2, 0, 1],\n",
       "        [1, 1, 2],\n",
       "        [2, 1, 0]],\n",
       "\n",
       "       [[1, 0, 0],\n",
       "        [2, 2, 0],\n",
       "        [2, 1, 2]]], dtype=int32)"
      ]
     },
     "metadata": {},
     "execution_count": 309
    }
   ],
   "source": [
    "A"
   ]
  },
  {
   "cell_type": "code",
   "execution_count": 310,
   "metadata": {},
   "outputs": [
    {
     "output_type": "stream",
     "name": "stdout",
     "text": [
      "layer 0, row 0 passes\nlayer 0, row 1 fails\nlayer 0, row 2 passes\n3  :  3\nlayer 0, column 0 fails\n3  :  3\nlayer 0, column 1 fails\nlayer 0, column 2 passes\nlayer 1, row 0 fails\nlayer 1, row 1 fails\nlayer 1, row 2 fails\n3  :  3\nlayer 1, column 0 fails\nlayer 1, column 1 passes\n3  :  3\nlayer 1, column 2 fails\n4  rows or columns have failed\nNon-unique tuples exist\n"
     ]
    }
   ],
   "source": [
    "#check rows and cols:\n",
    "f = 0\n",
    "for l in range(A.shape[0]):\n",
    "    for i in range(A.shape[1]):\n",
    "        if len(set(A[l,i,:])) != A.shape[1]:\n",
    "            print(f'layer {l}, row {i} fails')\n",
    "            #print(len(set(A[0,i,:])), ' : ' ,A.shape[1])\n",
    "        else:\n",
    "            print(f'layer {l}, row {i} passes') \n",
    "\n",
    "    for j in range(A.shape[2]):\n",
    "        if len(set(A[l,:,j])) != A.shape[2]:\n",
    "            print(len(set(A[0,i,:])), ' : ' ,A.shape[2])\n",
    "            print(f'layer {l}, column {j} fails')\n",
    "            f += 1\n",
    "        else:\n",
    "            print(f'layer {l}, column {j} passes') \n",
    "print(f, ' rows or columns have failed')\n",
    "#Check tuples\n",
    "if len(list(set(k_k))) == len(k_k):\n",
    "    print('All tuples are unique')\n",
    "else:\n",
    "    print('Non-unique tuples exist')"
   ]
  },
  {
   "cell_type": "code",
   "execution_count": null,
   "metadata": {},
   "outputs": [],
   "source": []
  },
  {
   "cell_type": "code",
   "execution_count": null,
   "metadata": {},
   "outputs": [],
   "source": []
  },
  {
   "cell_type": "code",
   "execution_count": null,
   "metadata": {},
   "outputs": [],
   "source": []
  },
  {
   "cell_type": "code",
   "execution_count": null,
   "metadata": {},
   "outputs": [],
   "source": []
  },
  {
   "cell_type": "code",
   "execution_count": null,
   "metadata": {},
   "outputs": [],
   "source": []
  }
 ]
}